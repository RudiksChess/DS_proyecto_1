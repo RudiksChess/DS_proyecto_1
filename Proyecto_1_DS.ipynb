{
  "nbformat": 4,
  "nbformat_minor": 0,
  "metadata": {
    "interpreter": {
      "hash": "2757f2c2fa6babad547f4a3642c7cf29f9f98149abb7990afbb40d637e41adc8"
    },
    "kernelspec": {
      "name": "python3",
      "display_name": "Python 3.7.6 64-bit ('base': conda)"
    },
    "language_info": {
      "name": "python",
      "version": "3.7.6",
      "mimetype": "text/x-python",
      "codemirror_mode": {
        "name": "ipython",
        "version": 3
      },
      "pygments_lexer": "ipython3",
      "nbconvert_exporter": "python",
      "file_extension": ".py"
    },
    "colab": {
      "name": "Proyecto_1_DS.ipynb",
      "provenance": [],
      "collapsed_sections": [],
      "include_colab_link": true
    },
    "widgets": {
      "application/vnd.jupyter.widget-state+json": {
        "1f5314184c564848944491ef0e280b93": {
          "model_module": "@jupyter-widgets/controls",
          "model_name": "HBoxModel",
          "state": {
            "_view_name": "HBoxView",
            "_dom_classes": [],
            "_model_name": "HBoxModel",
            "_view_module": "@jupyter-widgets/controls",
            "_model_module_version": "1.5.0",
            "_view_count": null,
            "_view_module_version": "1.5.0",
            "box_style": "",
            "layout": "IPY_MODEL_1b8497a7a0de446ab9b8a72801d1c4d5",
            "_model_module": "@jupyter-widgets/controls",
            "children": [
              "IPY_MODEL_96883171d48e4540bbb12365e7cb29e3",
              "IPY_MODEL_5cb66f8084d746fca83a820627d86903",
              "IPY_MODEL_877306ac43514647a156006dcab3bc68"
            ]
          }
        },
        "1b8497a7a0de446ab9b8a72801d1c4d5": {
          "model_module": "@jupyter-widgets/base",
          "model_name": "LayoutModel",
          "state": {
            "_view_name": "LayoutView",
            "grid_template_rows": null,
            "right": null,
            "justify_content": null,
            "_view_module": "@jupyter-widgets/base",
            "overflow": null,
            "_model_module_version": "1.2.0",
            "_view_count": null,
            "flex_flow": null,
            "width": null,
            "min_width": null,
            "border": null,
            "align_items": null,
            "bottom": null,
            "_model_module": "@jupyter-widgets/base",
            "top": null,
            "grid_column": null,
            "overflow_y": null,
            "overflow_x": null,
            "grid_auto_flow": null,
            "grid_area": null,
            "grid_template_columns": null,
            "flex": null,
            "_model_name": "LayoutModel",
            "justify_items": null,
            "grid_row": null,
            "max_height": null,
            "align_content": null,
            "visibility": null,
            "align_self": null,
            "height": null,
            "min_height": null,
            "padding": null,
            "grid_auto_rows": null,
            "grid_gap": null,
            "max_width": null,
            "order": null,
            "_view_module_version": "1.2.0",
            "grid_template_areas": null,
            "object_position": null,
            "object_fit": null,
            "grid_auto_columns": null,
            "margin": null,
            "display": null,
            "left": null
          }
        },
        "96883171d48e4540bbb12365e7cb29e3": {
          "model_module": "@jupyter-widgets/controls",
          "model_name": "HTMLModel",
          "state": {
            "_view_name": "HTMLView",
            "style": "IPY_MODEL_d67fd083a9ae469cba435bf4468b67ad",
            "_dom_classes": [],
            "description": "",
            "_model_name": "HTMLModel",
            "placeholder": "​",
            "_view_module": "@jupyter-widgets/controls",
            "_model_module_version": "1.5.0",
            "value": "Summarize dataset: 100%",
            "_view_count": null,
            "_view_module_version": "1.5.0",
            "description_tooltip": null,
            "_model_module": "@jupyter-widgets/controls",
            "layout": "IPY_MODEL_a8843580322f4388be392df13d0f8301"
          }
        },
        "5cb66f8084d746fca83a820627d86903": {
          "model_module": "@jupyter-widgets/controls",
          "model_name": "FloatProgressModel",
          "state": {
            "_view_name": "ProgressView",
            "style": "IPY_MODEL_bb0d97b6212e443084cda124f538e39a",
            "_dom_classes": [],
            "description": "",
            "_model_name": "FloatProgressModel",
            "bar_style": "success",
            "max": 31,
            "_view_module": "@jupyter-widgets/controls",
            "_model_module_version": "1.5.0",
            "value": 31,
            "_view_count": null,
            "_view_module_version": "1.5.0",
            "orientation": "horizontal",
            "min": 0,
            "description_tooltip": null,
            "_model_module": "@jupyter-widgets/controls",
            "layout": "IPY_MODEL_c9ac97dae90b41acb9dd1a74b1acd3bf"
          }
        },
        "877306ac43514647a156006dcab3bc68": {
          "model_module": "@jupyter-widgets/controls",
          "model_name": "HTMLModel",
          "state": {
            "_view_name": "HTMLView",
            "style": "IPY_MODEL_f85a61866f0d49fa9cfc5887258f7670",
            "_dom_classes": [],
            "description": "",
            "_model_name": "HTMLModel",
            "placeholder": "​",
            "_view_module": "@jupyter-widgets/controls",
            "_model_module_version": "1.5.0",
            "value": " 31/31 [00:12&lt;00:00,  2.72it/s, Completed]",
            "_view_count": null,
            "_view_module_version": "1.5.0",
            "description_tooltip": null,
            "_model_module": "@jupyter-widgets/controls",
            "layout": "IPY_MODEL_dd6bb3abe2fe4c339da8d8cb9d1c5559"
          }
        },
        "d67fd083a9ae469cba435bf4468b67ad": {
          "model_module": "@jupyter-widgets/controls",
          "model_name": "DescriptionStyleModel",
          "state": {
            "_view_name": "StyleView",
            "_model_name": "DescriptionStyleModel",
            "description_width": "",
            "_view_module": "@jupyter-widgets/base",
            "_model_module_version": "1.5.0",
            "_view_count": null,
            "_view_module_version": "1.2.0",
            "_model_module": "@jupyter-widgets/controls"
          }
        },
        "a8843580322f4388be392df13d0f8301": {
          "model_module": "@jupyter-widgets/base",
          "model_name": "LayoutModel",
          "state": {
            "_view_name": "LayoutView",
            "grid_template_rows": null,
            "right": null,
            "justify_content": null,
            "_view_module": "@jupyter-widgets/base",
            "overflow": null,
            "_model_module_version": "1.2.0",
            "_view_count": null,
            "flex_flow": null,
            "width": null,
            "min_width": null,
            "border": null,
            "align_items": null,
            "bottom": null,
            "_model_module": "@jupyter-widgets/base",
            "top": null,
            "grid_column": null,
            "overflow_y": null,
            "overflow_x": null,
            "grid_auto_flow": null,
            "grid_area": null,
            "grid_template_columns": null,
            "flex": null,
            "_model_name": "LayoutModel",
            "justify_items": null,
            "grid_row": null,
            "max_height": null,
            "align_content": null,
            "visibility": null,
            "align_self": null,
            "height": null,
            "min_height": null,
            "padding": null,
            "grid_auto_rows": null,
            "grid_gap": null,
            "max_width": null,
            "order": null,
            "_view_module_version": "1.2.0",
            "grid_template_areas": null,
            "object_position": null,
            "object_fit": null,
            "grid_auto_columns": null,
            "margin": null,
            "display": null,
            "left": null
          }
        },
        "bb0d97b6212e443084cda124f538e39a": {
          "model_module": "@jupyter-widgets/controls",
          "model_name": "ProgressStyleModel",
          "state": {
            "_view_name": "StyleView",
            "_model_name": "ProgressStyleModel",
            "description_width": "",
            "_view_module": "@jupyter-widgets/base",
            "_model_module_version": "1.5.0",
            "_view_count": null,
            "_view_module_version": "1.2.0",
            "bar_color": null,
            "_model_module": "@jupyter-widgets/controls"
          }
        },
        "c9ac97dae90b41acb9dd1a74b1acd3bf": {
          "model_module": "@jupyter-widgets/base",
          "model_name": "LayoutModel",
          "state": {
            "_view_name": "LayoutView",
            "grid_template_rows": null,
            "right": null,
            "justify_content": null,
            "_view_module": "@jupyter-widgets/base",
            "overflow": null,
            "_model_module_version": "1.2.0",
            "_view_count": null,
            "flex_flow": null,
            "width": null,
            "min_width": null,
            "border": null,
            "align_items": null,
            "bottom": null,
            "_model_module": "@jupyter-widgets/base",
            "top": null,
            "grid_column": null,
            "overflow_y": null,
            "overflow_x": null,
            "grid_auto_flow": null,
            "grid_area": null,
            "grid_template_columns": null,
            "flex": null,
            "_model_name": "LayoutModel",
            "justify_items": null,
            "grid_row": null,
            "max_height": null,
            "align_content": null,
            "visibility": null,
            "align_self": null,
            "height": null,
            "min_height": null,
            "padding": null,
            "grid_auto_rows": null,
            "grid_gap": null,
            "max_width": null,
            "order": null,
            "_view_module_version": "1.2.0",
            "grid_template_areas": null,
            "object_position": null,
            "object_fit": null,
            "grid_auto_columns": null,
            "margin": null,
            "display": null,
            "left": null
          }
        },
        "f85a61866f0d49fa9cfc5887258f7670": {
          "model_module": "@jupyter-widgets/controls",
          "model_name": "DescriptionStyleModel",
          "state": {
            "_view_name": "StyleView",
            "_model_name": "DescriptionStyleModel",
            "description_width": "",
            "_view_module": "@jupyter-widgets/base",
            "_model_module_version": "1.5.0",
            "_view_count": null,
            "_view_module_version": "1.2.0",
            "_model_module": "@jupyter-widgets/controls"
          }
        },
        "dd6bb3abe2fe4c339da8d8cb9d1c5559": {
          "model_module": "@jupyter-widgets/base",
          "model_name": "LayoutModel",
          "state": {
            "_view_name": "LayoutView",
            "grid_template_rows": null,
            "right": null,
            "justify_content": null,
            "_view_module": "@jupyter-widgets/base",
            "overflow": null,
            "_model_module_version": "1.2.0",
            "_view_count": null,
            "flex_flow": null,
            "width": null,
            "min_width": null,
            "border": null,
            "align_items": null,
            "bottom": null,
            "_model_module": "@jupyter-widgets/base",
            "top": null,
            "grid_column": null,
            "overflow_y": null,
            "overflow_x": null,
            "grid_auto_flow": null,
            "grid_area": null,
            "grid_template_columns": null,
            "flex": null,
            "_model_name": "LayoutModel",
            "justify_items": null,
            "grid_row": null,
            "max_height": null,
            "align_content": null,
            "visibility": null,
            "align_self": null,
            "height": null,
            "min_height": null,
            "padding": null,
            "grid_auto_rows": null,
            "grid_gap": null,
            "max_width": null,
            "order": null,
            "_view_module_version": "1.2.0",
            "grid_template_areas": null,
            "object_position": null,
            "object_fit": null,
            "grid_auto_columns": null,
            "margin": null,
            "display": null,
            "left": null
          }
        },
        "4f6df372ff4749f28d6c7f7cf5f43bd9": {
          "model_module": "@jupyter-widgets/controls",
          "model_name": "HBoxModel",
          "state": {
            "_view_name": "HBoxView",
            "_dom_classes": [],
            "_model_name": "HBoxModel",
            "_view_module": "@jupyter-widgets/controls",
            "_model_module_version": "1.5.0",
            "_view_count": null,
            "_view_module_version": "1.5.0",
            "box_style": "",
            "layout": "IPY_MODEL_a8cf461555344033a17e7e04074fc350",
            "_model_module": "@jupyter-widgets/controls",
            "children": [
              "IPY_MODEL_92c5d9ac20564c089bea2428decbd7fb",
              "IPY_MODEL_d59981a0fb564039957a05a94cbb3194",
              "IPY_MODEL_be265ea3f9e740bfbbc3019e42bf7787"
            ]
          }
        },
        "a8cf461555344033a17e7e04074fc350": {
          "model_module": "@jupyter-widgets/base",
          "model_name": "LayoutModel",
          "state": {
            "_view_name": "LayoutView",
            "grid_template_rows": null,
            "right": null,
            "justify_content": null,
            "_view_module": "@jupyter-widgets/base",
            "overflow": null,
            "_model_module_version": "1.2.0",
            "_view_count": null,
            "flex_flow": null,
            "width": null,
            "min_width": null,
            "border": null,
            "align_items": null,
            "bottom": null,
            "_model_module": "@jupyter-widgets/base",
            "top": null,
            "grid_column": null,
            "overflow_y": null,
            "overflow_x": null,
            "grid_auto_flow": null,
            "grid_area": null,
            "grid_template_columns": null,
            "flex": null,
            "_model_name": "LayoutModel",
            "justify_items": null,
            "grid_row": null,
            "max_height": null,
            "align_content": null,
            "visibility": null,
            "align_self": null,
            "height": null,
            "min_height": null,
            "padding": null,
            "grid_auto_rows": null,
            "grid_gap": null,
            "max_width": null,
            "order": null,
            "_view_module_version": "1.2.0",
            "grid_template_areas": null,
            "object_position": null,
            "object_fit": null,
            "grid_auto_columns": null,
            "margin": null,
            "display": null,
            "left": null
          }
        },
        "92c5d9ac20564c089bea2428decbd7fb": {
          "model_module": "@jupyter-widgets/controls",
          "model_name": "HTMLModel",
          "state": {
            "_view_name": "HTMLView",
            "style": "IPY_MODEL_f7a2ad69789448f28d17f6649aa6b897",
            "_dom_classes": [],
            "description": "",
            "_model_name": "HTMLModel",
            "placeholder": "​",
            "_view_module": "@jupyter-widgets/controls",
            "_model_module_version": "1.5.0",
            "value": "Generate report structure: 100%",
            "_view_count": null,
            "_view_module_version": "1.5.0",
            "description_tooltip": null,
            "_model_module": "@jupyter-widgets/controls",
            "layout": "IPY_MODEL_df2e5eff282f4d52b074780dc69df1b9"
          }
        },
        "d59981a0fb564039957a05a94cbb3194": {
          "model_module": "@jupyter-widgets/controls",
          "model_name": "FloatProgressModel",
          "state": {
            "_view_name": "ProgressView",
            "style": "IPY_MODEL_094042029a7d4b4f95179f3cec49277f",
            "_dom_classes": [],
            "description": "",
            "_model_name": "FloatProgressModel",
            "bar_style": "success",
            "max": 1,
            "_view_module": "@jupyter-widgets/controls",
            "_model_module_version": "1.5.0",
            "value": 1,
            "_view_count": null,
            "_view_module_version": "1.5.0",
            "orientation": "horizontal",
            "min": 0,
            "description_tooltip": null,
            "_model_module": "@jupyter-widgets/controls",
            "layout": "IPY_MODEL_a57cd303ab6344399705bbccb2486ec9"
          }
        },
        "be265ea3f9e740bfbbc3019e42bf7787": {
          "model_module": "@jupyter-widgets/controls",
          "model_name": "HTMLModel",
          "state": {
            "_view_name": "HTMLView",
            "style": "IPY_MODEL_a6b4f65f0853429496780fcd2ef57b08",
            "_dom_classes": [],
            "description": "",
            "_model_name": "HTMLModel",
            "placeholder": "​",
            "_view_module": "@jupyter-widgets/controls",
            "_model_module_version": "1.5.0",
            "value": " 1/1 [00:10&lt;00:00, 10.52s/it]",
            "_view_count": null,
            "_view_module_version": "1.5.0",
            "description_tooltip": null,
            "_model_module": "@jupyter-widgets/controls",
            "layout": "IPY_MODEL_54eea8fe63f244f3a50cfae080e52b81"
          }
        },
        "f7a2ad69789448f28d17f6649aa6b897": {
          "model_module": "@jupyter-widgets/controls",
          "model_name": "DescriptionStyleModel",
          "state": {
            "_view_name": "StyleView",
            "_model_name": "DescriptionStyleModel",
            "description_width": "",
            "_view_module": "@jupyter-widgets/base",
            "_model_module_version": "1.5.0",
            "_view_count": null,
            "_view_module_version": "1.2.0",
            "_model_module": "@jupyter-widgets/controls"
          }
        },
        "df2e5eff282f4d52b074780dc69df1b9": {
          "model_module": "@jupyter-widgets/base",
          "model_name": "LayoutModel",
          "state": {
            "_view_name": "LayoutView",
            "grid_template_rows": null,
            "right": null,
            "justify_content": null,
            "_view_module": "@jupyter-widgets/base",
            "overflow": null,
            "_model_module_version": "1.2.0",
            "_view_count": null,
            "flex_flow": null,
            "width": null,
            "min_width": null,
            "border": null,
            "align_items": null,
            "bottom": null,
            "_model_module": "@jupyter-widgets/base",
            "top": null,
            "grid_column": null,
            "overflow_y": null,
            "overflow_x": null,
            "grid_auto_flow": null,
            "grid_area": null,
            "grid_template_columns": null,
            "flex": null,
            "_model_name": "LayoutModel",
            "justify_items": null,
            "grid_row": null,
            "max_height": null,
            "align_content": null,
            "visibility": null,
            "align_self": null,
            "height": null,
            "min_height": null,
            "padding": null,
            "grid_auto_rows": null,
            "grid_gap": null,
            "max_width": null,
            "order": null,
            "_view_module_version": "1.2.0",
            "grid_template_areas": null,
            "object_position": null,
            "object_fit": null,
            "grid_auto_columns": null,
            "margin": null,
            "display": null,
            "left": null
          }
        },
        "094042029a7d4b4f95179f3cec49277f": {
          "model_module": "@jupyter-widgets/controls",
          "model_name": "ProgressStyleModel",
          "state": {
            "_view_name": "StyleView",
            "_model_name": "ProgressStyleModel",
            "description_width": "",
            "_view_module": "@jupyter-widgets/base",
            "_model_module_version": "1.5.0",
            "_view_count": null,
            "_view_module_version": "1.2.0",
            "bar_color": null,
            "_model_module": "@jupyter-widgets/controls"
          }
        },
        "a57cd303ab6344399705bbccb2486ec9": {
          "model_module": "@jupyter-widgets/base",
          "model_name": "LayoutModel",
          "state": {
            "_view_name": "LayoutView",
            "grid_template_rows": null,
            "right": null,
            "justify_content": null,
            "_view_module": "@jupyter-widgets/base",
            "overflow": null,
            "_model_module_version": "1.2.0",
            "_view_count": null,
            "flex_flow": null,
            "width": null,
            "min_width": null,
            "border": null,
            "align_items": null,
            "bottom": null,
            "_model_module": "@jupyter-widgets/base",
            "top": null,
            "grid_column": null,
            "overflow_y": null,
            "overflow_x": null,
            "grid_auto_flow": null,
            "grid_area": null,
            "grid_template_columns": null,
            "flex": null,
            "_model_name": "LayoutModel",
            "justify_items": null,
            "grid_row": null,
            "max_height": null,
            "align_content": null,
            "visibility": null,
            "align_self": null,
            "height": null,
            "min_height": null,
            "padding": null,
            "grid_auto_rows": null,
            "grid_gap": null,
            "max_width": null,
            "order": null,
            "_view_module_version": "1.2.0",
            "grid_template_areas": null,
            "object_position": null,
            "object_fit": null,
            "grid_auto_columns": null,
            "margin": null,
            "display": null,
            "left": null
          }
        },
        "a6b4f65f0853429496780fcd2ef57b08": {
          "model_module": "@jupyter-widgets/controls",
          "model_name": "DescriptionStyleModel",
          "state": {
            "_view_name": "StyleView",
            "_model_name": "DescriptionStyleModel",
            "description_width": "",
            "_view_module": "@jupyter-widgets/base",
            "_model_module_version": "1.5.0",
            "_view_count": null,
            "_view_module_version": "1.2.0",
            "_model_module": "@jupyter-widgets/controls"
          }
        },
        "54eea8fe63f244f3a50cfae080e52b81": {
          "model_module": "@jupyter-widgets/base",
          "model_name": "LayoutModel",
          "state": {
            "_view_name": "LayoutView",
            "grid_template_rows": null,
            "right": null,
            "justify_content": null,
            "_view_module": "@jupyter-widgets/base",
            "overflow": null,
            "_model_module_version": "1.2.0",
            "_view_count": null,
            "flex_flow": null,
            "width": null,
            "min_width": null,
            "border": null,
            "align_items": null,
            "bottom": null,
            "_model_module": "@jupyter-widgets/base",
            "top": null,
            "grid_column": null,
            "overflow_y": null,
            "overflow_x": null,
            "grid_auto_flow": null,
            "grid_area": null,
            "grid_template_columns": null,
            "flex": null,
            "_model_name": "LayoutModel",
            "justify_items": null,
            "grid_row": null,
            "max_height": null,
            "align_content": null,
            "visibility": null,
            "align_self": null,
            "height": null,
            "min_height": null,
            "padding": null,
            "grid_auto_rows": null,
            "grid_gap": null,
            "max_width": null,
            "order": null,
            "_view_module_version": "1.2.0",
            "grid_template_areas": null,
            "object_position": null,
            "object_fit": null,
            "grid_auto_columns": null,
            "margin": null,
            "display": null,
            "left": null
          }
        },
        "f53ae745167e44a98a9a1324dc10607f": {
          "model_module": "@jupyter-widgets/controls",
          "model_name": "HBoxModel",
          "state": {
            "_view_name": "HBoxView",
            "_dom_classes": [],
            "_model_name": "HBoxModel",
            "_view_module": "@jupyter-widgets/controls",
            "_model_module_version": "1.5.0",
            "_view_count": null,
            "_view_module_version": "1.5.0",
            "box_style": "",
            "layout": "IPY_MODEL_18a51671e2b84abfa13a6c4a3a6e16d5",
            "_model_module": "@jupyter-widgets/controls",
            "children": [
              "IPY_MODEL_dde9dc4e76484a43be22d9fc2a3937b9",
              "IPY_MODEL_51bd8635a3ac4fd3b31cae363b38e0d7",
              "IPY_MODEL_78f917c6e2c84e409c9f11421b4c5a07"
            ]
          }
        },
        "18a51671e2b84abfa13a6c4a3a6e16d5": {
          "model_module": "@jupyter-widgets/base",
          "model_name": "LayoutModel",
          "state": {
            "_view_name": "LayoutView",
            "grid_template_rows": null,
            "right": null,
            "justify_content": null,
            "_view_module": "@jupyter-widgets/base",
            "overflow": null,
            "_model_module_version": "1.2.0",
            "_view_count": null,
            "flex_flow": null,
            "width": null,
            "min_width": null,
            "border": null,
            "align_items": null,
            "bottom": null,
            "_model_module": "@jupyter-widgets/base",
            "top": null,
            "grid_column": null,
            "overflow_y": null,
            "overflow_x": null,
            "grid_auto_flow": null,
            "grid_area": null,
            "grid_template_columns": null,
            "flex": null,
            "_model_name": "LayoutModel",
            "justify_items": null,
            "grid_row": null,
            "max_height": null,
            "align_content": null,
            "visibility": null,
            "align_self": null,
            "height": null,
            "min_height": null,
            "padding": null,
            "grid_auto_rows": null,
            "grid_gap": null,
            "max_width": null,
            "order": null,
            "_view_module_version": "1.2.0",
            "grid_template_areas": null,
            "object_position": null,
            "object_fit": null,
            "grid_auto_columns": null,
            "margin": null,
            "display": null,
            "left": null
          }
        },
        "dde9dc4e76484a43be22d9fc2a3937b9": {
          "model_module": "@jupyter-widgets/controls",
          "model_name": "HTMLModel",
          "state": {
            "_view_name": "HTMLView",
            "style": "IPY_MODEL_028ce0b0b1034266928814ffee62de71",
            "_dom_classes": [],
            "description": "",
            "_model_name": "HTMLModel",
            "placeholder": "​",
            "_view_module": "@jupyter-widgets/controls",
            "_model_module_version": "1.5.0",
            "value": "Render HTML: 100%",
            "_view_count": null,
            "_view_module_version": "1.5.0",
            "description_tooltip": null,
            "_model_module": "@jupyter-widgets/controls",
            "layout": "IPY_MODEL_41c7779639344bae848f3108e536a3ad"
          }
        },
        "51bd8635a3ac4fd3b31cae363b38e0d7": {
          "model_module": "@jupyter-widgets/controls",
          "model_name": "FloatProgressModel",
          "state": {
            "_view_name": "ProgressView",
            "style": "IPY_MODEL_a06f9e0348bb4cb38e6733f994c5fc48",
            "_dom_classes": [],
            "description": "",
            "_model_name": "FloatProgressModel",
            "bar_style": "success",
            "max": 1,
            "_view_module": "@jupyter-widgets/controls",
            "_model_module_version": "1.5.0",
            "value": 1,
            "_view_count": null,
            "_view_module_version": "1.5.0",
            "orientation": "horizontal",
            "min": 0,
            "description_tooltip": null,
            "_model_module": "@jupyter-widgets/controls",
            "layout": "IPY_MODEL_911224c8cd58494e87d4c43d1d296b19"
          }
        },
        "78f917c6e2c84e409c9f11421b4c5a07": {
          "model_module": "@jupyter-widgets/controls",
          "model_name": "HTMLModel",
          "state": {
            "_view_name": "HTMLView",
            "style": "IPY_MODEL_ba0fda02d98d46ef9f0c49e952504d6e",
            "_dom_classes": [],
            "description": "",
            "_model_name": "HTMLModel",
            "placeholder": "​",
            "_view_module": "@jupyter-widgets/controls",
            "_model_module_version": "1.5.0",
            "value": " 1/1 [00:01&lt;00:00,  1.09s/it]",
            "_view_count": null,
            "_view_module_version": "1.5.0",
            "description_tooltip": null,
            "_model_module": "@jupyter-widgets/controls",
            "layout": "IPY_MODEL_37971362e49e4c2e9359fb12ef8a3e9b"
          }
        },
        "028ce0b0b1034266928814ffee62de71": {
          "model_module": "@jupyter-widgets/controls",
          "model_name": "DescriptionStyleModel",
          "state": {
            "_view_name": "StyleView",
            "_model_name": "DescriptionStyleModel",
            "description_width": "",
            "_view_module": "@jupyter-widgets/base",
            "_model_module_version": "1.5.0",
            "_view_count": null,
            "_view_module_version": "1.2.0",
            "_model_module": "@jupyter-widgets/controls"
          }
        },
        "41c7779639344bae848f3108e536a3ad": {
          "model_module": "@jupyter-widgets/base",
          "model_name": "LayoutModel",
          "state": {
            "_view_name": "LayoutView",
            "grid_template_rows": null,
            "right": null,
            "justify_content": null,
            "_view_module": "@jupyter-widgets/base",
            "overflow": null,
            "_model_module_version": "1.2.0",
            "_view_count": null,
            "flex_flow": null,
            "width": null,
            "min_width": null,
            "border": null,
            "align_items": null,
            "bottom": null,
            "_model_module": "@jupyter-widgets/base",
            "top": null,
            "grid_column": null,
            "overflow_y": null,
            "overflow_x": null,
            "grid_auto_flow": null,
            "grid_area": null,
            "grid_template_columns": null,
            "flex": null,
            "_model_name": "LayoutModel",
            "justify_items": null,
            "grid_row": null,
            "max_height": null,
            "align_content": null,
            "visibility": null,
            "align_self": null,
            "height": null,
            "min_height": null,
            "padding": null,
            "grid_auto_rows": null,
            "grid_gap": null,
            "max_width": null,
            "order": null,
            "_view_module_version": "1.2.0",
            "grid_template_areas": null,
            "object_position": null,
            "object_fit": null,
            "grid_auto_columns": null,
            "margin": null,
            "display": null,
            "left": null
          }
        },
        "a06f9e0348bb4cb38e6733f994c5fc48": {
          "model_module": "@jupyter-widgets/controls",
          "model_name": "ProgressStyleModel",
          "state": {
            "_view_name": "StyleView",
            "_model_name": "ProgressStyleModel",
            "description_width": "",
            "_view_module": "@jupyter-widgets/base",
            "_model_module_version": "1.5.0",
            "_view_count": null,
            "_view_module_version": "1.2.0",
            "bar_color": null,
            "_model_module": "@jupyter-widgets/controls"
          }
        },
        "911224c8cd58494e87d4c43d1d296b19": {
          "model_module": "@jupyter-widgets/base",
          "model_name": "LayoutModel",
          "state": {
            "_view_name": "LayoutView",
            "grid_template_rows": null,
            "right": null,
            "justify_content": null,
            "_view_module": "@jupyter-widgets/base",
            "overflow": null,
            "_model_module_version": "1.2.0",
            "_view_count": null,
            "flex_flow": null,
            "width": null,
            "min_width": null,
            "border": null,
            "align_items": null,
            "bottom": null,
            "_model_module": "@jupyter-widgets/base",
            "top": null,
            "grid_column": null,
            "overflow_y": null,
            "overflow_x": null,
            "grid_auto_flow": null,
            "grid_area": null,
            "grid_template_columns": null,
            "flex": null,
            "_model_name": "LayoutModel",
            "justify_items": null,
            "grid_row": null,
            "max_height": null,
            "align_content": null,
            "visibility": null,
            "align_self": null,
            "height": null,
            "min_height": null,
            "padding": null,
            "grid_auto_rows": null,
            "grid_gap": null,
            "max_width": null,
            "order": null,
            "_view_module_version": "1.2.0",
            "grid_template_areas": null,
            "object_position": null,
            "object_fit": null,
            "grid_auto_columns": null,
            "margin": null,
            "display": null,
            "left": null
          }
        },
        "ba0fda02d98d46ef9f0c49e952504d6e": {
          "model_module": "@jupyter-widgets/controls",
          "model_name": "DescriptionStyleModel",
          "state": {
            "_view_name": "StyleView",
            "_model_name": "DescriptionStyleModel",
            "description_width": "",
            "_view_module": "@jupyter-widgets/base",
            "_model_module_version": "1.5.0",
            "_view_count": null,
            "_view_module_version": "1.2.0",
            "_model_module": "@jupyter-widgets/controls"
          }
        },
        "37971362e49e4c2e9359fb12ef8a3e9b": {
          "model_module": "@jupyter-widgets/base",
          "model_name": "LayoutModel",
          "state": {
            "_view_name": "LayoutView",
            "grid_template_rows": null,
            "right": null,
            "justify_content": null,
            "_view_module": "@jupyter-widgets/base",
            "overflow": null,
            "_model_module_version": "1.2.0",
            "_view_count": null,
            "flex_flow": null,
            "width": null,
            "min_width": null,
            "border": null,
            "align_items": null,
            "bottom": null,
            "_model_module": "@jupyter-widgets/base",
            "top": null,
            "grid_column": null,
            "overflow_y": null,
            "overflow_x": null,
            "grid_auto_flow": null,
            "grid_area": null,
            "grid_template_columns": null,
            "flex": null,
            "_model_name": "LayoutModel",
            "justify_items": null,
            "grid_row": null,
            "max_height": null,
            "align_content": null,
            "visibility": null,
            "align_self": null,
            "height": null,
            "min_height": null,
            "padding": null,
            "grid_auto_rows": null,
            "grid_gap": null,
            "max_width": null,
            "order": null,
            "_view_module_version": "1.2.0",
            "grid_template_areas": null,
            "object_position": null,
            "object_fit": null,
            "grid_auto_columns": null,
            "margin": null,
            "display": null,
            "left": null
          }
        },
        "016d86f6c77f47728704a42d942f25cf": {
          "model_module": "@jupyter-widgets/controls",
          "model_name": "HBoxModel",
          "state": {
            "_view_name": "HBoxView",
            "_dom_classes": [],
            "_model_name": "HBoxModel",
            "_view_module": "@jupyter-widgets/controls",
            "_model_module_version": "1.5.0",
            "_view_count": null,
            "_view_module_version": "1.5.0",
            "box_style": "",
            "layout": "IPY_MODEL_0298164886124161893c1f25f5327067",
            "_model_module": "@jupyter-widgets/controls",
            "children": [
              "IPY_MODEL_7879fc27336343ac955ffa806cc36a9c",
              "IPY_MODEL_be983732cbce445cadf9c329893ee130",
              "IPY_MODEL_36be7fd844df4807adfd9a171ebf4bee"
            ]
          }
        },
        "0298164886124161893c1f25f5327067": {
          "model_module": "@jupyter-widgets/base",
          "model_name": "LayoutModel",
          "state": {
            "_view_name": "LayoutView",
            "grid_template_rows": null,
            "right": null,
            "justify_content": null,
            "_view_module": "@jupyter-widgets/base",
            "overflow": null,
            "_model_module_version": "1.2.0",
            "_view_count": null,
            "flex_flow": null,
            "width": null,
            "min_width": null,
            "border": null,
            "align_items": null,
            "bottom": null,
            "_model_module": "@jupyter-widgets/base",
            "top": null,
            "grid_column": null,
            "overflow_y": null,
            "overflow_x": null,
            "grid_auto_flow": null,
            "grid_area": null,
            "grid_template_columns": null,
            "flex": null,
            "_model_name": "LayoutModel",
            "justify_items": null,
            "grid_row": null,
            "max_height": null,
            "align_content": null,
            "visibility": null,
            "align_self": null,
            "height": null,
            "min_height": null,
            "padding": null,
            "grid_auto_rows": null,
            "grid_gap": null,
            "max_width": null,
            "order": null,
            "_view_module_version": "1.2.0",
            "grid_template_areas": null,
            "object_position": null,
            "object_fit": null,
            "grid_auto_columns": null,
            "margin": null,
            "display": null,
            "left": null
          }
        },
        "7879fc27336343ac955ffa806cc36a9c": {
          "model_module": "@jupyter-widgets/controls",
          "model_name": "HTMLModel",
          "state": {
            "_view_name": "HTMLView",
            "style": "IPY_MODEL_0c3c1194412546a79431cbabcb937e39",
            "_dom_classes": [],
            "description": "",
            "_model_name": "HTMLModel",
            "placeholder": "​",
            "_view_module": "@jupyter-widgets/controls",
            "_model_module_version": "1.5.0",
            "value": "Export report to file: 100%",
            "_view_count": null,
            "_view_module_version": "1.5.0",
            "description_tooltip": null,
            "_model_module": "@jupyter-widgets/controls",
            "layout": "IPY_MODEL_570439bb4b4f4c5c90908ac66576e941"
          }
        },
        "be983732cbce445cadf9c329893ee130": {
          "model_module": "@jupyter-widgets/controls",
          "model_name": "FloatProgressModel",
          "state": {
            "_view_name": "ProgressView",
            "style": "IPY_MODEL_3997551703204accba786de93f0e290d",
            "_dom_classes": [],
            "description": "",
            "_model_name": "FloatProgressModel",
            "bar_style": "success",
            "max": 1,
            "_view_module": "@jupyter-widgets/controls",
            "_model_module_version": "1.5.0",
            "value": 1,
            "_view_count": null,
            "_view_module_version": "1.5.0",
            "orientation": "horizontal",
            "min": 0,
            "description_tooltip": null,
            "_model_module": "@jupyter-widgets/controls",
            "layout": "IPY_MODEL_945e6c59d5c241558a810ee27d7f21d4"
          }
        },
        "36be7fd844df4807adfd9a171ebf4bee": {
          "model_module": "@jupyter-widgets/controls",
          "model_name": "HTMLModel",
          "state": {
            "_view_name": "HTMLView",
            "style": "IPY_MODEL_121542dc7daf4c7291865bc296cc7286",
            "_dom_classes": [],
            "description": "",
            "_model_name": "HTMLModel",
            "placeholder": "​",
            "_view_module": "@jupyter-widgets/controls",
            "_model_module_version": "1.5.0",
            "value": " 1/1 [00:00&lt;00:00, 26.92it/s]",
            "_view_count": null,
            "_view_module_version": "1.5.0",
            "description_tooltip": null,
            "_model_module": "@jupyter-widgets/controls",
            "layout": "IPY_MODEL_2bd0a7ca30ea46aeb70a889099ebc961"
          }
        },
        "0c3c1194412546a79431cbabcb937e39": {
          "model_module": "@jupyter-widgets/controls",
          "model_name": "DescriptionStyleModel",
          "state": {
            "_view_name": "StyleView",
            "_model_name": "DescriptionStyleModel",
            "description_width": "",
            "_view_module": "@jupyter-widgets/base",
            "_model_module_version": "1.5.0",
            "_view_count": null,
            "_view_module_version": "1.2.0",
            "_model_module": "@jupyter-widgets/controls"
          }
        },
        "570439bb4b4f4c5c90908ac66576e941": {
          "model_module": "@jupyter-widgets/base",
          "model_name": "LayoutModel",
          "state": {
            "_view_name": "LayoutView",
            "grid_template_rows": null,
            "right": null,
            "justify_content": null,
            "_view_module": "@jupyter-widgets/base",
            "overflow": null,
            "_model_module_version": "1.2.0",
            "_view_count": null,
            "flex_flow": null,
            "width": null,
            "min_width": null,
            "border": null,
            "align_items": null,
            "bottom": null,
            "_model_module": "@jupyter-widgets/base",
            "top": null,
            "grid_column": null,
            "overflow_y": null,
            "overflow_x": null,
            "grid_auto_flow": null,
            "grid_area": null,
            "grid_template_columns": null,
            "flex": null,
            "_model_name": "LayoutModel",
            "justify_items": null,
            "grid_row": null,
            "max_height": null,
            "align_content": null,
            "visibility": null,
            "align_self": null,
            "height": null,
            "min_height": null,
            "padding": null,
            "grid_auto_rows": null,
            "grid_gap": null,
            "max_width": null,
            "order": null,
            "_view_module_version": "1.2.0",
            "grid_template_areas": null,
            "object_position": null,
            "object_fit": null,
            "grid_auto_columns": null,
            "margin": null,
            "display": null,
            "left": null
          }
        },
        "3997551703204accba786de93f0e290d": {
          "model_module": "@jupyter-widgets/controls",
          "model_name": "ProgressStyleModel",
          "state": {
            "_view_name": "StyleView",
            "_model_name": "ProgressStyleModel",
            "description_width": "",
            "_view_module": "@jupyter-widgets/base",
            "_model_module_version": "1.5.0",
            "_view_count": null,
            "_view_module_version": "1.2.0",
            "bar_color": null,
            "_model_module": "@jupyter-widgets/controls"
          }
        },
        "945e6c59d5c241558a810ee27d7f21d4": {
          "model_module": "@jupyter-widgets/base",
          "model_name": "LayoutModel",
          "state": {
            "_view_name": "LayoutView",
            "grid_template_rows": null,
            "right": null,
            "justify_content": null,
            "_view_module": "@jupyter-widgets/base",
            "overflow": null,
            "_model_module_version": "1.2.0",
            "_view_count": null,
            "flex_flow": null,
            "width": null,
            "min_width": null,
            "border": null,
            "align_items": null,
            "bottom": null,
            "_model_module": "@jupyter-widgets/base",
            "top": null,
            "grid_column": null,
            "overflow_y": null,
            "overflow_x": null,
            "grid_auto_flow": null,
            "grid_area": null,
            "grid_template_columns": null,
            "flex": null,
            "_model_name": "LayoutModel",
            "justify_items": null,
            "grid_row": null,
            "max_height": null,
            "align_content": null,
            "visibility": null,
            "align_self": null,
            "height": null,
            "min_height": null,
            "padding": null,
            "grid_auto_rows": null,
            "grid_gap": null,
            "max_width": null,
            "order": null,
            "_view_module_version": "1.2.0",
            "grid_template_areas": null,
            "object_position": null,
            "object_fit": null,
            "grid_auto_columns": null,
            "margin": null,
            "display": null,
            "left": null
          }
        },
        "121542dc7daf4c7291865bc296cc7286": {
          "model_module": "@jupyter-widgets/controls",
          "model_name": "DescriptionStyleModel",
          "state": {
            "_view_name": "StyleView",
            "_model_name": "DescriptionStyleModel",
            "description_width": "",
            "_view_module": "@jupyter-widgets/base",
            "_model_module_version": "1.5.0",
            "_view_count": null,
            "_view_module_version": "1.2.0",
            "_model_module": "@jupyter-widgets/controls"
          }
        },
        "2bd0a7ca30ea46aeb70a889099ebc961": {
          "model_module": "@jupyter-widgets/base",
          "model_name": "LayoutModel",
          "state": {
            "_view_name": "LayoutView",
            "grid_template_rows": null,
            "right": null,
            "justify_content": null,
            "_view_module": "@jupyter-widgets/base",
            "overflow": null,
            "_model_module_version": "1.2.0",
            "_view_count": null,
            "flex_flow": null,
            "width": null,
            "min_width": null,
            "border": null,
            "align_items": null,
            "bottom": null,
            "_model_module": "@jupyter-widgets/base",
            "top": null,
            "grid_column": null,
            "overflow_y": null,
            "overflow_x": null,
            "grid_auto_flow": null,
            "grid_area": null,
            "grid_template_columns": null,
            "flex": null,
            "_model_name": "LayoutModel",
            "justify_items": null,
            "grid_row": null,
            "max_height": null,
            "align_content": null,
            "visibility": null,
            "align_self": null,
            "height": null,
            "min_height": null,
            "padding": null,
            "grid_auto_rows": null,
            "grid_gap": null,
            "max_width": null,
            "order": null,
            "_view_module_version": "1.2.0",
            "grid_template_areas": null,
            "object_position": null,
            "object_fit": null,
            "grid_auto_columns": null,
            "margin": null,
            "display": null,
            "left": null
          }
        }
      }
    }
  },
  "cells": [
    {
      "cell_type": "markdown",
      "metadata": {
        "id": "view-in-github",
        "colab_type": "text"
      },
      "source": [
        "<a href=\"https://colab.research.google.com/github/AngelloDavincii/DS_proyecto_1/blob/main/Proyecto_1_DS.ipynb\" target=\"_parent\"><img src=\"https://colab.research.google.com/assets/colab-badge.svg\" alt=\"Open In Colab\"/></a>"
      ]
    },
    {
      "cell_type": "markdown",
      "metadata": {
        "id": "jaaM9nKAOlUO"
      },
      "source": [
        "<h1><center>Proyecto 1 Data Science</center></h1>\n",
        "<h2><center>Catedrático Ing Luis Furlan</center></h2>\n",
        "<h3><center>Realizado por:</center></h3>\n",
        "<h3><center>Augusto Alonso, Rudik Rompich, David Cuellar</center></h3>\n",
        "<h3><center>Grupo #1</center></h3>"
      ]
    },
    {
      "cell_type": "code",
      "metadata": {
        "colab": {
          "base_uri": "https://localhost:8080/"
        },
        "id": "aI5iPNsdMXSW",
        "outputId": "f21e59e9-6eee-47b9-b74e-e995f693ca11"
      },
      "source": [
        "! pip install https://github.com/pandas-profiling/pandas-profiling/archive/master.zip"
      ],
      "execution_count": 1,
      "outputs": [
        {
          "output_type": "stream",
          "text": [
            "Collecting https://github.com/pandas-profiling/pandas-profiling/archive/master.zip\n",
            "  Using cached https://github.com/pandas-profiling/pandas-profiling/archive/master.zip\n",
            "Requirement already satisfied: joblib in /usr/local/lib/python3.7/dist-packages (from pandas-profiling==3.0.0) (1.0.1)\n",
            "Requirement already satisfied: scipy>=1.4.1 in /usr/local/lib/python3.7/dist-packages (from pandas-profiling==3.0.0) (1.7.1)\n",
            "Requirement already satisfied: pandas!=1.0.0,!=1.0.1,!=1.0.2,!=1.1.0,>=0.25.3 in /usr/local/lib/python3.7/dist-packages (from pandas-profiling==3.0.0) (1.1.5)\n",
            "Requirement already satisfied: matplotlib>=3.2.0 in /usr/local/lib/python3.7/dist-packages (from pandas-profiling==3.0.0) (3.2.2)\n",
            "Requirement already satisfied: pydantic>=1.8.1 in /usr/local/lib/python3.7/dist-packages (from pandas-profiling==3.0.0) (1.8.2)\n",
            "Requirement already satisfied: PyYAML>=5.0.0 in /usr/local/lib/python3.7/dist-packages (from pandas-profiling==3.0.0) (5.4.1)\n",
            "Requirement already satisfied: jinja2>=2.11.1 in /usr/local/lib/python3.7/dist-packages (from pandas-profiling==3.0.0) (2.11.3)\n",
            "Requirement already satisfied: visions[type_image_path]==0.7.1 in /usr/local/lib/python3.7/dist-packages (from pandas-profiling==3.0.0) (0.7.1)\n",
            "Requirement already satisfied: numpy>=1.16.0 in /usr/local/lib/python3.7/dist-packages (from pandas-profiling==3.0.0) (1.19.5)\n",
            "Requirement already satisfied: htmlmin>=0.1.12 in /usr/local/lib/python3.7/dist-packages (from pandas-profiling==3.0.0) (0.1.12)\n",
            "Requirement already satisfied: missingno>=0.4.2 in /usr/local/lib/python3.7/dist-packages (from pandas-profiling==3.0.0) (0.5.0)\n",
            "Requirement already satisfied: phik>=0.11.1 in /usr/local/lib/python3.7/dist-packages (from pandas-profiling==3.0.0) (0.12.0)\n",
            "Requirement already satisfied: tangled-up-in-unicode==0.1.0 in /usr/local/lib/python3.7/dist-packages (from pandas-profiling==3.0.0) (0.1.0)\n",
            "Requirement already satisfied: requests>=2.24.0 in /usr/local/lib/python3.7/dist-packages (from pandas-profiling==3.0.0) (2.26.0)\n",
            "Requirement already satisfied: tqdm>=4.48.2 in /usr/local/lib/python3.7/dist-packages (from pandas-profiling==3.0.0) (4.62.0)\n",
            "Requirement already satisfied: seaborn>=0.10.1 in /usr/local/lib/python3.7/dist-packages (from pandas-profiling==3.0.0) (0.11.1)\n",
            "Requirement already satisfied: attrs>=19.3.0 in /usr/local/lib/python3.7/dist-packages (from visions[type_image_path]==0.7.1->pandas-profiling==3.0.0) (21.2.0)\n",
            "Requirement already satisfied: networkx>=2.4 in /usr/local/lib/python3.7/dist-packages (from visions[type_image_path]==0.7.1->pandas-profiling==3.0.0) (2.5.1)\n",
            "Requirement already satisfied: multimethod==1.4 in /usr/local/lib/python3.7/dist-packages (from visions[type_image_path]==0.7.1->pandas-profiling==3.0.0) (1.4)\n",
            "Requirement already satisfied: bottleneck in /usr/local/lib/python3.7/dist-packages (from visions[type_image_path]==0.7.1->pandas-profiling==3.0.0) (1.3.2)\n",
            "Requirement already satisfied: imagehash in /usr/local/lib/python3.7/dist-packages (from visions[type_image_path]==0.7.1->pandas-profiling==3.0.0) (4.2.1)\n",
            "Requirement already satisfied: Pillow in /usr/local/lib/python3.7/dist-packages (from visions[type_image_path]==0.7.1->pandas-profiling==3.0.0) (7.1.2)\n",
            "Requirement already satisfied: MarkupSafe>=0.23 in /usr/local/lib/python3.7/dist-packages (from jinja2>=2.11.1->pandas-profiling==3.0.0) (2.0.1)\n",
            "Requirement already satisfied: kiwisolver>=1.0.1 in /usr/local/lib/python3.7/dist-packages (from matplotlib>=3.2.0->pandas-profiling==3.0.0) (1.3.1)\n",
            "Requirement already satisfied: python-dateutil>=2.1 in /usr/local/lib/python3.7/dist-packages (from matplotlib>=3.2.0->pandas-profiling==3.0.0) (2.8.1)\n",
            "Requirement already satisfied: cycler>=0.10 in /usr/local/lib/python3.7/dist-packages (from matplotlib>=3.2.0->pandas-profiling==3.0.0) (0.10.0)\n",
            "Requirement already satisfied: pyparsing!=2.0.4,!=2.1.2,!=2.1.6,>=2.0.1 in /usr/local/lib/python3.7/dist-packages (from matplotlib>=3.2.0->pandas-profiling==3.0.0) (2.4.7)\n",
            "Requirement already satisfied: six in /usr/local/lib/python3.7/dist-packages (from cycler>=0.10->matplotlib>=3.2.0->pandas-profiling==3.0.0) (1.15.0)\n",
            "Requirement already satisfied: decorator<5,>=4.3 in /usr/local/lib/python3.7/dist-packages (from networkx>=2.4->visions[type_image_path]==0.7.1->pandas-profiling==3.0.0) (4.4.2)\n",
            "Requirement already satisfied: pytz>=2017.2 in /usr/local/lib/python3.7/dist-packages (from pandas!=1.0.0,!=1.0.1,!=1.0.2,!=1.1.0,>=0.25.3->pandas-profiling==3.0.0) (2018.9)\n",
            "Requirement already satisfied: typing-extensions>=3.7.4.3 in /usr/local/lib/python3.7/dist-packages (from pydantic>=1.8.1->pandas-profiling==3.0.0) (3.7.4.3)\n",
            "Requirement already satisfied: idna<4,>=2.5 in /usr/local/lib/python3.7/dist-packages (from requests>=2.24.0->pandas-profiling==3.0.0) (2.10)\n",
            "Requirement already satisfied: urllib3<1.27,>=1.21.1 in /usr/local/lib/python3.7/dist-packages (from requests>=2.24.0->pandas-profiling==3.0.0) (1.24.3)\n",
            "Requirement already satisfied: charset-normalizer~=2.0.0 in /usr/local/lib/python3.7/dist-packages (from requests>=2.24.0->pandas-profiling==3.0.0) (2.0.2)\n",
            "Requirement already satisfied: certifi>=2017.4.17 in /usr/local/lib/python3.7/dist-packages (from requests>=2.24.0->pandas-profiling==3.0.0) (2021.5.30)\n",
            "Requirement already satisfied: PyWavelets in /usr/local/lib/python3.7/dist-packages (from imagehash->visions[type_image_path]==0.7.1->pandas-profiling==3.0.0) (1.1.1)\n"
          ],
          "name": "stdout"
        }
      ]
    },
    {
      "cell_type": "code",
      "metadata": {
        "id": "PPaqIDyUOlUT"
      },
      "source": [
        "import pandas as pd \n",
        "import glob \n",
        "import numpy as np \n",
        "import matplotlib.pyplot as plt \n",
        "import numpy as np\n",
        "from pandas_profiling import ProfileReport"
      ],
      "execution_count": 2,
      "outputs": []
    },
    {
      "cell_type": "code",
      "metadata": {
        "id": "REyLLeQaO90i"
      },
      "source": [
        "url = 'https://github.com/AngelloDavincii/DS_proyecto_1/blob/main/data_xlsx/'\n",
        "url2 = 'https://github.com/AngelloDavincii/DS_proyecto_1/tree/main/data_xlsx/GUATEMALA/'\n",
        "       "
      ],
      "execution_count": 3,
      "outputs": []
    },
    {
      "cell_type": "code",
      "metadata": {
        "id": "4ARfyO9VZXrz"
      },
      "source": [
        "names = ['ALTA_VERAPAZ.xlsx', 'BAJA_VERAPAZ.xlsx', 'CHIMALTENANGO.xlsx', 'CHIQUIMULA.xlsx', 'CIUDAD_CAPITAL.xlsx', 'EL_PROGRESO.xlsx', \n",
        "          'ESCUINTLA.xlsx', 'HUEHUETENANGO.xlsx', 'IZABAL.xlsx', 'JALAPA.xlsx', 'JUTIAPA.xlsx', 'PETEN.xlsx', 'QUETZALTENANGO.xlsx', \n",
        "          'QUICHE.xlsx', 'RETALHULEU.xlsx', 'SACATEPEQUEZ.xlsx', 'SANTA_ROSA.xlsx', 'SAN_MARCOS.xlsx', 'SOLOLA.xlsx', 'SUCHITEPEQUEZ.xlsx',\n",
        "          'TOTONICAPAN.xlsx', 'ZACAPA.xlsx']\n",
        "names2 = ['BASICO.xlsx', 'DIVERSICADO.xlsx', 'PARVULOS.xlsx', 'PREPRIMARIA_BILINGUE.xlsx', 'PRIMARIA.xlsx', 'PRIMARIA_DE_ADULTOS.xlsx']\n"
      ],
      "execution_count": 4,
      "outputs": []
    },
    {
      "cell_type": "code",
      "metadata": {
        "id": "T8qpF_nRc2eo"
      },
      "source": [
        "a = 'https://github.com/AngelloDavincii/DS_proyecto_1/blob/main/data_xlsx/GUATEMALA/BASICO.xlsx?raw=true'\n",
        "b = 'https://github.com/AngelloDavincii/DS_proyecto_1/blob/main/data_xlsx/GUATEMALA/DIVERSICADO.xlsx?raw=true'\n",
        "c = 'https://github.com/AngelloDavincii/DS_proyecto_1/blob/main/data_xlsx/GUATEMALA/PARVULOS.xlsx?raw=true'\n",
        "d = 'https://github.com/AngelloDavincii/DS_proyecto_1/blob/main/data_xlsx/GUATEMALA/PREPRIMARIA_BILINGUE.xlsx?raw=true'\n",
        "e = 'https://github.com/AngelloDavincii/DS_proyecto_1/blob/main/data_xlsx/GUATEMALA/PRIMARIA.xlsx?raw=true'\n",
        "f = 'https://github.com/AngelloDavincii/DS_proyecto_1/blob/main/data_xlsx/GUATEMALA/PRIMARIA_DE_ADULTOS.xlsx?raw=true'\n",
        "# Sabemos que no es una manera elegante de importar los datos pero solo de esta manera pudimos agregar los nombres a la lista y luego importarlos en colab\n",
        "names3 = [a,b,c,d,e,f]"
      ],
      "execution_count": 5,
      "outputs": []
    },
    {
      "cell_type": "markdown",
      "metadata": {
        "id": "ExU549NiqsW8"
      },
      "source": [
        "Nota importante: <br>\n",
        "Nosotros decidimos concatenar todos los dataframes desde el inicio porque consideramos que era mucho más rápido y eficiente computacionalmente limpiar solamente un dataset en lugar de hacer la misma limpieza en todos los dataset iterando "
      ]
    },
    {
      "cell_type": "markdown",
      "metadata": {
        "id": "Hh7YGXi7OlUU"
      },
      "source": [
        "<h2><center>Departamento de Guatemala</center></h2>"
      ]
    },
    {
      "cell_type": "code",
      "metadata": {
        "id": "QED6voUq3qtK"
      },
      "source": [
        "#Definimos una variable para ver si las columnas son invalidas\n",
        "def has_invalid_column(columns):\n",
        "    prefix = \"unnamed\"\n",
        "    for column in columns:\n",
        "        if prefix in column.lower():\n",
        "            return True\n",
        "    return False"
      ],
      "execution_count": 6,
      "outputs": []
    },
    {
      "cell_type": "code",
      "metadata": {
        "id": "n26FTumceVbW",
        "colab": {
          "base_uri": "https://localhost:8080/"
        },
        "outputId": "8ac58eaf-1635-420c-cfd2-3ff591115252"
      },
      "source": [
        "guate = []\n",
        "for j in names3:\n",
        "    df = pd.read_excel(j)\n",
        "    if has_invalid_column(df.columns):\n",
        "        df.columns = df.iloc[0]\n",
        "        df.drop(df.index[0])\n",
        "    df[\"DEPARTAMENTO\"] = \"GUATEMALA\"\n",
        "    guate.append(df)\n",
        "df_guate = pd.concat(guate)\n",
        "df_guate.columns"
      ],
      "execution_count": 7,
      "outputs": [
        {
          "output_type": "execute_result",
          "data": {
            "text/plain": [
              "Index(['CODIGO', 'DISTRITO', 'DEPARTAMENTO', 'MUNICIPIO', 'ESTABLECIMIENTO',\n",
              "       'DIRECCION', 'TELEFONO', 'SUPERVISOR', 'DIRECTOR', 'NIVEL', 'SECTOR',\n",
              "       'AREA', 'STATUS', 'MODALIDAD', 'JORNADA', 'PLAN', 'DEPARTAMENTAL'],\n",
              "      dtype='object')"
            ]
          },
          "metadata": {
            "tags": []
          },
          "execution_count": 7
        }
      ]
    },
    {
      "cell_type": "code",
      "metadata": {
        "id": "XtscbMeKOlUZ"
      },
      "source": [
        "# prof = ProfileReport(guatemala_departamento)\n",
        "# prof"
      ],
      "execution_count": 8,
      "outputs": []
    },
    {
      "cell_type": "markdown",
      "metadata": {
        "id": "RZgZG4stOlUf"
      },
      "source": [
        "<h2><center>Todos los departamentos</center></h2>"
      ]
    },
    {
      "cell_type": "code",
      "metadata": {
        "id": "MErCith_OlUg"
      },
      "source": [
        "departamentos = []\n",
        "for j in names:\n",
        "    path = url + j + '?raw=true'\n",
        "    df = pd.read_excel(path)\n",
        "    if has_invalid_column(df.columns):\n",
        "        df.columns = df.iloc[0]\n",
        "        df = df.drop(df.index[0])\n",
        "    #     print(df.columns)\n",
        "    # else:\n",
        "    #   print(df.columns)\n",
        "    if j == \"CIUDAD_CAPITAL.xlsx\":\n",
        "      df[\"DEPARTAMENTO\"] = \"GUATEMALA\"\n",
        "    else:\n",
        "      df[\"DEPARTAMENTO\"] = j.replace(\".xlsx\", \"\")\n",
        "    departamentos.append(df)\n",
        "    \n",
        "\n",
        "departamentos.append(df_guate)"
      ],
      "execution_count": 9,
      "outputs": []
    },
    {
      "cell_type": "code",
      "metadata": {
        "colab": {
          "base_uri": "https://localhost:8080/"
        },
        "id": "i5YdKrO05UXe",
        "outputId": "ed9ca04d-0029-490f-bf16-d3c9f19f84b3"
      },
      "source": [
        "pd.concat(departamentos).columns"
      ],
      "execution_count": 10,
      "outputs": [
        {
          "output_type": "execute_result",
          "data": {
            "text/plain": [
              "Index(['CODIGO', 'DISTRITO', 'DEPARTAMENTO', 'MUNICIPIO', 'ESTABLECIMIENTO',\n",
              "       'DIRECCION', 'TELEFONO', 'SUPERVISOR', 'DIRECTOR', 'NIVEL', 'SECTOR',\n",
              "       'AREA', 'STATUS', 'MODALIDAD', 'JORNADA', 'PLAN', 'DEPARTAMENTAL'],\n",
              "      dtype='object', name=0)"
            ]
          },
          "metadata": {
            "tags": []
          },
          "execution_count": 10
        }
      ]
    },
    {
      "cell_type": "code",
      "metadata": {
        "id": "Q1aaxp0JOlUi",
        "colab": {
          "base_uri": "https://localhost:8080/"
        },
        "outputId": "fa59f7cd-0ed5-41af-a5e0-012007d4d96d"
      },
      "source": [
        "df_pais = pd.concat(departamentos)\n",
        "df_pais.columns"
      ],
      "execution_count": 11,
      "outputs": [
        {
          "output_type": "execute_result",
          "data": {
            "text/plain": [
              "Index(['CODIGO', 'DISTRITO', 'DEPARTAMENTO', 'MUNICIPIO', 'ESTABLECIMIENTO',\n",
              "       'DIRECCION', 'TELEFONO', 'SUPERVISOR', 'DIRECTOR', 'NIVEL', 'SECTOR',\n",
              "       'AREA', 'STATUS', 'MODALIDAD', 'JORNADA', 'PLAN', 'DEPARTAMENTAL'],\n",
              "      dtype='object', name=0)"
            ]
          },
          "metadata": {
            "tags": []
          },
          "execution_count": 11
        }
      ]
    },
    {
      "cell_type": "code",
      "metadata": {
        "id": "xMNusvGGOlUj",
        "colab": {
          "base_uri": "https://localhost:8080/"
        },
        "outputId": "bbe06abf-b480-443c-c5ba-8bc6169639b6"
      },
      "source": [
        "df_pais.shape"
      ],
      "execution_count": 12,
      "outputs": [
        {
          "output_type": "execute_result",
          "data": {
            "text/plain": [
              "(65050, 17)"
            ]
          },
          "metadata": {
            "tags": []
          },
          "execution_count": 12
        }
      ]
    },
    {
      "cell_type": "code",
      "metadata": {
        "colab": {
          "base_uri": "https://localhost:8080/",
          "height": 462
        },
        "id": "DDN-QEDWgFE5",
        "outputId": "c09795d0-23c7-43fe-96e5-cb667baaf72d"
      },
      "source": [
        "df_pais.head()"
      ],
      "execution_count": 13,
      "outputs": [
        {
          "output_type": "execute_result",
          "data": {
            "text/html": [
              "<div>\n",
              "<style scoped>\n",
              "    .dataframe tbody tr th:only-of-type {\n",
              "        vertical-align: middle;\n",
              "    }\n",
              "\n",
              "    .dataframe tbody tr th {\n",
              "        vertical-align: top;\n",
              "    }\n",
              "\n",
              "    .dataframe thead th {\n",
              "        text-align: right;\n",
              "    }\n",
              "</style>\n",
              "<table border=\"1\" class=\"dataframe\">\n",
              "  <thead>\n",
              "    <tr style=\"text-align: right;\">\n",
              "      <th></th>\n",
              "      <th>CODIGO</th>\n",
              "      <th>DISTRITO</th>\n",
              "      <th>DEPARTAMENTO</th>\n",
              "      <th>MUNICIPIO</th>\n",
              "      <th>ESTABLECIMIENTO</th>\n",
              "      <th>DIRECCION</th>\n",
              "      <th>TELEFONO</th>\n",
              "      <th>SUPERVISOR</th>\n",
              "      <th>DIRECTOR</th>\n",
              "      <th>NIVEL</th>\n",
              "      <th>SECTOR</th>\n",
              "      <th>AREA</th>\n",
              "      <th>STATUS</th>\n",
              "      <th>MODALIDAD</th>\n",
              "      <th>JORNADA</th>\n",
              "      <th>PLAN</th>\n",
              "      <th>DEPARTAMENTAL</th>\n",
              "    </tr>\n",
              "  </thead>\n",
              "  <tbody>\n",
              "    <tr>\n",
              "      <th>0</th>\n",
              "      <td>16-01-0001-41</td>\n",
              "      <td>16-002</td>\n",
              "      <td>ALTA_VERAPAZ</td>\n",
              "      <td>COBAN</td>\n",
              "      <td>COPB ANEXO A EORM</td>\n",
              "      <td>ALDEA SAN PEDRITO</td>\n",
              "      <td>NaN</td>\n",
              "      <td>MOISES ADRIAN LOPEZ PEREZ</td>\n",
              "      <td>NaN</td>\n",
              "      <td>PREPRIMARIA BILINGUE</td>\n",
              "      <td>OFICIAL</td>\n",
              "      <td>RURAL</td>\n",
              "      <td>CERRADA TEMPORALMENTE</td>\n",
              "      <td>BILINGUE</td>\n",
              "      <td>MATUTINA</td>\n",
              "      <td>DIARIO(REGULAR)</td>\n",
              "      <td>ALTA VERAPAZ</td>\n",
              "    </tr>\n",
              "    <tr>\n",
              "      <th>1</th>\n",
              "      <td>16-01-0002-41</td>\n",
              "      <td>16-004</td>\n",
              "      <td>ALTA_VERAPAZ</td>\n",
              "      <td>COBAN</td>\n",
              "      <td>COPB ANEXO A EORM</td>\n",
              "      <td>ALDEA SAN JOSE ICBOLAY</td>\n",
              "      <td>NaN</td>\n",
              "      <td>JUAN ANTONIO FIGUEROA CAAL</td>\n",
              "      <td>NaN</td>\n",
              "      <td>PREPRIMARIA BILINGUE</td>\n",
              "      <td>OFICIAL</td>\n",
              "      <td>RURAL</td>\n",
              "      <td>ABIERTA</td>\n",
              "      <td>BILINGUE</td>\n",
              "      <td>MATUTINA</td>\n",
              "      <td>DIARIO(REGULAR)</td>\n",
              "      <td>ALTA VERAPAZ</td>\n",
              "    </tr>\n",
              "    <tr>\n",
              "      <th>2</th>\n",
              "      <td>16-01-0003-41</td>\n",
              "      <td>16-004</td>\n",
              "      <td>ALTA_VERAPAZ</td>\n",
              "      <td>COBAN</td>\n",
              "      <td>COPB ANEXO A EORM</td>\n",
              "      <td>ALDEA SANTA LUCIA</td>\n",
              "      <td>NaN</td>\n",
              "      <td>JUAN ANTONIO FIGUEROA CAAL</td>\n",
              "      <td>NaN</td>\n",
              "      <td>PREPRIMARIA BILINGUE</td>\n",
              "      <td>OFICIAL</td>\n",
              "      <td>RURAL</td>\n",
              "      <td>ABIERTA</td>\n",
              "      <td>BILINGUE</td>\n",
              "      <td>MATUTINA</td>\n",
              "      <td>DIARIO(REGULAR)</td>\n",
              "      <td>ALTA VERAPAZ</td>\n",
              "    </tr>\n",
              "    <tr>\n",
              "      <th>3</th>\n",
              "      <td>16-01-0004-41</td>\n",
              "      <td>NaN</td>\n",
              "      <td>ALTA_VERAPAZ</td>\n",
              "      <td>COBAN</td>\n",
              "      <td>CPPB ANEXA A EPRM</td>\n",
              "      <td>ALDEA LAS TORTUGAS</td>\n",
              "      <td>NaN</td>\n",
              "      <td>NaN</td>\n",
              "      <td>NaN</td>\n",
              "      <td>PREPRIMARIA BILINGUE</td>\n",
              "      <td>PRIVADO</td>\n",
              "      <td>RURAL</td>\n",
              "      <td>CERRADA TEMPORALMENTE</td>\n",
              "      <td>BILINGUE</td>\n",
              "      <td>MATUTINA</td>\n",
              "      <td>DIARIO(REGULAR)</td>\n",
              "      <td>ALTA VERAPAZ</td>\n",
              "    </tr>\n",
              "    <tr>\n",
              "      <th>4</th>\n",
              "      <td>16-01-0005-41</td>\n",
              "      <td>16-002</td>\n",
              "      <td>ALTA_VERAPAZ</td>\n",
              "      <td>COBAN</td>\n",
              "      <td>COPB ANEXO A EORM</td>\n",
              "      <td>ALDEA SAN PABLO XUCANEB</td>\n",
              "      <td>45187639</td>\n",
              "      <td>MOISES ADRIAN LOPEZ PEREZ</td>\n",
              "      <td>NaN</td>\n",
              "      <td>PREPRIMARIA BILINGUE</td>\n",
              "      <td>OFICIAL</td>\n",
              "      <td>RURAL</td>\n",
              "      <td>ABIERTA</td>\n",
              "      <td>BILINGUE</td>\n",
              "      <td>MATUTINA</td>\n",
              "      <td>DIARIO(REGULAR)</td>\n",
              "      <td>ALTA VERAPAZ</td>\n",
              "    </tr>\n",
              "  </tbody>\n",
              "</table>\n",
              "</div>"
            ],
            "text/plain": [
              "0         CODIGO DISTRITO  ...             PLAN DEPARTAMENTAL\n",
              "0  16-01-0001-41   16-002  ...  DIARIO(REGULAR)  ALTA VERAPAZ\n",
              "1  16-01-0002-41   16-004  ...  DIARIO(REGULAR)  ALTA VERAPAZ\n",
              "2  16-01-0003-41   16-004  ...  DIARIO(REGULAR)  ALTA VERAPAZ\n",
              "3  16-01-0004-41      NaN  ...  DIARIO(REGULAR)  ALTA VERAPAZ\n",
              "4  16-01-0005-41   16-002  ...  DIARIO(REGULAR)  ALTA VERAPAZ\n",
              "\n",
              "[5 rows x 17 columns]"
            ]
          },
          "metadata": {
            "tags": []
          },
          "execution_count": 13
        }
      ]
    },
    {
      "cell_type": "markdown",
      "metadata": {
        "id": "eUZzPcGtpCL3"
      },
      "source": [
        "# Procederemos a iniciar con la limpieza"
      ]
    },
    {
      "cell_type": "code",
      "metadata": {
        "colab": {
          "base_uri": "https://localhost:8080/"
        },
        "id": "QHwmOkxBfHzo",
        "outputId": "67fb69d4-6d83-485c-ca2f-8ee7dd2c605c"
      },
      "source": [
        "df_pais[\"DEPARTAMENTO\"].unique()"
      ],
      "execution_count": 14,
      "outputs": [
        {
          "output_type": "execute_result",
          "data": {
            "text/plain": [
              "array(['ALTA_VERAPAZ', 'BAJA_VERAPAZ', 'CHIMALTENANGO', 'CHIQUIMULA',\n",
              "       'GUATEMALA', 'EL_PROGRESO', 'ESCUINTLA', 'HUEHUETENANGO', 'IZABAL',\n",
              "       'JALAPA', 'JUTIAPA', 'PETEN', 'QUETZALTENANGO', 'QUICHE',\n",
              "       'RETALHULEU', 'SACATEPEQUEZ', 'SANTA_ROSA', 'SAN_MARCOS', 'SOLOLA',\n",
              "       'SUCHITEPEQUEZ', 'TOTONICAPAN', 'ZACAPA'], dtype=object)"
            ]
          },
          "metadata": {
            "tags": []
          },
          "execution_count": 14
        }
      ]
    },
    {
      "cell_type": "markdown",
      "metadata": {
        "id": "FastdM3Io7QT"
      },
      "source": [
        "Procederemos a poner todas las columnas en minusculas"
      ]
    },
    {
      "cell_type": "code",
      "metadata": {
        "id": "7hjXY9xLpUR-"
      },
      "source": [
        "df_pais.columns = df_pais.columns.map(lambda x: x.lower())"
      ],
      "execution_count": 15,
      "outputs": []
    },
    {
      "cell_type": "markdown",
      "metadata": {
        "id": "jl1h7oPSpcnW"
      },
      "source": [
        "## Limpieza y como manejaremos los na\n",
        "Esto se decidió hacer así para tratar de no perder información que puedan dar otras columnas sobre la misma fila.\n",
        "- Direccion se remplazara con el departamento\n",
        "- Municipio: Se asignara N/A\n",
        "- Municipio: Se asignara N/A\n",
        "- Telefono: N/A\n",
        "- supervisor: N/A\n",
        "- director: N/A\n",
        "- nivel: N/A\n",
        "- sector: N/A\n",
        "- area: N/A\n",
        "- status: N/A\n",
        "- modalidad: N/A\n",
        "- jornada: N/A\n",
        "- plan: N/A"
      ]
    },
    {
      "cell_type": "code",
      "metadata": {
        "id": "nMcZSSiOqCtI"
      },
      "source": [
        "nan_dictionary = {\n",
        "    \"municipio\": \"N/A\",\n",
        "    \"telefono\": \"N/A\",\n",
        "    \"supervisor\": \"N/A\",\n",
        "    \"director\": \"N/A\",\n",
        "    \"nivel\": \"N/A\",\n",
        "    \"sector\": \"N/A\",\n",
        "    \"area\": \"N/A\",\n",
        "    \"status\": \"N/A\",\n",
        "    \"modalidad\": \"N/A\",\n",
        "    \"jornada\": \"N/A\",\n",
        "    \"plan\": \"N/A\",\n",
        "    \"distrito\": \"N/A\",\n",
        "    \"establecimiento\": \"N/A\",\n",
        "    \"plan\": \"N/A\",\n",
        "    \"departamental\":\"N/A\"\n",
        "}"
      ],
      "execution_count": 16,
      "outputs": []
    },
    {
      "cell_type": "code",
      "metadata": {
        "id": "K2nAMTJeqKcE"
      },
      "source": [
        "#Fill al NA with values\n",
        "for column in nan_dictionary:\n",
        "    df_pais[column] = df_pais[column].fillna(nan_dictionary[column])"
      ],
      "execution_count": 17,
      "outputs": []
    },
    {
      "cell_type": "code",
      "metadata": {
        "id": "lzL1y_W9qN4L"
      },
      "source": [
        "df_pais[\"direccion\"] = np.where(df_pais['direccion'].isnull(), df_pais['departamento'], df_pais['direccion'])"
      ],
      "execution_count": 18,
      "outputs": []
    },
    {
      "cell_type": "code",
      "metadata": {
        "colab": {
          "base_uri": "https://localhost:8080/"
        },
        "id": "1iT2FjrtJLou",
        "outputId": "70d7b95d-2f48-4dd3-bb0c-f67bc77a99f8"
      },
      "source": [
        "# Note que solamente tenemos valores nulos en la primera fila\n",
        "df_pais.isna().sum()"
      ],
      "execution_count": 19,
      "outputs": [
        {
          "output_type": "execute_result",
          "data": {
            "text/plain": [
              "0\n",
              "codigo             28\n",
              "distrito            0\n",
              "departamento        0\n",
              "municipio           0\n",
              "establecimiento     0\n",
              "direccion           0\n",
              "telefono            0\n",
              "supervisor          0\n",
              "director            0\n",
              "nivel               0\n",
              "sector              0\n",
              "area                0\n",
              "status              0\n",
              "modalidad           0\n",
              "jornada             0\n",
              "plan                0\n",
              "departamental       0\n",
              "dtype: int64"
            ]
          },
          "metadata": {
            "tags": []
          },
          "execution_count": 19
        }
      ]
    },
    {
      "cell_type": "markdown",
      "metadata": {
        "id": "g_ExzLqnq87b"
      },
      "source": [
        "Ahora si procederemos a botar las filas con nan en la columna codigo porque el codigo es usado para distinguir los distintos establecimientos y sin este no se puede"
      ]
    },
    {
      "cell_type": "code",
      "metadata": {
        "id": "H2H9PJl2rEEI"
      },
      "source": [
        "df_pais.dropna(inplace = True, subset = [\"codigo\"])"
      ],
      "execution_count": 20,
      "outputs": []
    },
    {
      "cell_type": "markdown",
      "metadata": {
        "id": "YVZqx3EMrJI-"
      },
      "source": [
        "*CARACTERES ESPECIALES* <br/>\n",
        "Las columnas supervisor, director y area les eliminaremos caracteres que no deseamos, note que se utilizo regex para que la limpieza sea más rápida"
      ]
    },
    {
      "cell_type": "code",
      "metadata": {
        "id": "4-Bz33R8rUv6"
      },
      "source": [
        "#Remove undisered chars (UNICODE) and special chars\n",
        "from string import printable\n",
        "import re\n",
        "\n",
        "st = set(printable)\n",
        "unicode_columns = [\"supervisor\", \"director\", \"area\"] + [\"distrito\", \"departamento\", \"municipio\", \"establecimiento\", \"nivel\", \"sector\", \"area\", \"status\", \"modalidad\", \"jornada\", \"plan\", \"departamental\"]\n",
        "for column in unicode_columns:\n",
        "    df_pais[column] = df_pais[column].astype(str).apply(lambda x: ''.join([\" \" if  i not in  st else i for i in x]))\n",
        "    # df_pais[column] = df_pais[column].astype(str).map(lambda x: re.sub(r'\\W+', '', x))\n",
        "    df_pais[column] = df_pais[column].astype(str).map(lambda x: x.replace(\"-\",\" \"))\n",
        "    df_pais[column] = df_pais[column].astype(str).map(lambda x: x.replace(\",\",\" \"))\n",
        "\n"
      ],
      "execution_count": 21,
      "outputs": []
    },
    {
      "cell_type": "markdown",
      "metadata": {
        "id": "XO95DbafMaJ3"
      },
      "source": [
        "### Chequeando duplicados en los nombres del establecimiento"
      ]
    },
    {
      "cell_type": "code",
      "metadata": {
        "colab": {
          "base_uri": "https://localhost:8080/"
        },
        "id": "FRN95CcxMYyG",
        "outputId": "70647052-5e75-4044-9ffe-eff3e6023735"
      },
      "source": [
        "# Chequeando cuantos duplicados hay en la columna\n",
        "len(df_pais[\"establecimiento\"]) - df_pais[\"establecimiento\"].nunique()"
      ],
      "execution_count": 22,
      "outputs": [
        {
          "output_type": "execute_result",
          "data": {
            "text/plain": [
              "47570"
            ]
          },
          "metadata": {
            "tags": []
          },
          "execution_count": 22
        }
      ]
    },
    {
      "cell_type": "code",
      "metadata": {
        "colab": {
          "base_uri": "https://localhost:8080/",
          "height": 513
        },
        "id": "Ran7ysD4Va0C",
        "outputId": "9f9cf9e6-3b42-4418-832b-e26687404278"
      },
      "source": [
        "duplicates_in_establecimiento = df_pais.loc[df_pais[\"establecimiento\"] != \"NA\"].duplicated(subset=[\"establecimiento\"])\n",
        "# Subsetting with duplicated data in establecimiento\n",
        "df_pais[duplicates_in_establecimiento.values].tail()"
      ],
      "execution_count": 23,
      "outputs": [
        {
          "output_type": "execute_result",
          "data": {
            "text/html": [
              "<div>\n",
              "<style scoped>\n",
              "    .dataframe tbody tr th:only-of-type {\n",
              "        vertical-align: middle;\n",
              "    }\n",
              "\n",
              "    .dataframe tbody tr th {\n",
              "        vertical-align: top;\n",
              "    }\n",
              "\n",
              "    .dataframe thead th {\n",
              "        text-align: right;\n",
              "    }\n",
              "</style>\n",
              "<table border=\"1\" class=\"dataframe\">\n",
              "  <thead>\n",
              "    <tr style=\"text-align: right;\">\n",
              "      <th></th>\n",
              "      <th>codigo</th>\n",
              "      <th>distrito</th>\n",
              "      <th>departamento</th>\n",
              "      <th>municipio</th>\n",
              "      <th>establecimiento</th>\n",
              "      <th>direccion</th>\n",
              "      <th>telefono</th>\n",
              "      <th>supervisor</th>\n",
              "      <th>director</th>\n",
              "      <th>nivel</th>\n",
              "      <th>sector</th>\n",
              "      <th>area</th>\n",
              "      <th>status</th>\n",
              "      <th>modalidad</th>\n",
              "      <th>jornada</th>\n",
              "      <th>plan</th>\n",
              "      <th>departamental</th>\n",
              "    </tr>\n",
              "  </thead>\n",
              "  <tbody>\n",
              "    <tr>\n",
              "      <th>134</th>\n",
              "      <td>01-17-0260-44</td>\n",
              "      <td>01 641</td>\n",
              "      <td>GUATEMALA</td>\n",
              "      <td>SAN MIGUEL PETAPA</td>\n",
              "      <td>LICEO RICHMOND</td>\n",
              "      <td>LOTE 26, MANZANA E, SECTOR 1, VILLA HERMOSA I</td>\n",
              "      <td>24826611</td>\n",
              "      <td>SERGIO ALEJANDRO VILLATORO VILLAGRAN</td>\n",
              "      <td>ELISALEN ESQUITE CAMPOS</td>\n",
              "      <td>PRIMARIA DE ADULTOS</td>\n",
              "      <td>PRIVADO</td>\n",
              "      <td>URBANA</td>\n",
              "      <td>ABIERTA</td>\n",
              "      <td>MONOLINGUE</td>\n",
              "      <td>DOBLE</td>\n",
              "      <td>FIN DE SEMANA</td>\n",
              "      <td>GUATEMALA SUR</td>\n",
              "    </tr>\n",
              "    <tr>\n",
              "      <th>135</th>\n",
              "      <td>01-17-7495-44</td>\n",
              "      <td>01 641</td>\n",
              "      <td>GUATEMALA</td>\n",
              "      <td>SAN MIGUEL PETAPA</td>\n",
              "      <td>CENTRO EDUCATIVO PERSONALIZADO NEZEEL</td>\n",
              "      <td>CALLE PRINCIPAL 2-18, ZONA 4</td>\n",
              "      <td>66318403</td>\n",
              "      <td>SERGIO ALEJANDRO VILLATORO VILLAGRAN</td>\n",
              "      <td>N/A</td>\n",
              "      <td>PRIMARIA DE ADULTOS</td>\n",
              "      <td>PRIVADO</td>\n",
              "      <td>URBANA</td>\n",
              "      <td>ABIERTA</td>\n",
              "      <td>MONOLINGUE</td>\n",
              "      <td>DOBLE</td>\n",
              "      <td>FIN DE SEMANA</td>\n",
              "      <td>GUATEMALA SUR</td>\n",
              "    </tr>\n",
              "    <tr>\n",
              "      <th>136</th>\n",
              "      <td>01-17-8114-44</td>\n",
              "      <td>01 406</td>\n",
              "      <td>GUATEMALA</td>\n",
              "      <td>SAN MIGUEL PETAPA</td>\n",
              "      <td>COLEGIO MIXTO NICTE</td>\n",
              "      <td>LOTE 45 MANZANA D SECTOR 10 PRADOS DE VILLA HE...</td>\n",
              "      <td>24481320</td>\n",
              "      <td>MIGUEL ALVARO RODRIGUEZ PORTILLO</td>\n",
              "      <td>N/A</td>\n",
              "      <td>PRIMARIA DE ADULTOS</td>\n",
              "      <td>PRIVADO</td>\n",
              "      <td>URBANA</td>\n",
              "      <td>CERRADA TEMPORALMENTE</td>\n",
              "      <td>MONOLINGUE</td>\n",
              "      <td>MATUTINA</td>\n",
              "      <td>FIN DE SEMANA</td>\n",
              "      <td>GUATEMALA SUR</td>\n",
              "    </tr>\n",
              "    <tr>\n",
              "      <th>137</th>\n",
              "      <td>01-17-9119-44</td>\n",
              "      <td>01 641</td>\n",
              "      <td>GUATEMALA</td>\n",
              "      <td>SAN MIGUEL PETAPA</td>\n",
              "      <td>LICEO EVANGELICO PRADOS DE VILLAHERMOSA</td>\n",
              "      <td>LOTES 7,8,9,10 Y 11 MANZANA B SECTOR 11 PRADOS...</td>\n",
              "      <td>24647039</td>\n",
              "      <td>SERGIO ALEJANDRO VILLATORO VILLAGRAN</td>\n",
              "      <td>N/A</td>\n",
              "      <td>PRIMARIA DE ADULTOS</td>\n",
              "      <td>PRIVADO</td>\n",
              "      <td>URBANA</td>\n",
              "      <td>ABIERTA</td>\n",
              "      <td>MONOLINGUE</td>\n",
              "      <td>DOBLE</td>\n",
              "      <td>FIN DE SEMANA</td>\n",
              "      <td>GUATEMALA SUR</td>\n",
              "    </tr>\n",
              "    <tr>\n",
              "      <th>139</th>\n",
              "      <td>138 Establecimientos encontrados</td>\n",
              "      <td>N/A</td>\n",
              "      <td>GUATEMALA</td>\n",
              "      <td>N/A</td>\n",
              "      <td>N/A</td>\n",
              "      <td>GUATEMALA</td>\n",
              "      <td>N/A</td>\n",
              "      <td>N/A</td>\n",
              "      <td>N/A</td>\n",
              "      <td>N/A</td>\n",
              "      <td>N/A</td>\n",
              "      <td>N/A</td>\n",
              "      <td>N/A</td>\n",
              "      <td>N/A</td>\n",
              "      <td>N/A</td>\n",
              "      <td>N/A</td>\n",
              "      <td>N/A</td>\n",
              "    </tr>\n",
              "  </tbody>\n",
              "</table>\n",
              "</div>"
            ],
            "text/plain": [
              "0                              codigo distrito  ...           plan  departamental\n",
              "134                     01-17-0260-44   01 641  ...  FIN DE SEMANA  GUATEMALA SUR\n",
              "135                     01-17-7495-44   01 641  ...  FIN DE SEMANA  GUATEMALA SUR\n",
              "136                     01-17-8114-44   01 406  ...  FIN DE SEMANA  GUATEMALA SUR\n",
              "137                     01-17-9119-44   01 641  ...  FIN DE SEMANA  GUATEMALA SUR\n",
              "139  138 Establecimientos encontrados      N/A  ...            N/A            N/A\n",
              "\n",
              "[5 rows x 17 columns]"
            ]
          },
          "metadata": {
            "tags": []
          },
          "execution_count": 23
        }
      ]
    },
    {
      "cell_type": "code",
      "metadata": {
        "colab": {
          "base_uri": "https://localhost:8080/",
          "height": 632
        },
        "id": "aPj9cJEGWTDT",
        "outputId": "c6f87229-209c-4732-ebb2-3b88045bbe80"
      },
      "source": [
        "# Se toma un establecimiento con nombre duplicado por ejemplo el establecimiento con nombre CENTRO EDUCATIVO PERSONALIZADO NEZEEL\n",
        "df_pais[df_pais[\"establecimiento\"] == \"CENTRO EDUCATIVO PERSONALIZADO NEZEEL\"].head()"
      ],
      "execution_count": 24,
      "outputs": [
        {
          "output_type": "execute_result",
          "data": {
            "text/html": [
              "<div>\n",
              "<style scoped>\n",
              "    .dataframe tbody tr th:only-of-type {\n",
              "        vertical-align: middle;\n",
              "    }\n",
              "\n",
              "    .dataframe tbody tr th {\n",
              "        vertical-align: top;\n",
              "    }\n",
              "\n",
              "    .dataframe thead th {\n",
              "        text-align: right;\n",
              "    }\n",
              "</style>\n",
              "<table border=\"1\" class=\"dataframe\">\n",
              "  <thead>\n",
              "    <tr style=\"text-align: right;\">\n",
              "      <th></th>\n",
              "      <th>codigo</th>\n",
              "      <th>distrito</th>\n",
              "      <th>departamento</th>\n",
              "      <th>municipio</th>\n",
              "      <th>establecimiento</th>\n",
              "      <th>direccion</th>\n",
              "      <th>telefono</th>\n",
              "      <th>supervisor</th>\n",
              "      <th>director</th>\n",
              "      <th>nivel</th>\n",
              "      <th>sector</th>\n",
              "      <th>area</th>\n",
              "      <th>status</th>\n",
              "      <th>modalidad</th>\n",
              "      <th>jornada</th>\n",
              "      <th>plan</th>\n",
              "      <th>departamental</th>\n",
              "    </tr>\n",
              "  </thead>\n",
              "  <tbody>\n",
              "    <tr>\n",
              "      <th>1719</th>\n",
              "      <td>01-17-0223-45</td>\n",
              "      <td>01 631</td>\n",
              "      <td>GUATEMALA</td>\n",
              "      <td>SAN MIGUEL PETAPA</td>\n",
              "      <td>CENTRO EDUCATIVO PERSONALIZADO NEZEEL</td>\n",
              "      <td>CALLE PRINCIPAL 2-18 ZONA 4, SANTA INÉS PETAPA</td>\n",
              "      <td>66318403</td>\n",
              "      <td>ADRIANA FABIOLA BOLA OS ESTRADA</td>\n",
              "      <td>OSCAR HAROLDO SANCHEZ LOPEZ</td>\n",
              "      <td>BASICO</td>\n",
              "      <td>PRIVADO</td>\n",
              "      <td>URBANA</td>\n",
              "      <td>ABIERTA</td>\n",
              "      <td>MONOLINGUE</td>\n",
              "      <td>MATUTINA</td>\n",
              "      <td>DIARIO(REGULAR)</td>\n",
              "      <td>GUATEMALA SUR</td>\n",
              "    </tr>\n",
              "    <tr>\n",
              "      <th>1755</th>\n",
              "      <td>01-17-7474-45</td>\n",
              "      <td>01 631</td>\n",
              "      <td>GUATEMALA</td>\n",
              "      <td>SAN MIGUEL PETAPA</td>\n",
              "      <td>CENTRO EDUCATIVO PERSONALIZADO NEZEEL</td>\n",
              "      <td>CALLE PRINCIPAL 2-18, ZONA 4 ALDEA SANTA INES ...</td>\n",
              "      <td>66318403</td>\n",
              "      <td>ADRIANA FABIOLA BOLA OS ESTRADA</td>\n",
              "      <td>N/A</td>\n",
              "      <td>BASICO</td>\n",
              "      <td>PRIVADO</td>\n",
              "      <td>URBANA</td>\n",
              "      <td>ABIERTA</td>\n",
              "      <td>MONOLINGUE</td>\n",
              "      <td>VESPERTINA</td>\n",
              "      <td>DIARIO(REGULAR)</td>\n",
              "      <td>GUATEMALA SUR</td>\n",
              "    </tr>\n",
              "    <tr>\n",
              "      <th>1169</th>\n",
              "      <td>01-17-0126-46</td>\n",
              "      <td>01 641</td>\n",
              "      <td>GUATEMALA</td>\n",
              "      <td>SAN MIGUEL PETAPA</td>\n",
              "      <td>CENTRO EDUCATIVO PERSONALIZADO NEZEEL</td>\n",
              "      <td>CALLE PRINCIPAL, 2-18, ZONA 4, SANTA INES</td>\n",
              "      <td>66318403</td>\n",
              "      <td>SERGIO ALEJANDRO VILLATORO VILLAGRAN</td>\n",
              "      <td>OSCAR AROLDO SANCHEZ LOPEZ</td>\n",
              "      <td>DIVERSIFICADO</td>\n",
              "      <td>PRIVADO</td>\n",
              "      <td>URBANA</td>\n",
              "      <td>ABIERTA</td>\n",
              "      <td>MONOLINGUE</td>\n",
              "      <td>DOBLE</td>\n",
              "      <td>FIN DE SEMANA</td>\n",
              "      <td>GUATEMALA SUR</td>\n",
              "    </tr>\n",
              "    <tr>\n",
              "      <th>1195</th>\n",
              "      <td>01-17-0224-46</td>\n",
              "      <td>01 631</td>\n",
              "      <td>GUATEMALA</td>\n",
              "      <td>SAN MIGUEL PETAPA</td>\n",
              "      <td>CENTRO EDUCATIVO PERSONALIZADO NEZEEL</td>\n",
              "      <td>CALLE PRINCIPAL 2-18 ZONA 4, SANTA INÉS PETAPA</td>\n",
              "      <td>66318403</td>\n",
              "      <td>ADRIANA FABIOLA BOLA OS ESTRADA</td>\n",
              "      <td>OSCAR HAROLDO SANCHEZ LOPEZ</td>\n",
              "      <td>DIVERSIFICADO</td>\n",
              "      <td>PRIVADO</td>\n",
              "      <td>URBANA</td>\n",
              "      <td>ABIERTA</td>\n",
              "      <td>MONOLINGUE</td>\n",
              "      <td>MATUTINA</td>\n",
              "      <td>DIARIO(REGULAR)</td>\n",
              "      <td>GUATEMALA SUR</td>\n",
              "    </tr>\n",
              "    <tr>\n",
              "      <th>1221</th>\n",
              "      <td>01-17-7475-46</td>\n",
              "      <td>01 631</td>\n",
              "      <td>GUATEMALA</td>\n",
              "      <td>SAN MIGUEL PETAPA</td>\n",
              "      <td>CENTRO EDUCATIVO PERSONALIZADO NEZEEL</td>\n",
              "      <td>CALLE PRINCIPAL 2-18, ZONA 4 ALDEA SANTA INES ...</td>\n",
              "      <td>66318403</td>\n",
              "      <td>ADRIANA FABIOLA BOLA OS ESTRADA</td>\n",
              "      <td>OSCAR HAROLDO SANCHEZ LOPEZ</td>\n",
              "      <td>DIVERSIFICADO</td>\n",
              "      <td>PRIVADO</td>\n",
              "      <td>URBANA</td>\n",
              "      <td>ABIERTA</td>\n",
              "      <td>MONOLINGUE</td>\n",
              "      <td>VESPERTINA</td>\n",
              "      <td>DIARIO(REGULAR)</td>\n",
              "      <td>GUATEMALA SUR</td>\n",
              "    </tr>\n",
              "  </tbody>\n",
              "</table>\n",
              "</div>"
            ],
            "text/plain": [
              "0            codigo distrito  ...             plan  departamental\n",
              "1719  01-17-0223-45   01 631  ...  DIARIO(REGULAR)  GUATEMALA SUR\n",
              "1755  01-17-7474-45   01 631  ...  DIARIO(REGULAR)  GUATEMALA SUR\n",
              "1169  01-17-0126-46   01 641  ...    FIN DE SEMANA  GUATEMALA SUR\n",
              "1195  01-17-0224-46   01 631  ...  DIARIO(REGULAR)  GUATEMALA SUR\n",
              "1221  01-17-7475-46   01 631  ...  DIARIO(REGULAR)  GUATEMALA SUR\n",
              "\n",
              "[5 rows x 17 columns]"
            ]
          },
          "metadata": {
            "tags": []
          },
          "execution_count": 24
        }
      ]
    },
    {
      "cell_type": "markdown",
      "metadata": {
        "id": "cnDhAMfuWlWi"
      },
      "source": [
        "Note que la razon por la que tienen estos establecimientos el mismo nombre es porque son otros atributos los que cambian como por ejemplo el nivel o la jornada, lo cual tiene sentido porque el mismo establecimiento puede tener a estudiantes de distintos niveles academicos y estudiando a distintas horas. Por lo cual no se procede a alterar o eliminar la informacion duplicada de esta columna"
      ]
    },
    {
      "cell_type": "markdown",
      "metadata": {
        "id": "uKXjy8XrsoNX"
      },
      "source": [
        "*PROCEDEREMOS A CAMBIAR A CATEGORY ALGUNAS COLUMNAS*\n",
        "Columnas cualitativas procederemos a cambiar a category para un mejor manejo de recursos en memoria y de esta manera tener mejor rendimiento para un posterior análisis"
      ]
    },
    {
      "cell_type": "code",
      "metadata": {
        "id": "ZquSTsFEs1Nz"
      },
      "source": [
        "# We will change our category columns to type category\n",
        "category_columns = [\"distrito\", \"departamento\", \"municipio\", \"establecimiento\", \"nivel\", \"sector\", \"area\", \"status\", \"modalidad\", \"jornada\", \"plan\", \"departamental\"]\n",
        "for column in category_columns:\n",
        "    df_pais[column] = df_pais[column].astype(\"category\")"
      ],
      "execution_count": 25,
      "outputs": []
    },
    {
      "cell_type": "markdown",
      "metadata": {
        "id": "0t8H36eO5qAf"
      },
      "source": [
        "Procederemos a agregar un indice en codigo"
      ]
    },
    {
      "cell_type": "code",
      "metadata": {
        "colab": {
          "base_uri": "https://localhost:8080/",
          "height": 980
        },
        "id": "khDTbsdF5n2l",
        "outputId": "9db1c7c1-e7ed-4e86-b366-36bebdef12a2"
      },
      "source": [
        "df_pais.set_index('codigo')"
      ],
      "execution_count": 26,
      "outputs": [
        {
          "output_type": "execute_result",
          "data": {
            "text/html": [
              "<div>\n",
              "<style scoped>\n",
              "    .dataframe tbody tr th:only-of-type {\n",
              "        vertical-align: middle;\n",
              "    }\n",
              "\n",
              "    .dataframe tbody tr th {\n",
              "        vertical-align: top;\n",
              "    }\n",
              "\n",
              "    .dataframe thead th {\n",
              "        text-align: right;\n",
              "    }\n",
              "</style>\n",
              "<table border=\"1\" class=\"dataframe\">\n",
              "  <thead>\n",
              "    <tr style=\"text-align: right;\">\n",
              "      <th></th>\n",
              "      <th>distrito</th>\n",
              "      <th>departamento</th>\n",
              "      <th>municipio</th>\n",
              "      <th>establecimiento</th>\n",
              "      <th>direccion</th>\n",
              "      <th>telefono</th>\n",
              "      <th>supervisor</th>\n",
              "      <th>director</th>\n",
              "      <th>nivel</th>\n",
              "      <th>sector</th>\n",
              "      <th>area</th>\n",
              "      <th>status</th>\n",
              "      <th>modalidad</th>\n",
              "      <th>jornada</th>\n",
              "      <th>plan</th>\n",
              "      <th>departamental</th>\n",
              "    </tr>\n",
              "    <tr>\n",
              "      <th>codigo</th>\n",
              "      <th></th>\n",
              "      <th></th>\n",
              "      <th></th>\n",
              "      <th></th>\n",
              "      <th></th>\n",
              "      <th></th>\n",
              "      <th></th>\n",
              "      <th></th>\n",
              "      <th></th>\n",
              "      <th></th>\n",
              "      <th></th>\n",
              "      <th></th>\n",
              "      <th></th>\n",
              "      <th></th>\n",
              "      <th></th>\n",
              "      <th></th>\n",
              "    </tr>\n",
              "  </thead>\n",
              "  <tbody>\n",
              "    <tr>\n",
              "      <th>16-01-0001-41</th>\n",
              "      <td>16 002</td>\n",
              "      <td>ALTA_VERAPAZ</td>\n",
              "      <td>COBAN</td>\n",
              "      <td>COPB ANEXO A EORM</td>\n",
              "      <td>ALDEA SAN PEDRITO</td>\n",
              "      <td>N/A</td>\n",
              "      <td>MOISES ADRIAN LOPEZ PEREZ</td>\n",
              "      <td>N/A</td>\n",
              "      <td>PREPRIMARIA BILINGUE</td>\n",
              "      <td>OFICIAL</td>\n",
              "      <td>RURAL</td>\n",
              "      <td>CERRADA TEMPORALMENTE</td>\n",
              "      <td>BILINGUE</td>\n",
              "      <td>MATUTINA</td>\n",
              "      <td>DIARIO(REGULAR)</td>\n",
              "      <td>ALTA VERAPAZ</td>\n",
              "    </tr>\n",
              "    <tr>\n",
              "      <th>16-01-0002-41</th>\n",
              "      <td>16 004</td>\n",
              "      <td>ALTA_VERAPAZ</td>\n",
              "      <td>COBAN</td>\n",
              "      <td>COPB ANEXO A EORM</td>\n",
              "      <td>ALDEA SAN JOSE ICBOLAY</td>\n",
              "      <td>N/A</td>\n",
              "      <td>JUAN ANTONIO FIGUEROA CAAL</td>\n",
              "      <td>N/A</td>\n",
              "      <td>PREPRIMARIA BILINGUE</td>\n",
              "      <td>OFICIAL</td>\n",
              "      <td>RURAL</td>\n",
              "      <td>ABIERTA</td>\n",
              "      <td>BILINGUE</td>\n",
              "      <td>MATUTINA</td>\n",
              "      <td>DIARIO(REGULAR)</td>\n",
              "      <td>ALTA VERAPAZ</td>\n",
              "    </tr>\n",
              "    <tr>\n",
              "      <th>16-01-0003-41</th>\n",
              "      <td>16 004</td>\n",
              "      <td>ALTA_VERAPAZ</td>\n",
              "      <td>COBAN</td>\n",
              "      <td>COPB ANEXO A EORM</td>\n",
              "      <td>ALDEA SANTA LUCIA</td>\n",
              "      <td>N/A</td>\n",
              "      <td>JUAN ANTONIO FIGUEROA CAAL</td>\n",
              "      <td>N/A</td>\n",
              "      <td>PREPRIMARIA BILINGUE</td>\n",
              "      <td>OFICIAL</td>\n",
              "      <td>RURAL</td>\n",
              "      <td>ABIERTA</td>\n",
              "      <td>BILINGUE</td>\n",
              "      <td>MATUTINA</td>\n",
              "      <td>DIARIO(REGULAR)</td>\n",
              "      <td>ALTA VERAPAZ</td>\n",
              "    </tr>\n",
              "    <tr>\n",
              "      <th>16-01-0004-41</th>\n",
              "      <td>N/A</td>\n",
              "      <td>ALTA_VERAPAZ</td>\n",
              "      <td>COBAN</td>\n",
              "      <td>CPPB ANEXA A EPRM</td>\n",
              "      <td>ALDEA LAS TORTUGAS</td>\n",
              "      <td>N/A</td>\n",
              "      <td>N/A</td>\n",
              "      <td>N/A</td>\n",
              "      <td>PREPRIMARIA BILINGUE</td>\n",
              "      <td>PRIVADO</td>\n",
              "      <td>RURAL</td>\n",
              "      <td>CERRADA TEMPORALMENTE</td>\n",
              "      <td>BILINGUE</td>\n",
              "      <td>MATUTINA</td>\n",
              "      <td>DIARIO(REGULAR)</td>\n",
              "      <td>ALTA VERAPAZ</td>\n",
              "    </tr>\n",
              "    <tr>\n",
              "      <th>16-01-0005-41</th>\n",
              "      <td>16 002</td>\n",
              "      <td>ALTA_VERAPAZ</td>\n",
              "      <td>COBAN</td>\n",
              "      <td>COPB ANEXO A EORM</td>\n",
              "      <td>ALDEA SAN PABLO XUCANEB</td>\n",
              "      <td>45187639</td>\n",
              "      <td>MOISES ADRIAN LOPEZ PEREZ</td>\n",
              "      <td>N/A</td>\n",
              "      <td>PREPRIMARIA BILINGUE</td>\n",
              "      <td>OFICIAL</td>\n",
              "      <td>RURAL</td>\n",
              "      <td>ABIERTA</td>\n",
              "      <td>BILINGUE</td>\n",
              "      <td>MATUTINA</td>\n",
              "      <td>DIARIO(REGULAR)</td>\n",
              "      <td>ALTA VERAPAZ</td>\n",
              "    </tr>\n",
              "    <tr>\n",
              "      <th>...</th>\n",
              "      <td>...</td>\n",
              "      <td>...</td>\n",
              "      <td>...</td>\n",
              "      <td>...</td>\n",
              "      <td>...</td>\n",
              "      <td>...</td>\n",
              "      <td>...</td>\n",
              "      <td>...</td>\n",
              "      <td>...</td>\n",
              "      <td>...</td>\n",
              "      <td>...</td>\n",
              "      <td>...</td>\n",
              "      <td>...</td>\n",
              "      <td>...</td>\n",
              "      <td>...</td>\n",
              "      <td>...</td>\n",
              "    </tr>\n",
              "    <tr>\n",
              "      <th>01-17-0260-44</th>\n",
              "      <td>01 641</td>\n",
              "      <td>GUATEMALA</td>\n",
              "      <td>SAN MIGUEL PETAPA</td>\n",
              "      <td>LICEO RICHMOND</td>\n",
              "      <td>LOTE 26, MANZANA E, SECTOR 1, VILLA HERMOSA I</td>\n",
              "      <td>24826611</td>\n",
              "      <td>SERGIO ALEJANDRO VILLATORO VILLAGRAN</td>\n",
              "      <td>ELISALEN ESQUITE CAMPOS</td>\n",
              "      <td>PRIMARIA DE ADULTOS</td>\n",
              "      <td>PRIVADO</td>\n",
              "      <td>URBANA</td>\n",
              "      <td>ABIERTA</td>\n",
              "      <td>MONOLINGUE</td>\n",
              "      <td>DOBLE</td>\n",
              "      <td>FIN DE SEMANA</td>\n",
              "      <td>GUATEMALA SUR</td>\n",
              "    </tr>\n",
              "    <tr>\n",
              "      <th>01-17-7495-44</th>\n",
              "      <td>01 641</td>\n",
              "      <td>GUATEMALA</td>\n",
              "      <td>SAN MIGUEL PETAPA</td>\n",
              "      <td>CENTRO EDUCATIVO PERSONALIZADO NEZEEL</td>\n",
              "      <td>CALLE PRINCIPAL 2-18, ZONA 4</td>\n",
              "      <td>66318403</td>\n",
              "      <td>SERGIO ALEJANDRO VILLATORO VILLAGRAN</td>\n",
              "      <td>N/A</td>\n",
              "      <td>PRIMARIA DE ADULTOS</td>\n",
              "      <td>PRIVADO</td>\n",
              "      <td>URBANA</td>\n",
              "      <td>ABIERTA</td>\n",
              "      <td>MONOLINGUE</td>\n",
              "      <td>DOBLE</td>\n",
              "      <td>FIN DE SEMANA</td>\n",
              "      <td>GUATEMALA SUR</td>\n",
              "    </tr>\n",
              "    <tr>\n",
              "      <th>01-17-8114-44</th>\n",
              "      <td>01 406</td>\n",
              "      <td>GUATEMALA</td>\n",
              "      <td>SAN MIGUEL PETAPA</td>\n",
              "      <td>COLEGIO MIXTO NICTE</td>\n",
              "      <td>LOTE 45 MANZANA D SECTOR 10 PRADOS DE VILLA HE...</td>\n",
              "      <td>24481320</td>\n",
              "      <td>MIGUEL ALVARO RODRIGUEZ PORTILLO</td>\n",
              "      <td>N/A</td>\n",
              "      <td>PRIMARIA DE ADULTOS</td>\n",
              "      <td>PRIVADO</td>\n",
              "      <td>URBANA</td>\n",
              "      <td>CERRADA TEMPORALMENTE</td>\n",
              "      <td>MONOLINGUE</td>\n",
              "      <td>MATUTINA</td>\n",
              "      <td>FIN DE SEMANA</td>\n",
              "      <td>GUATEMALA SUR</td>\n",
              "    </tr>\n",
              "    <tr>\n",
              "      <th>01-17-9119-44</th>\n",
              "      <td>01 641</td>\n",
              "      <td>GUATEMALA</td>\n",
              "      <td>SAN MIGUEL PETAPA</td>\n",
              "      <td>LICEO EVANGELICO PRADOS DE VILLAHERMOSA</td>\n",
              "      <td>LOTES 7,8,9,10 Y 11 MANZANA B SECTOR 11 PRADOS...</td>\n",
              "      <td>24647039</td>\n",
              "      <td>SERGIO ALEJANDRO VILLATORO VILLAGRAN</td>\n",
              "      <td>N/A</td>\n",
              "      <td>PRIMARIA DE ADULTOS</td>\n",
              "      <td>PRIVADO</td>\n",
              "      <td>URBANA</td>\n",
              "      <td>ABIERTA</td>\n",
              "      <td>MONOLINGUE</td>\n",
              "      <td>DOBLE</td>\n",
              "      <td>FIN DE SEMANA</td>\n",
              "      <td>GUATEMALA SUR</td>\n",
              "    </tr>\n",
              "    <tr>\n",
              "      <th>138 Establecimientos encontrados</th>\n",
              "      <td>N/A</td>\n",
              "      <td>GUATEMALA</td>\n",
              "      <td>N/A</td>\n",
              "      <td>N/A</td>\n",
              "      <td>GUATEMALA</td>\n",
              "      <td>N/A</td>\n",
              "      <td>N/A</td>\n",
              "      <td>N/A</td>\n",
              "      <td>N/A</td>\n",
              "      <td>N/A</td>\n",
              "      <td>N/A</td>\n",
              "      <td>N/A</td>\n",
              "      <td>N/A</td>\n",
              "      <td>N/A</td>\n",
              "      <td>N/A</td>\n",
              "      <td>N/A</td>\n",
              "    </tr>\n",
              "  </tbody>\n",
              "</table>\n",
              "<p>65022 rows × 16 columns</p>\n",
              "</div>"
            ],
            "text/plain": [
              "0                                distrito  ...  departamental\n",
              "codigo                                     ...               \n",
              "16-01-0001-41                      16 002  ...   ALTA VERAPAZ\n",
              "16-01-0002-41                      16 004  ...   ALTA VERAPAZ\n",
              "16-01-0003-41                      16 004  ...   ALTA VERAPAZ\n",
              "16-01-0004-41                         N/A  ...   ALTA VERAPAZ\n",
              "16-01-0005-41                      16 002  ...   ALTA VERAPAZ\n",
              "...                                   ...  ...            ...\n",
              "01-17-0260-44                      01 641  ...  GUATEMALA SUR\n",
              "01-17-7495-44                      01 641  ...  GUATEMALA SUR\n",
              "01-17-8114-44                      01 406  ...  GUATEMALA SUR\n",
              "01-17-9119-44                      01 641  ...  GUATEMALA SUR\n",
              "138 Establecimientos encontrados      N/A  ...            N/A\n",
              "\n",
              "[65022 rows x 16 columns]"
            ]
          },
          "metadata": {
            "tags": []
          },
          "execution_count": 26
        }
      ]
    },
    {
      "cell_type": "code",
      "metadata": {
        "colab": {
          "base_uri": "https://localhost:8080/"
        },
        "id": "hEBVBh_dzobX",
        "outputId": "f8e09868-dbed-4cd7-d5c8-48ecb698bad2"
      },
      "source": [
        "# Eliminamos la ultima fila porque no brinda informacion sobre algun establecimiento\n",
        "df_pais = df_pais[:-1]\n",
        "df_pais.columns"
      ],
      "execution_count": 27,
      "outputs": [
        {
          "output_type": "execute_result",
          "data": {
            "text/plain": [
              "Index(['codigo', 'distrito', 'departamento', 'municipio', 'establecimiento',\n",
              "       'direccion', 'telefono', 'supervisor', 'director', 'nivel', 'sector',\n",
              "       'area', 'status', 'modalidad', 'jornada', 'plan', 'departamental'],\n",
              "      dtype='object', name=0)"
            ]
          },
          "metadata": {
            "tags": []
          },
          "execution_count": 27
        }
      ]
    },
    {
      "cell_type": "code",
      "metadata": {
        "colab": {
          "base_uri": "https://localhost:8080/",
          "height": 462
        },
        "id": "gXB1or11JGLe",
        "outputId": "9af43c43-1504-43fd-c8c8-ec620f02b771"
      },
      "source": [
        "df_pais.head()"
      ],
      "execution_count": 28,
      "outputs": [
        {
          "output_type": "execute_result",
          "data": {
            "text/html": [
              "<div>\n",
              "<style scoped>\n",
              "    .dataframe tbody tr th:only-of-type {\n",
              "        vertical-align: middle;\n",
              "    }\n",
              "\n",
              "    .dataframe tbody tr th {\n",
              "        vertical-align: top;\n",
              "    }\n",
              "\n",
              "    .dataframe thead th {\n",
              "        text-align: right;\n",
              "    }\n",
              "</style>\n",
              "<table border=\"1\" class=\"dataframe\">\n",
              "  <thead>\n",
              "    <tr style=\"text-align: right;\">\n",
              "      <th></th>\n",
              "      <th>codigo</th>\n",
              "      <th>distrito</th>\n",
              "      <th>departamento</th>\n",
              "      <th>municipio</th>\n",
              "      <th>establecimiento</th>\n",
              "      <th>direccion</th>\n",
              "      <th>telefono</th>\n",
              "      <th>supervisor</th>\n",
              "      <th>director</th>\n",
              "      <th>nivel</th>\n",
              "      <th>sector</th>\n",
              "      <th>area</th>\n",
              "      <th>status</th>\n",
              "      <th>modalidad</th>\n",
              "      <th>jornada</th>\n",
              "      <th>plan</th>\n",
              "      <th>departamental</th>\n",
              "    </tr>\n",
              "  </thead>\n",
              "  <tbody>\n",
              "    <tr>\n",
              "      <th>0</th>\n",
              "      <td>16-01-0001-41</td>\n",
              "      <td>16 002</td>\n",
              "      <td>ALTA_VERAPAZ</td>\n",
              "      <td>COBAN</td>\n",
              "      <td>COPB ANEXO A EORM</td>\n",
              "      <td>ALDEA SAN PEDRITO</td>\n",
              "      <td>N/A</td>\n",
              "      <td>MOISES ADRIAN LOPEZ PEREZ</td>\n",
              "      <td>N/A</td>\n",
              "      <td>PREPRIMARIA BILINGUE</td>\n",
              "      <td>OFICIAL</td>\n",
              "      <td>RURAL</td>\n",
              "      <td>CERRADA TEMPORALMENTE</td>\n",
              "      <td>BILINGUE</td>\n",
              "      <td>MATUTINA</td>\n",
              "      <td>DIARIO(REGULAR)</td>\n",
              "      <td>ALTA VERAPAZ</td>\n",
              "    </tr>\n",
              "    <tr>\n",
              "      <th>1</th>\n",
              "      <td>16-01-0002-41</td>\n",
              "      <td>16 004</td>\n",
              "      <td>ALTA_VERAPAZ</td>\n",
              "      <td>COBAN</td>\n",
              "      <td>COPB ANEXO A EORM</td>\n",
              "      <td>ALDEA SAN JOSE ICBOLAY</td>\n",
              "      <td>N/A</td>\n",
              "      <td>JUAN ANTONIO FIGUEROA CAAL</td>\n",
              "      <td>N/A</td>\n",
              "      <td>PREPRIMARIA BILINGUE</td>\n",
              "      <td>OFICIAL</td>\n",
              "      <td>RURAL</td>\n",
              "      <td>ABIERTA</td>\n",
              "      <td>BILINGUE</td>\n",
              "      <td>MATUTINA</td>\n",
              "      <td>DIARIO(REGULAR)</td>\n",
              "      <td>ALTA VERAPAZ</td>\n",
              "    </tr>\n",
              "    <tr>\n",
              "      <th>2</th>\n",
              "      <td>16-01-0003-41</td>\n",
              "      <td>16 004</td>\n",
              "      <td>ALTA_VERAPAZ</td>\n",
              "      <td>COBAN</td>\n",
              "      <td>COPB ANEXO A EORM</td>\n",
              "      <td>ALDEA SANTA LUCIA</td>\n",
              "      <td>N/A</td>\n",
              "      <td>JUAN ANTONIO FIGUEROA CAAL</td>\n",
              "      <td>N/A</td>\n",
              "      <td>PREPRIMARIA BILINGUE</td>\n",
              "      <td>OFICIAL</td>\n",
              "      <td>RURAL</td>\n",
              "      <td>ABIERTA</td>\n",
              "      <td>BILINGUE</td>\n",
              "      <td>MATUTINA</td>\n",
              "      <td>DIARIO(REGULAR)</td>\n",
              "      <td>ALTA VERAPAZ</td>\n",
              "    </tr>\n",
              "    <tr>\n",
              "      <th>3</th>\n",
              "      <td>16-01-0004-41</td>\n",
              "      <td>N/A</td>\n",
              "      <td>ALTA_VERAPAZ</td>\n",
              "      <td>COBAN</td>\n",
              "      <td>CPPB ANEXA A EPRM</td>\n",
              "      <td>ALDEA LAS TORTUGAS</td>\n",
              "      <td>N/A</td>\n",
              "      <td>N/A</td>\n",
              "      <td>N/A</td>\n",
              "      <td>PREPRIMARIA BILINGUE</td>\n",
              "      <td>PRIVADO</td>\n",
              "      <td>RURAL</td>\n",
              "      <td>CERRADA TEMPORALMENTE</td>\n",
              "      <td>BILINGUE</td>\n",
              "      <td>MATUTINA</td>\n",
              "      <td>DIARIO(REGULAR)</td>\n",
              "      <td>ALTA VERAPAZ</td>\n",
              "    </tr>\n",
              "    <tr>\n",
              "      <th>4</th>\n",
              "      <td>16-01-0005-41</td>\n",
              "      <td>16 002</td>\n",
              "      <td>ALTA_VERAPAZ</td>\n",
              "      <td>COBAN</td>\n",
              "      <td>COPB ANEXO A EORM</td>\n",
              "      <td>ALDEA SAN PABLO XUCANEB</td>\n",
              "      <td>45187639</td>\n",
              "      <td>MOISES ADRIAN LOPEZ PEREZ</td>\n",
              "      <td>N/A</td>\n",
              "      <td>PREPRIMARIA BILINGUE</td>\n",
              "      <td>OFICIAL</td>\n",
              "      <td>RURAL</td>\n",
              "      <td>ABIERTA</td>\n",
              "      <td>BILINGUE</td>\n",
              "      <td>MATUTINA</td>\n",
              "      <td>DIARIO(REGULAR)</td>\n",
              "      <td>ALTA VERAPAZ</td>\n",
              "    </tr>\n",
              "  </tbody>\n",
              "</table>\n",
              "</div>"
            ],
            "text/plain": [
              "0         codigo distrito  ...             plan departamental\n",
              "0  16-01-0001-41   16 002  ...  DIARIO(REGULAR)  ALTA VERAPAZ\n",
              "1  16-01-0002-41   16 004  ...  DIARIO(REGULAR)  ALTA VERAPAZ\n",
              "2  16-01-0003-41   16 004  ...  DIARIO(REGULAR)  ALTA VERAPAZ\n",
              "3  16-01-0004-41      N/A  ...  DIARIO(REGULAR)  ALTA VERAPAZ\n",
              "4  16-01-0005-41   16 002  ...  DIARIO(REGULAR)  ALTA VERAPAZ\n",
              "\n",
              "[5 rows x 17 columns]"
            ]
          },
          "metadata": {
            "tags": []
          },
          "execution_count": 28
        }
      ]
    },
    {
      "cell_type": "code",
      "metadata": {
        "id": "izfLbV8BY7kz"
      },
      "source": [
        "df_pais.to_csv(\"Establecimientos_de_Guatemala_Limpios.csv\")"
      ],
      "execution_count": 29,
      "outputs": []
    },
    {
      "cell_type": "code",
      "metadata": {
        "id": "KU0P1r96ZcpJ",
        "colab": {
          "base_uri": "https://localhost:8080/",
          "height": 145,
          "referenced_widgets": [
            "1f5314184c564848944491ef0e280b93",
            "1b8497a7a0de446ab9b8a72801d1c4d5",
            "96883171d48e4540bbb12365e7cb29e3",
            "5cb66f8084d746fca83a820627d86903",
            "877306ac43514647a156006dcab3bc68",
            "d67fd083a9ae469cba435bf4468b67ad",
            "a8843580322f4388be392df13d0f8301",
            "bb0d97b6212e443084cda124f538e39a",
            "c9ac97dae90b41acb9dd1a74b1acd3bf",
            "f85a61866f0d49fa9cfc5887258f7670",
            "dd6bb3abe2fe4c339da8d8cb9d1c5559",
            "4f6df372ff4749f28d6c7f7cf5f43bd9",
            "a8cf461555344033a17e7e04074fc350",
            "92c5d9ac20564c089bea2428decbd7fb",
            "d59981a0fb564039957a05a94cbb3194",
            "be265ea3f9e740bfbbc3019e42bf7787",
            "f7a2ad69789448f28d17f6649aa6b897",
            "df2e5eff282f4d52b074780dc69df1b9",
            "094042029a7d4b4f95179f3cec49277f",
            "a57cd303ab6344399705bbccb2486ec9",
            "a6b4f65f0853429496780fcd2ef57b08",
            "54eea8fe63f244f3a50cfae080e52b81",
            "f53ae745167e44a98a9a1324dc10607f",
            "18a51671e2b84abfa13a6c4a3a6e16d5",
            "dde9dc4e76484a43be22d9fc2a3937b9",
            "51bd8635a3ac4fd3b31cae363b38e0d7",
            "78f917c6e2c84e409c9f11421b4c5a07",
            "028ce0b0b1034266928814ffee62de71",
            "41c7779639344bae848f3108e536a3ad",
            "a06f9e0348bb4cb38e6733f994c5fc48",
            "911224c8cd58494e87d4c43d1d296b19",
            "ba0fda02d98d46ef9f0c49e952504d6e",
            "37971362e49e4c2e9359fb12ef8a3e9b",
            "016d86f6c77f47728704a42d942f25cf",
            "0298164886124161893c1f25f5327067",
            "7879fc27336343ac955ffa806cc36a9c",
            "be983732cbce445cadf9c329893ee130",
            "36be7fd844df4807adfd9a171ebf4bee",
            "0c3c1194412546a79431cbabcb937e39",
            "570439bb4b4f4c5c90908ac66576e941",
            "3997551703204accba786de93f0e290d",
            "945e6c59d5c241558a810ee27d7f21d4",
            "121542dc7daf4c7291865bc296cc7286",
            "2bd0a7ca30ea46aeb70a889099ebc961"
          ]
        },
        "outputId": "e4b4177c-92d8-4880-8ba9-1e860f4e7e76"
      },
      "source": [
        "prof = ProfileReport(df_pais)\n",
        "prof.to_file(output_file='reporte.html')"
      ],
      "execution_count": 30,
      "outputs": [
        {
          "output_type": "display_data",
          "data": {
            "application/vnd.jupyter.widget-view+json": {
              "model_id": "1f5314184c564848944491ef0e280b93",
              "version_minor": 0,
              "version_major": 2
            },
            "text/plain": [
              "Summarize dataset:   0%|          | 0/31 [00:00<?, ?it/s]"
            ]
          },
          "metadata": {
            "tags": []
          }
        },
        {
          "output_type": "display_data",
          "data": {
            "application/vnd.jupyter.widget-view+json": {
              "model_id": "4f6df372ff4749f28d6c7f7cf5f43bd9",
              "version_minor": 0,
              "version_major": 2
            },
            "text/plain": [
              "Generate report structure:   0%|          | 0/1 [00:00<?, ?it/s]"
            ]
          },
          "metadata": {
            "tags": []
          }
        },
        {
          "output_type": "display_data",
          "data": {
            "application/vnd.jupyter.widget-view+json": {
              "model_id": "f53ae745167e44a98a9a1324dc10607f",
              "version_minor": 0,
              "version_major": 2
            },
            "text/plain": [
              "Render HTML:   0%|          | 0/1 [00:00<?, ?it/s]"
            ]
          },
          "metadata": {
            "tags": []
          }
        },
        {
          "output_type": "display_data",
          "data": {
            "application/vnd.jupyter.widget-view+json": {
              "model_id": "016d86f6c77f47728704a42d942f25cf",
              "version_minor": 0,
              "version_major": 2
            },
            "text/plain": [
              "Export report to file:   0%|          | 0/1 [00:00<?, ?it/s]"
            ]
          },
          "metadata": {
            "tags": []
          }
        }
      ]
    }
  ]
}