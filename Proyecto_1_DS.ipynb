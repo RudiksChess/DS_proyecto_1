{
  "nbformat": 4,
  "nbformat_minor": 0,
  "metadata": {
    "interpreter": {
      "hash": "2757f2c2fa6babad547f4a3642c7cf29f9f98149abb7990afbb40d637e41adc8"
    },
    "kernelspec": {
      "name": "python3",
      "display_name": "Python 3.7.6 64-bit ('base': conda)"
    },
    "language_info": {
      "name": "python",
      "version": "3.7.6",
      "mimetype": "text/x-python",
      "codemirror_mode": {
        "name": "ipython",
        "version": 3
      },
      "pygments_lexer": "ipython3",
      "nbconvert_exporter": "python",
      "file_extension": ".py"
    },
    "colab": {
      "name": "Proyecto_1_DS.ipynb",
      "provenance": [],
      "collapsed_sections": [],
      "include_colab_link": true
    },
    "widgets": {
      "application/vnd.jupyter.widget-state+json": {
        "f512231720524c58bc36f1f026a73454": {
          "model_module": "@jupyter-widgets/controls",
          "model_name": "HBoxModel",
          "state": {
            "_view_name": "HBoxView",
            "_dom_classes": [],
            "_model_name": "HBoxModel",
            "_view_module": "@jupyter-widgets/controls",
            "_model_module_version": "1.5.0",
            "_view_count": null,
            "_view_module_version": "1.5.0",
            "box_style": "",
            "layout": "IPY_MODEL_3f3f238cdd084c50b5c336a06055cd3c",
            "_model_module": "@jupyter-widgets/controls",
            "children": [
              "IPY_MODEL_04e7723355f842e995a2b9d29880573a",
              "IPY_MODEL_798a24317a014ae489c57c5c5f9686fd",
              "IPY_MODEL_99cd543c6e0b4e528af707b2c4b30fb8"
            ]
          }
        },
        "3f3f238cdd084c50b5c336a06055cd3c": {
          "model_module": "@jupyter-widgets/base",
          "model_name": "LayoutModel",
          "state": {
            "_view_name": "LayoutView",
            "grid_template_rows": null,
            "right": null,
            "justify_content": null,
            "_view_module": "@jupyter-widgets/base",
            "overflow": null,
            "_model_module_version": "1.2.0",
            "_view_count": null,
            "flex_flow": null,
            "width": null,
            "min_width": null,
            "border": null,
            "align_items": null,
            "bottom": null,
            "_model_module": "@jupyter-widgets/base",
            "top": null,
            "grid_column": null,
            "overflow_y": null,
            "overflow_x": null,
            "grid_auto_flow": null,
            "grid_area": null,
            "grid_template_columns": null,
            "flex": null,
            "_model_name": "LayoutModel",
            "justify_items": null,
            "grid_row": null,
            "max_height": null,
            "align_content": null,
            "visibility": null,
            "align_self": null,
            "height": null,
            "min_height": null,
            "padding": null,
            "grid_auto_rows": null,
            "grid_gap": null,
            "max_width": null,
            "order": null,
            "_view_module_version": "1.2.0",
            "grid_template_areas": null,
            "object_position": null,
            "object_fit": null,
            "grid_auto_columns": null,
            "margin": null,
            "display": null,
            "left": null
          }
        },
        "04e7723355f842e995a2b9d29880573a": {
          "model_module": "@jupyter-widgets/controls",
          "model_name": "HTMLModel",
          "state": {
            "_view_name": "HTMLView",
            "style": "IPY_MODEL_d8b2d1025a6e4a77b84599dd32e68b0c",
            "_dom_classes": [],
            "description": "",
            "_model_name": "HTMLModel",
            "placeholder": "​",
            "_view_module": "@jupyter-widgets/controls",
            "_model_module_version": "1.5.0",
            "value": "Summarize dataset: 100%",
            "_view_count": null,
            "_view_module_version": "1.5.0",
            "description_tooltip": null,
            "_model_module": "@jupyter-widgets/controls",
            "layout": "IPY_MODEL_53bcdcbae4d24a8ebdfcbe37f9e74806"
          }
        },
        "798a24317a014ae489c57c5c5f9686fd": {
          "model_module": "@jupyter-widgets/controls",
          "model_name": "FloatProgressModel",
          "state": {
            "_view_name": "ProgressView",
            "style": "IPY_MODEL_b3b562d891a447b582da9bcb1fe40715",
            "_dom_classes": [],
            "description": "",
            "_model_name": "FloatProgressModel",
            "bar_style": "success",
            "max": 31,
            "_view_module": "@jupyter-widgets/controls",
            "_model_module_version": "1.5.0",
            "value": 31,
            "_view_count": null,
            "_view_module_version": "1.5.0",
            "orientation": "horizontal",
            "min": 0,
            "description_tooltip": null,
            "_model_module": "@jupyter-widgets/controls",
            "layout": "IPY_MODEL_215adb39a0f94e2f8cdf780b2426e77a"
          }
        },
        "99cd543c6e0b4e528af707b2c4b30fb8": {
          "model_module": "@jupyter-widgets/controls",
          "model_name": "HTMLModel",
          "state": {
            "_view_name": "HTMLView",
            "style": "IPY_MODEL_91df1b41ac3b4f9f8716608eef9bab47",
            "_dom_classes": [],
            "description": "",
            "_model_name": "HTMLModel",
            "placeholder": "​",
            "_view_module": "@jupyter-widgets/controls",
            "_model_module_version": "1.5.0",
            "value": " 31/31 [00:12&lt;00:00,  2.76it/s, Completed]",
            "_view_count": null,
            "_view_module_version": "1.5.0",
            "description_tooltip": null,
            "_model_module": "@jupyter-widgets/controls",
            "layout": "IPY_MODEL_1b619fdf631c417f9bacd67f71afab0a"
          }
        },
        "d8b2d1025a6e4a77b84599dd32e68b0c": {
          "model_module": "@jupyter-widgets/controls",
          "model_name": "DescriptionStyleModel",
          "state": {
            "_view_name": "StyleView",
            "_model_name": "DescriptionStyleModel",
            "description_width": "",
            "_view_module": "@jupyter-widgets/base",
            "_model_module_version": "1.5.0",
            "_view_count": null,
            "_view_module_version": "1.2.0",
            "_model_module": "@jupyter-widgets/controls"
          }
        },
        "53bcdcbae4d24a8ebdfcbe37f9e74806": {
          "model_module": "@jupyter-widgets/base",
          "model_name": "LayoutModel",
          "state": {
            "_view_name": "LayoutView",
            "grid_template_rows": null,
            "right": null,
            "justify_content": null,
            "_view_module": "@jupyter-widgets/base",
            "overflow": null,
            "_model_module_version": "1.2.0",
            "_view_count": null,
            "flex_flow": null,
            "width": null,
            "min_width": null,
            "border": null,
            "align_items": null,
            "bottom": null,
            "_model_module": "@jupyter-widgets/base",
            "top": null,
            "grid_column": null,
            "overflow_y": null,
            "overflow_x": null,
            "grid_auto_flow": null,
            "grid_area": null,
            "grid_template_columns": null,
            "flex": null,
            "_model_name": "LayoutModel",
            "justify_items": null,
            "grid_row": null,
            "max_height": null,
            "align_content": null,
            "visibility": null,
            "align_self": null,
            "height": null,
            "min_height": null,
            "padding": null,
            "grid_auto_rows": null,
            "grid_gap": null,
            "max_width": null,
            "order": null,
            "_view_module_version": "1.2.0",
            "grid_template_areas": null,
            "object_position": null,
            "object_fit": null,
            "grid_auto_columns": null,
            "margin": null,
            "display": null,
            "left": null
          }
        },
        "b3b562d891a447b582da9bcb1fe40715": {
          "model_module": "@jupyter-widgets/controls",
          "model_name": "ProgressStyleModel",
          "state": {
            "_view_name": "StyleView",
            "_model_name": "ProgressStyleModel",
            "description_width": "",
            "_view_module": "@jupyter-widgets/base",
            "_model_module_version": "1.5.0",
            "_view_count": null,
            "_view_module_version": "1.2.0",
            "bar_color": null,
            "_model_module": "@jupyter-widgets/controls"
          }
        },
        "215adb39a0f94e2f8cdf780b2426e77a": {
          "model_module": "@jupyter-widgets/base",
          "model_name": "LayoutModel",
          "state": {
            "_view_name": "LayoutView",
            "grid_template_rows": null,
            "right": null,
            "justify_content": null,
            "_view_module": "@jupyter-widgets/base",
            "overflow": null,
            "_model_module_version": "1.2.0",
            "_view_count": null,
            "flex_flow": null,
            "width": null,
            "min_width": null,
            "border": null,
            "align_items": null,
            "bottom": null,
            "_model_module": "@jupyter-widgets/base",
            "top": null,
            "grid_column": null,
            "overflow_y": null,
            "overflow_x": null,
            "grid_auto_flow": null,
            "grid_area": null,
            "grid_template_columns": null,
            "flex": null,
            "_model_name": "LayoutModel",
            "justify_items": null,
            "grid_row": null,
            "max_height": null,
            "align_content": null,
            "visibility": null,
            "align_self": null,
            "height": null,
            "min_height": null,
            "padding": null,
            "grid_auto_rows": null,
            "grid_gap": null,
            "max_width": null,
            "order": null,
            "_view_module_version": "1.2.0",
            "grid_template_areas": null,
            "object_position": null,
            "object_fit": null,
            "grid_auto_columns": null,
            "margin": null,
            "display": null,
            "left": null
          }
        },
        "91df1b41ac3b4f9f8716608eef9bab47": {
          "model_module": "@jupyter-widgets/controls",
          "model_name": "DescriptionStyleModel",
          "state": {
            "_view_name": "StyleView",
            "_model_name": "DescriptionStyleModel",
            "description_width": "",
            "_view_module": "@jupyter-widgets/base",
            "_model_module_version": "1.5.0",
            "_view_count": null,
            "_view_module_version": "1.2.0",
            "_model_module": "@jupyter-widgets/controls"
          }
        },
        "1b619fdf631c417f9bacd67f71afab0a": {
          "model_module": "@jupyter-widgets/base",
          "model_name": "LayoutModel",
          "state": {
            "_view_name": "LayoutView",
            "grid_template_rows": null,
            "right": null,
            "justify_content": null,
            "_view_module": "@jupyter-widgets/base",
            "overflow": null,
            "_model_module_version": "1.2.0",
            "_view_count": null,
            "flex_flow": null,
            "width": null,
            "min_width": null,
            "border": null,
            "align_items": null,
            "bottom": null,
            "_model_module": "@jupyter-widgets/base",
            "top": null,
            "grid_column": null,
            "overflow_y": null,
            "overflow_x": null,
            "grid_auto_flow": null,
            "grid_area": null,
            "grid_template_columns": null,
            "flex": null,
            "_model_name": "LayoutModel",
            "justify_items": null,
            "grid_row": null,
            "max_height": null,
            "align_content": null,
            "visibility": null,
            "align_self": null,
            "height": null,
            "min_height": null,
            "padding": null,
            "grid_auto_rows": null,
            "grid_gap": null,
            "max_width": null,
            "order": null,
            "_view_module_version": "1.2.0",
            "grid_template_areas": null,
            "object_position": null,
            "object_fit": null,
            "grid_auto_columns": null,
            "margin": null,
            "display": null,
            "left": null
          }
        },
        "74896110529549589cd35075e917b8ed": {
          "model_module": "@jupyter-widgets/controls",
          "model_name": "HBoxModel",
          "state": {
            "_view_name": "HBoxView",
            "_dom_classes": [],
            "_model_name": "HBoxModel",
            "_view_module": "@jupyter-widgets/controls",
            "_model_module_version": "1.5.0",
            "_view_count": null,
            "_view_module_version": "1.5.0",
            "box_style": "",
            "layout": "IPY_MODEL_6b2f7c96695f4902ad6e029c77fbe905",
            "_model_module": "@jupyter-widgets/controls",
            "children": [
              "IPY_MODEL_dded0095606f47d6a88411ad88d00693",
              "IPY_MODEL_970f1d8208834bc9a2500e7b45dc575e",
              "IPY_MODEL_38c2fed8cf6d4856ad0692923df2b752"
            ]
          }
        },
        "6b2f7c96695f4902ad6e029c77fbe905": {
          "model_module": "@jupyter-widgets/base",
          "model_name": "LayoutModel",
          "state": {
            "_view_name": "LayoutView",
            "grid_template_rows": null,
            "right": null,
            "justify_content": null,
            "_view_module": "@jupyter-widgets/base",
            "overflow": null,
            "_model_module_version": "1.2.0",
            "_view_count": null,
            "flex_flow": null,
            "width": null,
            "min_width": null,
            "border": null,
            "align_items": null,
            "bottom": null,
            "_model_module": "@jupyter-widgets/base",
            "top": null,
            "grid_column": null,
            "overflow_y": null,
            "overflow_x": null,
            "grid_auto_flow": null,
            "grid_area": null,
            "grid_template_columns": null,
            "flex": null,
            "_model_name": "LayoutModel",
            "justify_items": null,
            "grid_row": null,
            "max_height": null,
            "align_content": null,
            "visibility": null,
            "align_self": null,
            "height": null,
            "min_height": null,
            "padding": null,
            "grid_auto_rows": null,
            "grid_gap": null,
            "max_width": null,
            "order": null,
            "_view_module_version": "1.2.0",
            "grid_template_areas": null,
            "object_position": null,
            "object_fit": null,
            "grid_auto_columns": null,
            "margin": null,
            "display": null,
            "left": null
          }
        },
        "dded0095606f47d6a88411ad88d00693": {
          "model_module": "@jupyter-widgets/controls",
          "model_name": "HTMLModel",
          "state": {
            "_view_name": "HTMLView",
            "style": "IPY_MODEL_bd70476e18e54862a5b4e21d9d6f7485",
            "_dom_classes": [],
            "description": "",
            "_model_name": "HTMLModel",
            "placeholder": "​",
            "_view_module": "@jupyter-widgets/controls",
            "_model_module_version": "1.5.0",
            "value": "Generate report structure: 100%",
            "_view_count": null,
            "_view_module_version": "1.5.0",
            "description_tooltip": null,
            "_model_module": "@jupyter-widgets/controls",
            "layout": "IPY_MODEL_3264e738fffc4bd4aa7f5c7e1157d053"
          }
        },
        "970f1d8208834bc9a2500e7b45dc575e": {
          "model_module": "@jupyter-widgets/controls",
          "model_name": "FloatProgressModel",
          "state": {
            "_view_name": "ProgressView",
            "style": "IPY_MODEL_1c49368e5d2647b3bebc4d4b22d6692a",
            "_dom_classes": [],
            "description": "",
            "_model_name": "FloatProgressModel",
            "bar_style": "success",
            "max": 1,
            "_view_module": "@jupyter-widgets/controls",
            "_model_module_version": "1.5.0",
            "value": 1,
            "_view_count": null,
            "_view_module_version": "1.5.0",
            "orientation": "horizontal",
            "min": 0,
            "description_tooltip": null,
            "_model_module": "@jupyter-widgets/controls",
            "layout": "IPY_MODEL_762522bea4084e509420b7d12acba4b1"
          }
        },
        "38c2fed8cf6d4856ad0692923df2b752": {
          "model_module": "@jupyter-widgets/controls",
          "model_name": "HTMLModel",
          "state": {
            "_view_name": "HTMLView",
            "style": "IPY_MODEL_1588b0df686f4d3c8794097bcd06dc0c",
            "_dom_classes": [],
            "description": "",
            "_model_name": "HTMLModel",
            "placeholder": "​",
            "_view_module": "@jupyter-widgets/controls",
            "_model_module_version": "1.5.0",
            "value": " 1/1 [00:09&lt;00:00,  9.61s/it]",
            "_view_count": null,
            "_view_module_version": "1.5.0",
            "description_tooltip": null,
            "_model_module": "@jupyter-widgets/controls",
            "layout": "IPY_MODEL_bceb14044bed401ba93379ee274c2b36"
          }
        },
        "bd70476e18e54862a5b4e21d9d6f7485": {
          "model_module": "@jupyter-widgets/controls",
          "model_name": "DescriptionStyleModel",
          "state": {
            "_view_name": "StyleView",
            "_model_name": "DescriptionStyleModel",
            "description_width": "",
            "_view_module": "@jupyter-widgets/base",
            "_model_module_version": "1.5.0",
            "_view_count": null,
            "_view_module_version": "1.2.0",
            "_model_module": "@jupyter-widgets/controls"
          }
        },
        "3264e738fffc4bd4aa7f5c7e1157d053": {
          "model_module": "@jupyter-widgets/base",
          "model_name": "LayoutModel",
          "state": {
            "_view_name": "LayoutView",
            "grid_template_rows": null,
            "right": null,
            "justify_content": null,
            "_view_module": "@jupyter-widgets/base",
            "overflow": null,
            "_model_module_version": "1.2.0",
            "_view_count": null,
            "flex_flow": null,
            "width": null,
            "min_width": null,
            "border": null,
            "align_items": null,
            "bottom": null,
            "_model_module": "@jupyter-widgets/base",
            "top": null,
            "grid_column": null,
            "overflow_y": null,
            "overflow_x": null,
            "grid_auto_flow": null,
            "grid_area": null,
            "grid_template_columns": null,
            "flex": null,
            "_model_name": "LayoutModel",
            "justify_items": null,
            "grid_row": null,
            "max_height": null,
            "align_content": null,
            "visibility": null,
            "align_self": null,
            "height": null,
            "min_height": null,
            "padding": null,
            "grid_auto_rows": null,
            "grid_gap": null,
            "max_width": null,
            "order": null,
            "_view_module_version": "1.2.0",
            "grid_template_areas": null,
            "object_position": null,
            "object_fit": null,
            "grid_auto_columns": null,
            "margin": null,
            "display": null,
            "left": null
          }
        },
        "1c49368e5d2647b3bebc4d4b22d6692a": {
          "model_module": "@jupyter-widgets/controls",
          "model_name": "ProgressStyleModel",
          "state": {
            "_view_name": "StyleView",
            "_model_name": "ProgressStyleModel",
            "description_width": "",
            "_view_module": "@jupyter-widgets/base",
            "_model_module_version": "1.5.0",
            "_view_count": null,
            "_view_module_version": "1.2.0",
            "bar_color": null,
            "_model_module": "@jupyter-widgets/controls"
          }
        },
        "762522bea4084e509420b7d12acba4b1": {
          "model_module": "@jupyter-widgets/base",
          "model_name": "LayoutModel",
          "state": {
            "_view_name": "LayoutView",
            "grid_template_rows": null,
            "right": null,
            "justify_content": null,
            "_view_module": "@jupyter-widgets/base",
            "overflow": null,
            "_model_module_version": "1.2.0",
            "_view_count": null,
            "flex_flow": null,
            "width": null,
            "min_width": null,
            "border": null,
            "align_items": null,
            "bottom": null,
            "_model_module": "@jupyter-widgets/base",
            "top": null,
            "grid_column": null,
            "overflow_y": null,
            "overflow_x": null,
            "grid_auto_flow": null,
            "grid_area": null,
            "grid_template_columns": null,
            "flex": null,
            "_model_name": "LayoutModel",
            "justify_items": null,
            "grid_row": null,
            "max_height": null,
            "align_content": null,
            "visibility": null,
            "align_self": null,
            "height": null,
            "min_height": null,
            "padding": null,
            "grid_auto_rows": null,
            "grid_gap": null,
            "max_width": null,
            "order": null,
            "_view_module_version": "1.2.0",
            "grid_template_areas": null,
            "object_position": null,
            "object_fit": null,
            "grid_auto_columns": null,
            "margin": null,
            "display": null,
            "left": null
          }
        },
        "1588b0df686f4d3c8794097bcd06dc0c": {
          "model_module": "@jupyter-widgets/controls",
          "model_name": "DescriptionStyleModel",
          "state": {
            "_view_name": "StyleView",
            "_model_name": "DescriptionStyleModel",
            "description_width": "",
            "_view_module": "@jupyter-widgets/base",
            "_model_module_version": "1.5.0",
            "_view_count": null,
            "_view_module_version": "1.2.0",
            "_model_module": "@jupyter-widgets/controls"
          }
        },
        "bceb14044bed401ba93379ee274c2b36": {
          "model_module": "@jupyter-widgets/base",
          "model_name": "LayoutModel",
          "state": {
            "_view_name": "LayoutView",
            "grid_template_rows": null,
            "right": null,
            "justify_content": null,
            "_view_module": "@jupyter-widgets/base",
            "overflow": null,
            "_model_module_version": "1.2.0",
            "_view_count": null,
            "flex_flow": null,
            "width": null,
            "min_width": null,
            "border": null,
            "align_items": null,
            "bottom": null,
            "_model_module": "@jupyter-widgets/base",
            "top": null,
            "grid_column": null,
            "overflow_y": null,
            "overflow_x": null,
            "grid_auto_flow": null,
            "grid_area": null,
            "grid_template_columns": null,
            "flex": null,
            "_model_name": "LayoutModel",
            "justify_items": null,
            "grid_row": null,
            "max_height": null,
            "align_content": null,
            "visibility": null,
            "align_self": null,
            "height": null,
            "min_height": null,
            "padding": null,
            "grid_auto_rows": null,
            "grid_gap": null,
            "max_width": null,
            "order": null,
            "_view_module_version": "1.2.0",
            "grid_template_areas": null,
            "object_position": null,
            "object_fit": null,
            "grid_auto_columns": null,
            "margin": null,
            "display": null,
            "left": null
          }
        },
        "f78c78de7caa40e8bee8afb6c84f4e3f": {
          "model_module": "@jupyter-widgets/controls",
          "model_name": "HBoxModel",
          "state": {
            "_view_name": "HBoxView",
            "_dom_classes": [],
            "_model_name": "HBoxModel",
            "_view_module": "@jupyter-widgets/controls",
            "_model_module_version": "1.5.0",
            "_view_count": null,
            "_view_module_version": "1.5.0",
            "box_style": "",
            "layout": "IPY_MODEL_032f376ee8224a528d7f2f4934d16afc",
            "_model_module": "@jupyter-widgets/controls",
            "children": [
              "IPY_MODEL_ffb682191b8c4c9186bc06fc6fbbc116",
              "IPY_MODEL_69bb7b57e824415d9e33807d7ed900da",
              "IPY_MODEL_39933d47e6ea487f9001e023f4850217"
            ]
          }
        },
        "032f376ee8224a528d7f2f4934d16afc": {
          "model_module": "@jupyter-widgets/base",
          "model_name": "LayoutModel",
          "state": {
            "_view_name": "LayoutView",
            "grid_template_rows": null,
            "right": null,
            "justify_content": null,
            "_view_module": "@jupyter-widgets/base",
            "overflow": null,
            "_model_module_version": "1.2.0",
            "_view_count": null,
            "flex_flow": null,
            "width": null,
            "min_width": null,
            "border": null,
            "align_items": null,
            "bottom": null,
            "_model_module": "@jupyter-widgets/base",
            "top": null,
            "grid_column": null,
            "overflow_y": null,
            "overflow_x": null,
            "grid_auto_flow": null,
            "grid_area": null,
            "grid_template_columns": null,
            "flex": null,
            "_model_name": "LayoutModel",
            "justify_items": null,
            "grid_row": null,
            "max_height": null,
            "align_content": null,
            "visibility": null,
            "align_self": null,
            "height": null,
            "min_height": null,
            "padding": null,
            "grid_auto_rows": null,
            "grid_gap": null,
            "max_width": null,
            "order": null,
            "_view_module_version": "1.2.0",
            "grid_template_areas": null,
            "object_position": null,
            "object_fit": null,
            "grid_auto_columns": null,
            "margin": null,
            "display": null,
            "left": null
          }
        },
        "ffb682191b8c4c9186bc06fc6fbbc116": {
          "model_module": "@jupyter-widgets/controls",
          "model_name": "HTMLModel",
          "state": {
            "_view_name": "HTMLView",
            "style": "IPY_MODEL_63c2c99ce47f4c139613e3532cde3dc6",
            "_dom_classes": [],
            "description": "",
            "_model_name": "HTMLModel",
            "placeholder": "​",
            "_view_module": "@jupyter-widgets/controls",
            "_model_module_version": "1.5.0",
            "value": "Render HTML: 100%",
            "_view_count": null,
            "_view_module_version": "1.5.0",
            "description_tooltip": null,
            "_model_module": "@jupyter-widgets/controls",
            "layout": "IPY_MODEL_dfe61e64d16f471eb1b982029a61cd0c"
          }
        },
        "69bb7b57e824415d9e33807d7ed900da": {
          "model_module": "@jupyter-widgets/controls",
          "model_name": "FloatProgressModel",
          "state": {
            "_view_name": "ProgressView",
            "style": "IPY_MODEL_edb162e982654f2b8777544b9ca38301",
            "_dom_classes": [],
            "description": "",
            "_model_name": "FloatProgressModel",
            "bar_style": "success",
            "max": 1,
            "_view_module": "@jupyter-widgets/controls",
            "_model_module_version": "1.5.0",
            "value": 1,
            "_view_count": null,
            "_view_module_version": "1.5.0",
            "orientation": "horizontal",
            "min": 0,
            "description_tooltip": null,
            "_model_module": "@jupyter-widgets/controls",
            "layout": "IPY_MODEL_fe6989bd717642ebb71a8f40c0e93e40"
          }
        },
        "39933d47e6ea487f9001e023f4850217": {
          "model_module": "@jupyter-widgets/controls",
          "model_name": "HTMLModel",
          "state": {
            "_view_name": "HTMLView",
            "style": "IPY_MODEL_1fa1a4fd607d4f9ab180bf32c0c30eb7",
            "_dom_classes": [],
            "description": "",
            "_model_name": "HTMLModel",
            "placeholder": "​",
            "_view_module": "@jupyter-widgets/controls",
            "_model_module_version": "1.5.0",
            "value": " 1/1 [00:01&lt;00:00,  1.11s/it]",
            "_view_count": null,
            "_view_module_version": "1.5.0",
            "description_tooltip": null,
            "_model_module": "@jupyter-widgets/controls",
            "layout": "IPY_MODEL_6bf69e7c2b924db0897ced14613f35b7"
          }
        },
        "63c2c99ce47f4c139613e3532cde3dc6": {
          "model_module": "@jupyter-widgets/controls",
          "model_name": "DescriptionStyleModel",
          "state": {
            "_view_name": "StyleView",
            "_model_name": "DescriptionStyleModel",
            "description_width": "",
            "_view_module": "@jupyter-widgets/base",
            "_model_module_version": "1.5.0",
            "_view_count": null,
            "_view_module_version": "1.2.0",
            "_model_module": "@jupyter-widgets/controls"
          }
        },
        "dfe61e64d16f471eb1b982029a61cd0c": {
          "model_module": "@jupyter-widgets/base",
          "model_name": "LayoutModel",
          "state": {
            "_view_name": "LayoutView",
            "grid_template_rows": null,
            "right": null,
            "justify_content": null,
            "_view_module": "@jupyter-widgets/base",
            "overflow": null,
            "_model_module_version": "1.2.0",
            "_view_count": null,
            "flex_flow": null,
            "width": null,
            "min_width": null,
            "border": null,
            "align_items": null,
            "bottom": null,
            "_model_module": "@jupyter-widgets/base",
            "top": null,
            "grid_column": null,
            "overflow_y": null,
            "overflow_x": null,
            "grid_auto_flow": null,
            "grid_area": null,
            "grid_template_columns": null,
            "flex": null,
            "_model_name": "LayoutModel",
            "justify_items": null,
            "grid_row": null,
            "max_height": null,
            "align_content": null,
            "visibility": null,
            "align_self": null,
            "height": null,
            "min_height": null,
            "padding": null,
            "grid_auto_rows": null,
            "grid_gap": null,
            "max_width": null,
            "order": null,
            "_view_module_version": "1.2.0",
            "grid_template_areas": null,
            "object_position": null,
            "object_fit": null,
            "grid_auto_columns": null,
            "margin": null,
            "display": null,
            "left": null
          }
        },
        "edb162e982654f2b8777544b9ca38301": {
          "model_module": "@jupyter-widgets/controls",
          "model_name": "ProgressStyleModel",
          "state": {
            "_view_name": "StyleView",
            "_model_name": "ProgressStyleModel",
            "description_width": "",
            "_view_module": "@jupyter-widgets/base",
            "_model_module_version": "1.5.0",
            "_view_count": null,
            "_view_module_version": "1.2.0",
            "bar_color": null,
            "_model_module": "@jupyter-widgets/controls"
          }
        },
        "fe6989bd717642ebb71a8f40c0e93e40": {
          "model_module": "@jupyter-widgets/base",
          "model_name": "LayoutModel",
          "state": {
            "_view_name": "LayoutView",
            "grid_template_rows": null,
            "right": null,
            "justify_content": null,
            "_view_module": "@jupyter-widgets/base",
            "overflow": null,
            "_model_module_version": "1.2.0",
            "_view_count": null,
            "flex_flow": null,
            "width": null,
            "min_width": null,
            "border": null,
            "align_items": null,
            "bottom": null,
            "_model_module": "@jupyter-widgets/base",
            "top": null,
            "grid_column": null,
            "overflow_y": null,
            "overflow_x": null,
            "grid_auto_flow": null,
            "grid_area": null,
            "grid_template_columns": null,
            "flex": null,
            "_model_name": "LayoutModel",
            "justify_items": null,
            "grid_row": null,
            "max_height": null,
            "align_content": null,
            "visibility": null,
            "align_self": null,
            "height": null,
            "min_height": null,
            "padding": null,
            "grid_auto_rows": null,
            "grid_gap": null,
            "max_width": null,
            "order": null,
            "_view_module_version": "1.2.0",
            "grid_template_areas": null,
            "object_position": null,
            "object_fit": null,
            "grid_auto_columns": null,
            "margin": null,
            "display": null,
            "left": null
          }
        },
        "1fa1a4fd607d4f9ab180bf32c0c30eb7": {
          "model_module": "@jupyter-widgets/controls",
          "model_name": "DescriptionStyleModel",
          "state": {
            "_view_name": "StyleView",
            "_model_name": "DescriptionStyleModel",
            "description_width": "",
            "_view_module": "@jupyter-widgets/base",
            "_model_module_version": "1.5.0",
            "_view_count": null,
            "_view_module_version": "1.2.0",
            "_model_module": "@jupyter-widgets/controls"
          }
        },
        "6bf69e7c2b924db0897ced14613f35b7": {
          "model_module": "@jupyter-widgets/base",
          "model_name": "LayoutModel",
          "state": {
            "_view_name": "LayoutView",
            "grid_template_rows": null,
            "right": null,
            "justify_content": null,
            "_view_module": "@jupyter-widgets/base",
            "overflow": null,
            "_model_module_version": "1.2.0",
            "_view_count": null,
            "flex_flow": null,
            "width": null,
            "min_width": null,
            "border": null,
            "align_items": null,
            "bottom": null,
            "_model_module": "@jupyter-widgets/base",
            "top": null,
            "grid_column": null,
            "overflow_y": null,
            "overflow_x": null,
            "grid_auto_flow": null,
            "grid_area": null,
            "grid_template_columns": null,
            "flex": null,
            "_model_name": "LayoutModel",
            "justify_items": null,
            "grid_row": null,
            "max_height": null,
            "align_content": null,
            "visibility": null,
            "align_self": null,
            "height": null,
            "min_height": null,
            "padding": null,
            "grid_auto_rows": null,
            "grid_gap": null,
            "max_width": null,
            "order": null,
            "_view_module_version": "1.2.0",
            "grid_template_areas": null,
            "object_position": null,
            "object_fit": null,
            "grid_auto_columns": null,
            "margin": null,
            "display": null,
            "left": null
          }
        },
        "691f56a243d44a18a4ceb39b7f82e372": {
          "model_module": "@jupyter-widgets/controls",
          "model_name": "HBoxModel",
          "state": {
            "_view_name": "HBoxView",
            "_dom_classes": [],
            "_model_name": "HBoxModel",
            "_view_module": "@jupyter-widgets/controls",
            "_model_module_version": "1.5.0",
            "_view_count": null,
            "_view_module_version": "1.5.0",
            "box_style": "",
            "layout": "IPY_MODEL_fb38343f703440a681eb815c9a7a9c98",
            "_model_module": "@jupyter-widgets/controls",
            "children": [
              "IPY_MODEL_e5f68e569e1242349033ec545a912861",
              "IPY_MODEL_92840ed66004494d9461bc6d89f7f764",
              "IPY_MODEL_30ec2d7e5ed343a98559bcabe162d1ae"
            ]
          }
        },
        "fb38343f703440a681eb815c9a7a9c98": {
          "model_module": "@jupyter-widgets/base",
          "model_name": "LayoutModel",
          "state": {
            "_view_name": "LayoutView",
            "grid_template_rows": null,
            "right": null,
            "justify_content": null,
            "_view_module": "@jupyter-widgets/base",
            "overflow": null,
            "_model_module_version": "1.2.0",
            "_view_count": null,
            "flex_flow": null,
            "width": null,
            "min_width": null,
            "border": null,
            "align_items": null,
            "bottom": null,
            "_model_module": "@jupyter-widgets/base",
            "top": null,
            "grid_column": null,
            "overflow_y": null,
            "overflow_x": null,
            "grid_auto_flow": null,
            "grid_area": null,
            "grid_template_columns": null,
            "flex": null,
            "_model_name": "LayoutModel",
            "justify_items": null,
            "grid_row": null,
            "max_height": null,
            "align_content": null,
            "visibility": null,
            "align_self": null,
            "height": null,
            "min_height": null,
            "padding": null,
            "grid_auto_rows": null,
            "grid_gap": null,
            "max_width": null,
            "order": null,
            "_view_module_version": "1.2.0",
            "grid_template_areas": null,
            "object_position": null,
            "object_fit": null,
            "grid_auto_columns": null,
            "margin": null,
            "display": null,
            "left": null
          }
        },
        "e5f68e569e1242349033ec545a912861": {
          "model_module": "@jupyter-widgets/controls",
          "model_name": "HTMLModel",
          "state": {
            "_view_name": "HTMLView",
            "style": "IPY_MODEL_646ccc2bade84cacada902dbe0465dd3",
            "_dom_classes": [],
            "description": "",
            "_model_name": "HTMLModel",
            "placeholder": "​",
            "_view_module": "@jupyter-widgets/controls",
            "_model_module_version": "1.5.0",
            "value": "Export report to file: 100%",
            "_view_count": null,
            "_view_module_version": "1.5.0",
            "description_tooltip": null,
            "_model_module": "@jupyter-widgets/controls",
            "layout": "IPY_MODEL_c9fc9b4780fd48d09de50f2a317b4457"
          }
        },
        "92840ed66004494d9461bc6d89f7f764": {
          "model_module": "@jupyter-widgets/controls",
          "model_name": "FloatProgressModel",
          "state": {
            "_view_name": "ProgressView",
            "style": "IPY_MODEL_b42108a0cc4447e6992eeef49c1cb38d",
            "_dom_classes": [],
            "description": "",
            "_model_name": "FloatProgressModel",
            "bar_style": "success",
            "max": 1,
            "_view_module": "@jupyter-widgets/controls",
            "_model_module_version": "1.5.0",
            "value": 1,
            "_view_count": null,
            "_view_module_version": "1.5.0",
            "orientation": "horizontal",
            "min": 0,
            "description_tooltip": null,
            "_model_module": "@jupyter-widgets/controls",
            "layout": "IPY_MODEL_27f1b497c6f4467eb349d145799147bb"
          }
        },
        "30ec2d7e5ed343a98559bcabe162d1ae": {
          "model_module": "@jupyter-widgets/controls",
          "model_name": "HTMLModel",
          "state": {
            "_view_name": "HTMLView",
            "style": "IPY_MODEL_0da0f93e9d2f480fbb470ff932c9ebad",
            "_dom_classes": [],
            "description": "",
            "_model_name": "HTMLModel",
            "placeholder": "​",
            "_view_module": "@jupyter-widgets/controls",
            "_model_module_version": "1.5.0",
            "value": " 1/1 [00:00&lt;00:00, 23.03it/s]",
            "_view_count": null,
            "_view_module_version": "1.5.0",
            "description_tooltip": null,
            "_model_module": "@jupyter-widgets/controls",
            "layout": "IPY_MODEL_fedde403758345698e18f4254a9eb5d2"
          }
        },
        "646ccc2bade84cacada902dbe0465dd3": {
          "model_module": "@jupyter-widgets/controls",
          "model_name": "DescriptionStyleModel",
          "state": {
            "_view_name": "StyleView",
            "_model_name": "DescriptionStyleModel",
            "description_width": "",
            "_view_module": "@jupyter-widgets/base",
            "_model_module_version": "1.5.0",
            "_view_count": null,
            "_view_module_version": "1.2.0",
            "_model_module": "@jupyter-widgets/controls"
          }
        },
        "c9fc9b4780fd48d09de50f2a317b4457": {
          "model_module": "@jupyter-widgets/base",
          "model_name": "LayoutModel",
          "state": {
            "_view_name": "LayoutView",
            "grid_template_rows": null,
            "right": null,
            "justify_content": null,
            "_view_module": "@jupyter-widgets/base",
            "overflow": null,
            "_model_module_version": "1.2.0",
            "_view_count": null,
            "flex_flow": null,
            "width": null,
            "min_width": null,
            "border": null,
            "align_items": null,
            "bottom": null,
            "_model_module": "@jupyter-widgets/base",
            "top": null,
            "grid_column": null,
            "overflow_y": null,
            "overflow_x": null,
            "grid_auto_flow": null,
            "grid_area": null,
            "grid_template_columns": null,
            "flex": null,
            "_model_name": "LayoutModel",
            "justify_items": null,
            "grid_row": null,
            "max_height": null,
            "align_content": null,
            "visibility": null,
            "align_self": null,
            "height": null,
            "min_height": null,
            "padding": null,
            "grid_auto_rows": null,
            "grid_gap": null,
            "max_width": null,
            "order": null,
            "_view_module_version": "1.2.0",
            "grid_template_areas": null,
            "object_position": null,
            "object_fit": null,
            "grid_auto_columns": null,
            "margin": null,
            "display": null,
            "left": null
          }
        },
        "b42108a0cc4447e6992eeef49c1cb38d": {
          "model_module": "@jupyter-widgets/controls",
          "model_name": "ProgressStyleModel",
          "state": {
            "_view_name": "StyleView",
            "_model_name": "ProgressStyleModel",
            "description_width": "",
            "_view_module": "@jupyter-widgets/base",
            "_model_module_version": "1.5.0",
            "_view_count": null,
            "_view_module_version": "1.2.0",
            "bar_color": null,
            "_model_module": "@jupyter-widgets/controls"
          }
        },
        "27f1b497c6f4467eb349d145799147bb": {
          "model_module": "@jupyter-widgets/base",
          "model_name": "LayoutModel",
          "state": {
            "_view_name": "LayoutView",
            "grid_template_rows": null,
            "right": null,
            "justify_content": null,
            "_view_module": "@jupyter-widgets/base",
            "overflow": null,
            "_model_module_version": "1.2.0",
            "_view_count": null,
            "flex_flow": null,
            "width": null,
            "min_width": null,
            "border": null,
            "align_items": null,
            "bottom": null,
            "_model_module": "@jupyter-widgets/base",
            "top": null,
            "grid_column": null,
            "overflow_y": null,
            "overflow_x": null,
            "grid_auto_flow": null,
            "grid_area": null,
            "grid_template_columns": null,
            "flex": null,
            "_model_name": "LayoutModel",
            "justify_items": null,
            "grid_row": null,
            "max_height": null,
            "align_content": null,
            "visibility": null,
            "align_self": null,
            "height": null,
            "min_height": null,
            "padding": null,
            "grid_auto_rows": null,
            "grid_gap": null,
            "max_width": null,
            "order": null,
            "_view_module_version": "1.2.0",
            "grid_template_areas": null,
            "object_position": null,
            "object_fit": null,
            "grid_auto_columns": null,
            "margin": null,
            "display": null,
            "left": null
          }
        },
        "0da0f93e9d2f480fbb470ff932c9ebad": {
          "model_module": "@jupyter-widgets/controls",
          "model_name": "DescriptionStyleModel",
          "state": {
            "_view_name": "StyleView",
            "_model_name": "DescriptionStyleModel",
            "description_width": "",
            "_view_module": "@jupyter-widgets/base",
            "_model_module_version": "1.5.0",
            "_view_count": null,
            "_view_module_version": "1.2.0",
            "_model_module": "@jupyter-widgets/controls"
          }
        },
        "fedde403758345698e18f4254a9eb5d2": {
          "model_module": "@jupyter-widgets/base",
          "model_name": "LayoutModel",
          "state": {
            "_view_name": "LayoutView",
            "grid_template_rows": null,
            "right": null,
            "justify_content": null,
            "_view_module": "@jupyter-widgets/base",
            "overflow": null,
            "_model_module_version": "1.2.0",
            "_view_count": null,
            "flex_flow": null,
            "width": null,
            "min_width": null,
            "border": null,
            "align_items": null,
            "bottom": null,
            "_model_module": "@jupyter-widgets/base",
            "top": null,
            "grid_column": null,
            "overflow_y": null,
            "overflow_x": null,
            "grid_auto_flow": null,
            "grid_area": null,
            "grid_template_columns": null,
            "flex": null,
            "_model_name": "LayoutModel",
            "justify_items": null,
            "grid_row": null,
            "max_height": null,
            "align_content": null,
            "visibility": null,
            "align_self": null,
            "height": null,
            "min_height": null,
            "padding": null,
            "grid_auto_rows": null,
            "grid_gap": null,
            "max_width": null,
            "order": null,
            "_view_module_version": "1.2.0",
            "grid_template_areas": null,
            "object_position": null,
            "object_fit": null,
            "grid_auto_columns": null,
            "margin": null,
            "display": null,
            "left": null
          }
        }
      }
    }
  },
  "cells": [
    {
      "cell_type": "markdown",
      "metadata": {
        "id": "view-in-github",
        "colab_type": "text"
      },
      "source": [
        "<a href=\"https://colab.research.google.com/github/AngelloDavincii/DS_proyecto_1/blob/main/Proyecto_1_DS.ipynb\" target=\"_parent\"><img src=\"https://colab.research.google.com/assets/colab-badge.svg\" alt=\"Open In Colab\"/></a>"
      ]
    },
    {
      "cell_type": "markdown",
      "metadata": {
        "id": "jaaM9nKAOlUO"
      },
      "source": [
        "<h1><center>Proyecto 1 Data Science</center></h1>\n",
        "<h2><center>Catedrático Ing Luis Furlan</center></h2>\n",
        "<h3><center>Realizado por:</center></h3>\n",
        "<h3><center>Augusto Alonso, Rudik Rompich, David Cuellar</center></h3>\n",
        "<h3><center>Grupo #1</center></h3>"
      ]
    },
    {
      "cell_type": "code",
      "metadata": {
        "id": "aI5iPNsdMXSW",
        "colab": {
          "base_uri": "https://localhost:8080/"
        },
        "outputId": "28f4e706-09cc-4846-f5e1-85700816abfe"
      },
      "source": [
        "! pip install https://github.com/pandas-profiling/pandas-profiling/archive/master.zip"
      ],
      "execution_count": 1,
      "outputs": [
        {
          "output_type": "stream",
          "text": [
            "Collecting https://github.com/pandas-profiling/pandas-profiling/archive/master.zip\n",
            "  Using cached https://github.com/pandas-profiling/pandas-profiling/archive/master.zip\n",
            "Requirement already satisfied: joblib in /usr/local/lib/python3.7/dist-packages (from pandas-profiling==3.0.0) (1.0.1)\n",
            "Requirement already satisfied: scipy>=1.4.1 in /usr/local/lib/python3.7/dist-packages (from pandas-profiling==3.0.0) (1.7.1)\n",
            "Requirement already satisfied: pandas!=1.0.0,!=1.0.1,!=1.0.2,!=1.1.0,>=0.25.3 in /usr/local/lib/python3.7/dist-packages (from pandas-profiling==3.0.0) (1.1.5)\n",
            "Requirement already satisfied: matplotlib>=3.2.0 in /usr/local/lib/python3.7/dist-packages (from pandas-profiling==3.0.0) (3.2.2)\n",
            "Requirement already satisfied: pydantic>=1.8.1 in /usr/local/lib/python3.7/dist-packages (from pandas-profiling==3.0.0) (1.8.2)\n",
            "Requirement already satisfied: PyYAML>=5.0.0 in /usr/local/lib/python3.7/dist-packages (from pandas-profiling==3.0.0) (5.4.1)\n",
            "Requirement already satisfied: jinja2>=2.11.1 in /usr/local/lib/python3.7/dist-packages (from pandas-profiling==3.0.0) (2.11.3)\n",
            "Requirement already satisfied: visions[type_image_path]==0.7.1 in /usr/local/lib/python3.7/dist-packages (from pandas-profiling==3.0.0) (0.7.1)\n",
            "Requirement already satisfied: numpy>=1.16.0 in /usr/local/lib/python3.7/dist-packages (from pandas-profiling==3.0.0) (1.19.5)\n",
            "Requirement already satisfied: htmlmin>=0.1.12 in /usr/local/lib/python3.7/dist-packages (from pandas-profiling==3.0.0) (0.1.12)\n",
            "Requirement already satisfied: missingno>=0.4.2 in /usr/local/lib/python3.7/dist-packages (from pandas-profiling==3.0.0) (0.5.0)\n",
            "Requirement already satisfied: phik>=0.11.1 in /usr/local/lib/python3.7/dist-packages (from pandas-profiling==3.0.0) (0.12.0)\n",
            "Requirement already satisfied: tangled-up-in-unicode==0.1.0 in /usr/local/lib/python3.7/dist-packages (from pandas-profiling==3.0.0) (0.1.0)\n",
            "Requirement already satisfied: requests>=2.24.0 in /usr/local/lib/python3.7/dist-packages (from pandas-profiling==3.0.0) (2.26.0)\n",
            "Requirement already satisfied: tqdm>=4.48.2 in /usr/local/lib/python3.7/dist-packages (from pandas-profiling==3.0.0) (4.62.0)\n",
            "Requirement already satisfied: seaborn>=0.10.1 in /usr/local/lib/python3.7/dist-packages (from pandas-profiling==3.0.0) (0.11.1)\n",
            "Requirement already satisfied: multimethod==1.4 in /usr/local/lib/python3.7/dist-packages (from visions[type_image_path]==0.7.1->pandas-profiling==3.0.0) (1.4)\n",
            "Requirement already satisfied: bottleneck in /usr/local/lib/python3.7/dist-packages (from visions[type_image_path]==0.7.1->pandas-profiling==3.0.0) (1.3.2)\n",
            "Requirement already satisfied: attrs>=19.3.0 in /usr/local/lib/python3.7/dist-packages (from visions[type_image_path]==0.7.1->pandas-profiling==3.0.0) (21.2.0)\n",
            "Requirement already satisfied: networkx>=2.4 in /usr/local/lib/python3.7/dist-packages (from visions[type_image_path]==0.7.1->pandas-profiling==3.0.0) (2.5.1)\n",
            "Requirement already satisfied: imagehash in /usr/local/lib/python3.7/dist-packages (from visions[type_image_path]==0.7.1->pandas-profiling==3.0.0) (4.2.1)\n",
            "Requirement already satisfied: Pillow in /usr/local/lib/python3.7/dist-packages (from visions[type_image_path]==0.7.1->pandas-profiling==3.0.0) (7.1.2)\n",
            "Requirement already satisfied: MarkupSafe>=0.23 in /usr/local/lib/python3.7/dist-packages (from jinja2>=2.11.1->pandas-profiling==3.0.0) (2.0.1)\n",
            "Requirement already satisfied: kiwisolver>=1.0.1 in /usr/local/lib/python3.7/dist-packages (from matplotlib>=3.2.0->pandas-profiling==3.0.0) (1.3.1)\n",
            "Requirement already satisfied: python-dateutil>=2.1 in /usr/local/lib/python3.7/dist-packages (from matplotlib>=3.2.0->pandas-profiling==3.0.0) (2.8.1)\n",
            "Requirement already satisfied: pyparsing!=2.0.4,!=2.1.2,!=2.1.6,>=2.0.1 in /usr/local/lib/python3.7/dist-packages (from matplotlib>=3.2.0->pandas-profiling==3.0.0) (2.4.7)\n",
            "Requirement already satisfied: cycler>=0.10 in /usr/local/lib/python3.7/dist-packages (from matplotlib>=3.2.0->pandas-profiling==3.0.0) (0.10.0)\n",
            "Requirement already satisfied: six in /usr/local/lib/python3.7/dist-packages (from cycler>=0.10->matplotlib>=3.2.0->pandas-profiling==3.0.0) (1.15.0)\n",
            "Requirement already satisfied: decorator<5,>=4.3 in /usr/local/lib/python3.7/dist-packages (from networkx>=2.4->visions[type_image_path]==0.7.1->pandas-profiling==3.0.0) (4.4.2)\n",
            "Requirement already satisfied: pytz>=2017.2 in /usr/local/lib/python3.7/dist-packages (from pandas!=1.0.0,!=1.0.1,!=1.0.2,!=1.1.0,>=0.25.3->pandas-profiling==3.0.0) (2018.9)\n",
            "Requirement already satisfied: typing-extensions>=3.7.4.3 in /usr/local/lib/python3.7/dist-packages (from pydantic>=1.8.1->pandas-profiling==3.0.0) (3.7.4.3)\n",
            "Requirement already satisfied: certifi>=2017.4.17 in /usr/local/lib/python3.7/dist-packages (from requests>=2.24.0->pandas-profiling==3.0.0) (2021.5.30)\n",
            "Requirement already satisfied: idna<4,>=2.5 in /usr/local/lib/python3.7/dist-packages (from requests>=2.24.0->pandas-profiling==3.0.0) (2.10)\n",
            "Requirement already satisfied: urllib3<1.27,>=1.21.1 in /usr/local/lib/python3.7/dist-packages (from requests>=2.24.0->pandas-profiling==3.0.0) (1.24.3)\n",
            "Requirement already satisfied: charset-normalizer~=2.0.0 in /usr/local/lib/python3.7/dist-packages (from requests>=2.24.0->pandas-profiling==3.0.0) (2.0.2)\n",
            "Requirement already satisfied: PyWavelets in /usr/local/lib/python3.7/dist-packages (from imagehash->visions[type_image_path]==0.7.1->pandas-profiling==3.0.0) (1.1.1)\n"
          ],
          "name": "stdout"
        }
      ]
    },
    {
      "cell_type": "code",
      "metadata": {
        "id": "PPaqIDyUOlUT"
      },
      "source": [
        "import pandas as pd \n",
        "import glob \n",
        "import numpy as np \n",
        "import matplotlib.pyplot as plt \n",
        "import numpy as np\n",
        "from pandas_profiling import ProfileReport"
      ],
      "execution_count": 2,
      "outputs": []
    },
    {
      "cell_type": "code",
      "metadata": {
        "id": "REyLLeQaO90i"
      },
      "source": [
        "url = 'https://github.com/AngelloDavincii/DS_proyecto_1/blob/main/data_xlsx/'\n",
        "url2 = 'https://github.com/AngelloDavincii/DS_proyecto_1/tree/main/data_xlsx/GUATEMALA/'\n",
        "       "
      ],
      "execution_count": 3,
      "outputs": []
    },
    {
      "cell_type": "code",
      "metadata": {
        "id": "4ARfyO9VZXrz"
      },
      "source": [
        "names = ['ALTA_VERAPAZ.xlsx', 'BAJA_VERAPAZ.xlsx', 'CHIMALTENANGO.xlsx', 'CHIQUIMULA.xlsx', 'CIUDAD_CAPITAL.xlsx', 'EL_PROGRESO.xlsx', \n",
        "          'ESCUINTLA.xlsx', 'HUEHUETENANGO.xlsx', 'IZABAL.xlsx', 'JALAPA.xlsx', 'JUTIAPA.xlsx', 'PETEN.xlsx', 'QUETZALTENANGO.xlsx', \n",
        "          'QUICHE.xlsx', 'RETALHULEU.xlsx', 'SACATEPEQUEZ.xlsx', 'SANTA_ROSA.xlsx', 'SAN_MARCOS.xlsx', 'SOLOLA.xlsx', 'SUCHITEPEQUEZ.xlsx',\n",
        "          'TOTONICAPAN.xlsx', 'ZACAPA.xlsx']\n",
        "names2 = ['BASICO.xlsx', 'DIVERSICADO.xlsx', 'PARVULOS.xlsx', 'PREPRIMARIA_BILINGUE.xlsx', 'PRIMARIA.xlsx', 'PRIMARIA_DE_ADULTOS.xlsx']\n"
      ],
      "execution_count": 4,
      "outputs": []
    },
    {
      "cell_type": "code",
      "metadata": {
        "id": "T8qpF_nRc2eo"
      },
      "source": [
        "a = 'https://github.com/AngelloDavincii/DS_proyecto_1/blob/main/data_xlsx/GUATEMALA/BASICO.xlsx?raw=true'\n",
        "b = 'https://github.com/AngelloDavincii/DS_proyecto_1/blob/main/data_xlsx/GUATEMALA/DIVERSICADO.xlsx?raw=true'\n",
        "c = 'https://github.com/AngelloDavincii/DS_proyecto_1/blob/main/data_xlsx/GUATEMALA/PARVULOS.xlsx?raw=true'\n",
        "d = 'https://github.com/AngelloDavincii/DS_proyecto_1/blob/main/data_xlsx/GUATEMALA/PREPRIMARIA_BILINGUE.xlsx?raw=true'\n",
        "e = 'https://github.com/AngelloDavincii/DS_proyecto_1/blob/main/data_xlsx/GUATEMALA/PRIMARIA.xlsx?raw=true'\n",
        "f = 'https://github.com/AngelloDavincii/DS_proyecto_1/blob/main/data_xlsx/GUATEMALA/PRIMARIA_DE_ADULTOS.xlsx?raw=true'\n",
        "# Sabemos que no es una manera elegante de importar los datos pero solo de esta manera pudimos agregar los nombres a la lista y luego importarlos en colab\n",
        "names3 = [a,b,c,d,e,f]"
      ],
      "execution_count": 5,
      "outputs": []
    },
    {
      "cell_type": "markdown",
      "metadata": {
        "id": "ExU549NiqsW8"
      },
      "source": [
        "Nota importante: <br>\n",
        "Nosotros decidimos concatenar todos los dataframes desde el inicio porque consideramos que era mucho más rápido y eficiente computacionalmente limpiar solamente un dataset en lugar de hacer la misma limpieza en todos los dataset iterando "
      ]
    },
    {
      "cell_type": "markdown",
      "metadata": {
        "id": "Hh7YGXi7OlUU"
      },
      "source": [
        "<h2><center>Departamento de Guatemala</center></h2>"
      ]
    },
    {
      "cell_type": "code",
      "metadata": {
        "id": "QED6voUq3qtK"
      },
      "source": [
        "#Definimos una variable para ver si las columnas son invalidas\n",
        "def has_invalid_column(columns):\n",
        "    prefix = \"unnamed\"\n",
        "    for column in columns:\n",
        "        if prefix in column.lower():\n",
        "            return True\n",
        "    return False"
      ],
      "execution_count": 6,
      "outputs": []
    },
    {
      "cell_type": "code",
      "metadata": {
        "id": "n26FTumceVbW",
        "colab": {
          "base_uri": "https://localhost:8080/"
        },
        "outputId": "b3c629f1-604c-4fd4-b330-9ff409cbf265"
      },
      "source": [
        "guate = []\n",
        "for j in names3:\n",
        "    df = pd.read_excel(j)\n",
        "    if has_invalid_column(df.columns):\n",
        "        df.columns = df.iloc[0]\n",
        "        df.drop(df.index[0])\n",
        "    df[\"DEPARTAMENTO\"] = \"GUATEMALA\"\n",
        "    guate.append(df)\n",
        "df_guate = pd.concat(guate)\n",
        "df_guate.columns"
      ],
      "execution_count": 7,
      "outputs": [
        {
          "output_type": "execute_result",
          "data": {
            "text/plain": [
              "Index(['CODIGO', 'DISTRITO', 'DEPARTAMENTO', 'MUNICIPIO', 'ESTABLECIMIENTO',\n",
              "       'DIRECCION', 'TELEFONO', 'SUPERVISOR', 'DIRECTOR', 'NIVEL', 'SECTOR',\n",
              "       'AREA', 'STATUS', 'MODALIDAD', 'JORNADA', 'PLAN', 'DEPARTAMENTAL'],\n",
              "      dtype='object')"
            ]
          },
          "metadata": {
            "tags": []
          },
          "execution_count": 7
        }
      ]
    },
    {
      "cell_type": "markdown",
      "metadata": {
        "id": "RZgZG4stOlUf"
      },
      "source": [
        "<h2><center>Todos los departamentos</center></h2>"
      ]
    },
    {
      "cell_type": "code",
      "metadata": {
        "id": "MErCith_OlUg"
      },
      "source": [
        "departamentos = []\n",
        "for j in names:\n",
        "    path = url + j + '?raw=true'\n",
        "    df = pd.read_excel(path)\n",
        "    if has_invalid_column(df.columns):\n",
        "        df.columns = df.iloc[0]\n",
        "        df = df.drop(df.index[0])\n",
        "    if j == \"CIUDAD_CAPITAL.xlsx\":\n",
        "      df[\"DEPARTAMENTO\"] = \"GUATEMALA\"\n",
        "    else:\n",
        "      df[\"DEPARTAMENTO\"] = j.replace(\".xlsx\", \"\")\n",
        "    departamentos.append(df)\n",
        "    \n",
        "\n",
        "departamentos.append(df_guate)"
      ],
      "execution_count": 8,
      "outputs": []
    },
    {
      "cell_type": "code",
      "metadata": {
        "colab": {
          "base_uri": "https://localhost:8080/"
        },
        "id": "i5YdKrO05UXe",
        "outputId": "491d7efd-d858-4736-8463-2258356600cd"
      },
      "source": [
        "pd.concat(departamentos).columns"
      ],
      "execution_count": 9,
      "outputs": [
        {
          "output_type": "execute_result",
          "data": {
            "text/plain": [
              "Index(['CODIGO', 'DISTRITO', 'DEPARTAMENTO', 'MUNICIPIO', 'ESTABLECIMIENTO',\n",
              "       'DIRECCION', 'TELEFONO', 'SUPERVISOR', 'DIRECTOR', 'NIVEL', 'SECTOR',\n",
              "       'AREA', 'STATUS', 'MODALIDAD', 'JORNADA', 'PLAN', 'DEPARTAMENTAL'],\n",
              "      dtype='object', name=0)"
            ]
          },
          "metadata": {
            "tags": []
          },
          "execution_count": 9
        }
      ]
    },
    {
      "cell_type": "code",
      "metadata": {
        "id": "Q1aaxp0JOlUi",
        "colab": {
          "base_uri": "https://localhost:8080/"
        },
        "outputId": "2a541371-e709-4290-f74a-e72244061747"
      },
      "source": [
        "df_pais = pd.concat(departamentos)\n",
        "df_pais.columns"
      ],
      "execution_count": 10,
      "outputs": [
        {
          "output_type": "execute_result",
          "data": {
            "text/plain": [
              "Index(['CODIGO', 'DISTRITO', 'DEPARTAMENTO', 'MUNICIPIO', 'ESTABLECIMIENTO',\n",
              "       'DIRECCION', 'TELEFONO', 'SUPERVISOR', 'DIRECTOR', 'NIVEL', 'SECTOR',\n",
              "       'AREA', 'STATUS', 'MODALIDAD', 'JORNADA', 'PLAN', 'DEPARTAMENTAL'],\n",
              "      dtype='object', name=0)"
            ]
          },
          "metadata": {
            "tags": []
          },
          "execution_count": 10
        }
      ]
    },
    {
      "cell_type": "code",
      "metadata": {
        "id": "xMNusvGGOlUj",
        "colab": {
          "base_uri": "https://localhost:8080/"
        },
        "outputId": "3f94c3be-7c54-4150-c281-1fdb066495a6"
      },
      "source": [
        "df_pais.shape"
      ],
      "execution_count": 11,
      "outputs": [
        {
          "output_type": "execute_result",
          "data": {
            "text/plain": [
              "(65050, 17)"
            ]
          },
          "metadata": {
            "tags": []
          },
          "execution_count": 11
        }
      ]
    },
    {
      "cell_type": "code",
      "metadata": {
        "colab": {
          "base_uri": "https://localhost:8080/",
          "height": 462
        },
        "id": "DDN-QEDWgFE5",
        "outputId": "d4a0b653-81d1-4240-db07-2e189fc56ccc"
      },
      "source": [
        "df_pais.head()"
      ],
      "execution_count": 12,
      "outputs": [
        {
          "output_type": "execute_result",
          "data": {
            "text/html": [
              "<div>\n",
              "<style scoped>\n",
              "    .dataframe tbody tr th:only-of-type {\n",
              "        vertical-align: middle;\n",
              "    }\n",
              "\n",
              "    .dataframe tbody tr th {\n",
              "        vertical-align: top;\n",
              "    }\n",
              "\n",
              "    .dataframe thead th {\n",
              "        text-align: right;\n",
              "    }\n",
              "</style>\n",
              "<table border=\"1\" class=\"dataframe\">\n",
              "  <thead>\n",
              "    <tr style=\"text-align: right;\">\n",
              "      <th></th>\n",
              "      <th>CODIGO</th>\n",
              "      <th>DISTRITO</th>\n",
              "      <th>DEPARTAMENTO</th>\n",
              "      <th>MUNICIPIO</th>\n",
              "      <th>ESTABLECIMIENTO</th>\n",
              "      <th>DIRECCION</th>\n",
              "      <th>TELEFONO</th>\n",
              "      <th>SUPERVISOR</th>\n",
              "      <th>DIRECTOR</th>\n",
              "      <th>NIVEL</th>\n",
              "      <th>SECTOR</th>\n",
              "      <th>AREA</th>\n",
              "      <th>STATUS</th>\n",
              "      <th>MODALIDAD</th>\n",
              "      <th>JORNADA</th>\n",
              "      <th>PLAN</th>\n",
              "      <th>DEPARTAMENTAL</th>\n",
              "    </tr>\n",
              "  </thead>\n",
              "  <tbody>\n",
              "    <tr>\n",
              "      <th>0</th>\n",
              "      <td>16-01-0001-41</td>\n",
              "      <td>16-002</td>\n",
              "      <td>ALTA_VERAPAZ</td>\n",
              "      <td>COBAN</td>\n",
              "      <td>COPB ANEXO A EORM</td>\n",
              "      <td>ALDEA SAN PEDRITO</td>\n",
              "      <td>NaN</td>\n",
              "      <td>MOISES ADRIAN LOPEZ PEREZ</td>\n",
              "      <td>NaN</td>\n",
              "      <td>PREPRIMARIA BILINGUE</td>\n",
              "      <td>OFICIAL</td>\n",
              "      <td>RURAL</td>\n",
              "      <td>CERRADA TEMPORALMENTE</td>\n",
              "      <td>BILINGUE</td>\n",
              "      <td>MATUTINA</td>\n",
              "      <td>DIARIO(REGULAR)</td>\n",
              "      <td>ALTA VERAPAZ</td>\n",
              "    </tr>\n",
              "    <tr>\n",
              "      <th>1</th>\n",
              "      <td>16-01-0002-41</td>\n",
              "      <td>16-004</td>\n",
              "      <td>ALTA_VERAPAZ</td>\n",
              "      <td>COBAN</td>\n",
              "      <td>COPB ANEXO A EORM</td>\n",
              "      <td>ALDEA SAN JOSE ICBOLAY</td>\n",
              "      <td>NaN</td>\n",
              "      <td>JUAN ANTONIO FIGUEROA CAAL</td>\n",
              "      <td>NaN</td>\n",
              "      <td>PREPRIMARIA BILINGUE</td>\n",
              "      <td>OFICIAL</td>\n",
              "      <td>RURAL</td>\n",
              "      <td>ABIERTA</td>\n",
              "      <td>BILINGUE</td>\n",
              "      <td>MATUTINA</td>\n",
              "      <td>DIARIO(REGULAR)</td>\n",
              "      <td>ALTA VERAPAZ</td>\n",
              "    </tr>\n",
              "    <tr>\n",
              "      <th>2</th>\n",
              "      <td>16-01-0003-41</td>\n",
              "      <td>16-004</td>\n",
              "      <td>ALTA_VERAPAZ</td>\n",
              "      <td>COBAN</td>\n",
              "      <td>COPB ANEXO A EORM</td>\n",
              "      <td>ALDEA SANTA LUCIA</td>\n",
              "      <td>NaN</td>\n",
              "      <td>JUAN ANTONIO FIGUEROA CAAL</td>\n",
              "      <td>NaN</td>\n",
              "      <td>PREPRIMARIA BILINGUE</td>\n",
              "      <td>OFICIAL</td>\n",
              "      <td>RURAL</td>\n",
              "      <td>ABIERTA</td>\n",
              "      <td>BILINGUE</td>\n",
              "      <td>MATUTINA</td>\n",
              "      <td>DIARIO(REGULAR)</td>\n",
              "      <td>ALTA VERAPAZ</td>\n",
              "    </tr>\n",
              "    <tr>\n",
              "      <th>3</th>\n",
              "      <td>16-01-0004-41</td>\n",
              "      <td>NaN</td>\n",
              "      <td>ALTA_VERAPAZ</td>\n",
              "      <td>COBAN</td>\n",
              "      <td>CPPB ANEXA A EPRM</td>\n",
              "      <td>ALDEA LAS TORTUGAS</td>\n",
              "      <td>NaN</td>\n",
              "      <td>NaN</td>\n",
              "      <td>NaN</td>\n",
              "      <td>PREPRIMARIA BILINGUE</td>\n",
              "      <td>PRIVADO</td>\n",
              "      <td>RURAL</td>\n",
              "      <td>CERRADA TEMPORALMENTE</td>\n",
              "      <td>BILINGUE</td>\n",
              "      <td>MATUTINA</td>\n",
              "      <td>DIARIO(REGULAR)</td>\n",
              "      <td>ALTA VERAPAZ</td>\n",
              "    </tr>\n",
              "    <tr>\n",
              "      <th>4</th>\n",
              "      <td>16-01-0005-41</td>\n",
              "      <td>16-002</td>\n",
              "      <td>ALTA_VERAPAZ</td>\n",
              "      <td>COBAN</td>\n",
              "      <td>COPB ANEXO A EORM</td>\n",
              "      <td>ALDEA SAN PABLO XUCANEB</td>\n",
              "      <td>45187639</td>\n",
              "      <td>MOISES ADRIAN LOPEZ PEREZ</td>\n",
              "      <td>NaN</td>\n",
              "      <td>PREPRIMARIA BILINGUE</td>\n",
              "      <td>OFICIAL</td>\n",
              "      <td>RURAL</td>\n",
              "      <td>ABIERTA</td>\n",
              "      <td>BILINGUE</td>\n",
              "      <td>MATUTINA</td>\n",
              "      <td>DIARIO(REGULAR)</td>\n",
              "      <td>ALTA VERAPAZ</td>\n",
              "    </tr>\n",
              "  </tbody>\n",
              "</table>\n",
              "</div>"
            ],
            "text/plain": [
              "0         CODIGO DISTRITO  ...             PLAN DEPARTAMENTAL\n",
              "0  16-01-0001-41   16-002  ...  DIARIO(REGULAR)  ALTA VERAPAZ\n",
              "1  16-01-0002-41   16-004  ...  DIARIO(REGULAR)  ALTA VERAPAZ\n",
              "2  16-01-0003-41   16-004  ...  DIARIO(REGULAR)  ALTA VERAPAZ\n",
              "3  16-01-0004-41      NaN  ...  DIARIO(REGULAR)  ALTA VERAPAZ\n",
              "4  16-01-0005-41   16-002  ...  DIARIO(REGULAR)  ALTA VERAPAZ\n",
              "\n",
              "[5 rows x 17 columns]"
            ]
          },
          "metadata": {
            "tags": []
          },
          "execution_count": 12
        }
      ]
    },
    {
      "cell_type": "markdown",
      "metadata": {
        "id": "eUZzPcGtpCL3"
      },
      "source": [
        "# Procederemos a iniciar con la limpieza"
      ]
    },
    {
      "cell_type": "code",
      "metadata": {
        "colab": {
          "base_uri": "https://localhost:8080/"
        },
        "id": "QHwmOkxBfHzo",
        "outputId": "1bd65acc-7b84-4929-d6b8-ade8f37c6d1a"
      },
      "source": [
        "df_pais[\"DEPARTAMENTO\"].unique()"
      ],
      "execution_count": 13,
      "outputs": [
        {
          "output_type": "execute_result",
          "data": {
            "text/plain": [
              "array(['ALTA_VERAPAZ', 'BAJA_VERAPAZ', 'CHIMALTENANGO', 'CHIQUIMULA',\n",
              "       'GUATEMALA', 'EL_PROGRESO', 'ESCUINTLA', 'HUEHUETENANGO', 'IZABAL',\n",
              "       'JALAPA', 'JUTIAPA', 'PETEN', 'QUETZALTENANGO', 'QUICHE',\n",
              "       'RETALHULEU', 'SACATEPEQUEZ', 'SANTA_ROSA', 'SAN_MARCOS', 'SOLOLA',\n",
              "       'SUCHITEPEQUEZ', 'TOTONICAPAN', 'ZACAPA'], dtype=object)"
            ]
          },
          "metadata": {
            "tags": []
          },
          "execution_count": 13
        }
      ]
    },
    {
      "cell_type": "markdown",
      "metadata": {
        "id": "FastdM3Io7QT"
      },
      "source": [
        "Procederemos a poner todas las columnas en minusculas"
      ]
    },
    {
      "cell_type": "code",
      "metadata": {
        "id": "7hjXY9xLpUR-"
      },
      "source": [
        "df_pais.columns = df_pais.columns.map(lambda x: x.lower())"
      ],
      "execution_count": 14,
      "outputs": []
    },
    {
      "cell_type": "markdown",
      "metadata": {
        "id": "jl1h7oPSpcnW"
      },
      "source": [
        "## Limpieza y como manejaremos los na\n",
        "Esto se decidió hacer así para tratar de no perder información que puedan dar otras columnas sobre la misma fila.\n",
        "- Direccion se remplazara con el departamento\n",
        "- Municipio: Se asignara N/A\n",
        "- Municipio: Se asignara N/A\n",
        "- Telefono: N/A\n",
        "- supervisor: N/A\n",
        "- director: N/A\n",
        "- nivel: N/A\n",
        "- sector: N/A\n",
        "- area: N/A\n",
        "- status: N/A\n",
        "- modalidad: N/A\n",
        "- jornada: N/A\n",
        "- plan: N/A"
      ]
    },
    {
      "cell_type": "code",
      "metadata": {
        "id": "nMcZSSiOqCtI"
      },
      "source": [
        "nan_dictionary = {\n",
        "    \"municipio\": \"N/A\",\n",
        "    \"telefono\": \"N/A\",\n",
        "    \"supervisor\": \"N/A\",\n",
        "    \"director\": \"N/A\",\n",
        "    \"nivel\": \"N/A\",\n",
        "    \"sector\": \"N/A\",\n",
        "    \"area\": \"N/A\",\n",
        "    \"status\": \"N/A\",\n",
        "    \"modalidad\": \"N/A\",\n",
        "    \"jornada\": \"N/A\",\n",
        "    \"plan\": \"N/A\",\n",
        "    \"distrito\": \"N/A\",\n",
        "    \"establecimiento\": \"N/A\",\n",
        "    \"plan\": \"N/A\",\n",
        "    \"departamental\":\"N/A\"\n",
        "}"
      ],
      "execution_count": 15,
      "outputs": []
    },
    {
      "cell_type": "code",
      "metadata": {
        "id": "K2nAMTJeqKcE"
      },
      "source": [
        "#Se lleman las columnas NA con los valores del diccionario\n",
        "for column in nan_dictionary:\n",
        "    df_pais[column] = df_pais[column].fillna(nan_dictionary[column])"
      ],
      "execution_count": 16,
      "outputs": []
    },
    {
      "cell_type": "code",
      "metadata": {
        "id": "lzL1y_W9qN4L"
      },
      "source": [
        "df_pais[\"direccion\"] = np.where(df_pais['direccion'].isnull(), df_pais['departamento'], df_pais['direccion'])"
      ],
      "execution_count": 17,
      "outputs": []
    },
    {
      "cell_type": "code",
      "metadata": {
        "colab": {
          "base_uri": "https://localhost:8080/"
        },
        "id": "1iT2FjrtJLou",
        "outputId": "81c38040-0700-44a4-f914-7c13fdaa10db"
      },
      "source": [
        "# Note que solamente tenemos valores nulos en la primera fila\n",
        "df_pais.isna().sum()"
      ],
      "execution_count": 18,
      "outputs": [
        {
          "output_type": "execute_result",
          "data": {
            "text/plain": [
              "0\n",
              "codigo             28\n",
              "distrito            0\n",
              "departamento        0\n",
              "municipio           0\n",
              "establecimiento     0\n",
              "direccion           0\n",
              "telefono            0\n",
              "supervisor          0\n",
              "director            0\n",
              "nivel               0\n",
              "sector              0\n",
              "area                0\n",
              "status              0\n",
              "modalidad           0\n",
              "jornada             0\n",
              "plan                0\n",
              "departamental       0\n",
              "dtype: int64"
            ]
          },
          "metadata": {
            "tags": []
          },
          "execution_count": 18
        }
      ]
    },
    {
      "cell_type": "markdown",
      "metadata": {
        "id": "g_ExzLqnq87b"
      },
      "source": [
        "Ahora si procederemos a botar las filas con nan en la columna codigo porque el codigo es usado para distinguir los distintos establecimientos y sin este no se puede"
      ]
    },
    {
      "cell_type": "code",
      "metadata": {
        "id": "H2H9PJl2rEEI"
      },
      "source": [
        "df_pais.dropna(inplace = True, subset = [\"codigo\"])"
      ],
      "execution_count": 19,
      "outputs": []
    },
    {
      "cell_type": "markdown",
      "metadata": {
        "id": "YVZqx3EMrJI-"
      },
      "source": [
        "*CARACTERES ESPECIALES* <br/>\n",
        "Las columnas supervisor, director y area les eliminaremos caracteres que no deseamos, note que se utilizo regex para que la limpieza sea más rápida"
      ]
    },
    {
      "cell_type": "code",
      "metadata": {
        "id": "4-Bz33R8rUv6"
      },
      "source": [
        "#Remover caracteres UNICODE\n",
        "from string import printable\n",
        "import re\n",
        "\n",
        "st = set(printable)\n",
        "unicode_columns = [\"supervisor\", \"director\", \"area\"] + [\"distrito\", \"departamento\", \"municipio\", \"establecimiento\", \"nivel\", \"sector\", \"area\", \"status\", \"modalidad\", \"jornada\", \"plan\", \"departamental\"]\n",
        "for column in unicode_columns:\n",
        "    df_pais[column] = df_pais[column].astype(str).apply(lambda x: ''.join([\" \" if  i not in  st else i for i in x]))\n",
        "    df_pais[column] = df_pais[column].astype(str).map(lambda x: re.sub(r'\\W+', ' ', x))\n",
        "    df_pais[column] = df_pais[column].astype(str).map(lambda x: x.replace(\"-\",\" \"))\n",
        "    df_pais[column] = df_pais[column].astype(str).map(lambda x: x.replace(\",\",\" \"))\n",
        "\n",
        "df_pais.loc[(df_pais[\"director\"] == ' '),'director']='N A'\n",
        "df_pais.loc[(df_pais[\"director\"] == 'SIN DATO'),'director']='N A'\n",
        "df_pais.loc[(df_pais[\"director\"] == 'XXX'),'director']='N A'\n",
        "df_pais.loc[(df_pais[\"director\"] == 'PENDIENTE'),'director']='N A'\n",
        "df_pais.loc[(df_pais[\"director\"] == '0'),'director']='N A'"
      ],
      "execution_count": 20,
      "outputs": []
    },
    {
      "cell_type": "markdown",
      "metadata": {
        "id": "XO95DbafMaJ3"
      },
      "source": [
        "### Chequeando duplicados en los nombres del establecimiento"
      ]
    },
    {
      "cell_type": "code",
      "metadata": {
        "colab": {
          "base_uri": "https://localhost:8080/"
        },
        "id": "FRN95CcxMYyG",
        "outputId": "736cec6b-0f54-4e8a-acef-e1e5c56182a3"
      },
      "source": [
        "# Chequeando cuantos duplicados hay en la columna\n",
        "len(df_pais[\"establecimiento\"]) - df_pais[\"establecimiento\"].nunique()"
      ],
      "execution_count": 21,
      "outputs": [
        {
          "output_type": "execute_result",
          "data": {
            "text/plain": [
              "48034"
            ]
          },
          "metadata": {
            "tags": []
          },
          "execution_count": 21
        }
      ]
    },
    {
      "cell_type": "code",
      "metadata": {
        "colab": {
          "base_uri": "https://localhost:8080/",
          "height": 949
        },
        "id": "Ran7ysD4Va0C",
        "outputId": "da2f1152-b7e0-406d-ba7a-d6b71bbce5a2"
      },
      "source": [
        "duplicates_in_establecimiento = df_pais.duplicated(subset=[\"establecimiento\"])\n",
        "# Data duplicada en establecimiento\n",
        "df_pais[duplicates_in_establecimiento.values]"
      ],
      "execution_count": 22,
      "outputs": [
        {
          "output_type": "execute_result",
          "data": {
            "text/html": [
              "<div>\n",
              "<style scoped>\n",
              "    .dataframe tbody tr th:only-of-type {\n",
              "        vertical-align: middle;\n",
              "    }\n",
              "\n",
              "    .dataframe tbody tr th {\n",
              "        vertical-align: top;\n",
              "    }\n",
              "\n",
              "    .dataframe thead th {\n",
              "        text-align: right;\n",
              "    }\n",
              "</style>\n",
              "<table border=\"1\" class=\"dataframe\">\n",
              "  <thead>\n",
              "    <tr style=\"text-align: right;\">\n",
              "      <th></th>\n",
              "      <th>codigo</th>\n",
              "      <th>distrito</th>\n",
              "      <th>departamento</th>\n",
              "      <th>municipio</th>\n",
              "      <th>establecimiento</th>\n",
              "      <th>direccion</th>\n",
              "      <th>telefono</th>\n",
              "      <th>supervisor</th>\n",
              "      <th>director</th>\n",
              "      <th>nivel</th>\n",
              "      <th>sector</th>\n",
              "      <th>area</th>\n",
              "      <th>status</th>\n",
              "      <th>modalidad</th>\n",
              "      <th>jornada</th>\n",
              "      <th>plan</th>\n",
              "      <th>departamental</th>\n",
              "    </tr>\n",
              "  </thead>\n",
              "  <tbody>\n",
              "    <tr>\n",
              "      <th>1</th>\n",
              "      <td>16-01-0002-41</td>\n",
              "      <td>16 004</td>\n",
              "      <td>ALTA_VERAPAZ</td>\n",
              "      <td>COBAN</td>\n",
              "      <td>COPB ANEXO A EORM</td>\n",
              "      <td>ALDEA SAN JOSE ICBOLAY</td>\n",
              "      <td>N/A</td>\n",
              "      <td>JUAN ANTONIO FIGUEROA CAAL</td>\n",
              "      <td>N A</td>\n",
              "      <td>PREPRIMARIA BILINGUE</td>\n",
              "      <td>OFICIAL</td>\n",
              "      <td>RURAL</td>\n",
              "      <td>ABIERTA</td>\n",
              "      <td>BILINGUE</td>\n",
              "      <td>MATUTINA</td>\n",
              "      <td>DIARIO REGULAR</td>\n",
              "      <td>ALTA VERAPAZ</td>\n",
              "    </tr>\n",
              "    <tr>\n",
              "      <th>2</th>\n",
              "      <td>16-01-0003-41</td>\n",
              "      <td>16 004</td>\n",
              "      <td>ALTA_VERAPAZ</td>\n",
              "      <td>COBAN</td>\n",
              "      <td>COPB ANEXO A EORM</td>\n",
              "      <td>ALDEA SANTA LUCIA</td>\n",
              "      <td>N/A</td>\n",
              "      <td>JUAN ANTONIO FIGUEROA CAAL</td>\n",
              "      <td>N A</td>\n",
              "      <td>PREPRIMARIA BILINGUE</td>\n",
              "      <td>OFICIAL</td>\n",
              "      <td>RURAL</td>\n",
              "      <td>ABIERTA</td>\n",
              "      <td>BILINGUE</td>\n",
              "      <td>MATUTINA</td>\n",
              "      <td>DIARIO REGULAR</td>\n",
              "      <td>ALTA VERAPAZ</td>\n",
              "    </tr>\n",
              "    <tr>\n",
              "      <th>4</th>\n",
              "      <td>16-01-0005-41</td>\n",
              "      <td>16 002</td>\n",
              "      <td>ALTA_VERAPAZ</td>\n",
              "      <td>COBAN</td>\n",
              "      <td>COPB ANEXO A EORM</td>\n",
              "      <td>ALDEA SAN PABLO XUCANEB</td>\n",
              "      <td>45187639</td>\n",
              "      <td>MOISES ADRIAN LOPEZ PEREZ</td>\n",
              "      <td>N A</td>\n",
              "      <td>PREPRIMARIA BILINGUE</td>\n",
              "      <td>OFICIAL</td>\n",
              "      <td>RURAL</td>\n",
              "      <td>ABIERTA</td>\n",
              "      <td>BILINGUE</td>\n",
              "      <td>MATUTINA</td>\n",
              "      <td>DIARIO REGULAR</td>\n",
              "      <td>ALTA VERAPAZ</td>\n",
              "    </tr>\n",
              "    <tr>\n",
              "      <th>5</th>\n",
              "      <td>16-01-0007-41</td>\n",
              "      <td>16 003</td>\n",
              "      <td>ALTA_VERAPAZ</td>\n",
              "      <td>COBAN</td>\n",
              "      <td>COPB ANEXO A EORM</td>\n",
              "      <td>ALDEA BALBATZUL</td>\n",
              "      <td>N/A</td>\n",
              "      <td>JOSE ISMAEL DE LEON COY</td>\n",
              "      <td>N A</td>\n",
              "      <td>PREPRIMARIA BILINGUE</td>\n",
              "      <td>OFICIAL</td>\n",
              "      <td>RURAL</td>\n",
              "      <td>ABIERTA</td>\n",
              "      <td>BILINGUE</td>\n",
              "      <td>MATUTINA</td>\n",
              "      <td>DIARIO REGULAR</td>\n",
              "      <td>ALTA VERAPAZ</td>\n",
              "    </tr>\n",
              "    <tr>\n",
              "      <th>6</th>\n",
              "      <td>16-01-0008-41</td>\n",
              "      <td>16 034</td>\n",
              "      <td>ALTA_VERAPAZ</td>\n",
              "      <td>COBAN</td>\n",
              "      <td>COPB ANEXO A EORM</td>\n",
              "      <td>ALDEA SECOCPUR</td>\n",
              "      <td>40351817</td>\n",
              "      <td>WALTER RIGOBERTO POP CAZ</td>\n",
              "      <td>N A</td>\n",
              "      <td>PREPRIMARIA BILINGUE</td>\n",
              "      <td>OFICIAL</td>\n",
              "      <td>RURAL</td>\n",
              "      <td>ABIERTA</td>\n",
              "      <td>BILINGUE</td>\n",
              "      <td>MATUTINA</td>\n",
              "      <td>DIARIO REGULAR</td>\n",
              "      <td>ALTA VERAPAZ</td>\n",
              "    </tr>\n",
              "    <tr>\n",
              "      <th>...</th>\n",
              "      <td>...</td>\n",
              "      <td>...</td>\n",
              "      <td>...</td>\n",
              "      <td>...</td>\n",
              "      <td>...</td>\n",
              "      <td>...</td>\n",
              "      <td>...</td>\n",
              "      <td>...</td>\n",
              "      <td>...</td>\n",
              "      <td>...</td>\n",
              "      <td>...</td>\n",
              "      <td>...</td>\n",
              "      <td>...</td>\n",
              "      <td>...</td>\n",
              "      <td>...</td>\n",
              "      <td>...</td>\n",
              "      <td>...</td>\n",
              "    </tr>\n",
              "    <tr>\n",
              "      <th>134</th>\n",
              "      <td>01-17-0260-44</td>\n",
              "      <td>01 641</td>\n",
              "      <td>GUATEMALA</td>\n",
              "      <td>SAN MIGUEL PETAPA</td>\n",
              "      <td>LICEO RICHMOND</td>\n",
              "      <td>LOTE 26, MANZANA E, SECTOR 1, VILLA HERMOSA I</td>\n",
              "      <td>24826611</td>\n",
              "      <td>SERGIO ALEJANDRO VILLATORO VILLAGRAN</td>\n",
              "      <td>ELISALEN ESQUITE CAMPOS</td>\n",
              "      <td>PRIMARIA DE ADULTOS</td>\n",
              "      <td>PRIVADO</td>\n",
              "      <td>URBANA</td>\n",
              "      <td>ABIERTA</td>\n",
              "      <td>MONOLINGUE</td>\n",
              "      <td>DOBLE</td>\n",
              "      <td>FIN DE SEMANA</td>\n",
              "      <td>GUATEMALA SUR</td>\n",
              "    </tr>\n",
              "    <tr>\n",
              "      <th>135</th>\n",
              "      <td>01-17-7495-44</td>\n",
              "      <td>01 641</td>\n",
              "      <td>GUATEMALA</td>\n",
              "      <td>SAN MIGUEL PETAPA</td>\n",
              "      <td>CENTRO EDUCATIVO PERSONALIZADO NEZEEL</td>\n",
              "      <td>CALLE PRINCIPAL 2-18, ZONA 4</td>\n",
              "      <td>66318403</td>\n",
              "      <td>SERGIO ALEJANDRO VILLATORO VILLAGRAN</td>\n",
              "      <td>N A</td>\n",
              "      <td>PRIMARIA DE ADULTOS</td>\n",
              "      <td>PRIVADO</td>\n",
              "      <td>URBANA</td>\n",
              "      <td>ABIERTA</td>\n",
              "      <td>MONOLINGUE</td>\n",
              "      <td>DOBLE</td>\n",
              "      <td>FIN DE SEMANA</td>\n",
              "      <td>GUATEMALA SUR</td>\n",
              "    </tr>\n",
              "    <tr>\n",
              "      <th>136</th>\n",
              "      <td>01-17-8114-44</td>\n",
              "      <td>01 406</td>\n",
              "      <td>GUATEMALA</td>\n",
              "      <td>SAN MIGUEL PETAPA</td>\n",
              "      <td>COLEGIO MIXTO NICTE</td>\n",
              "      <td>LOTE 45 MANZANA D SECTOR 10 PRADOS DE VILLA HE...</td>\n",
              "      <td>24481320</td>\n",
              "      <td>MIGUEL ALVARO RODRIGUEZ PORTILLO</td>\n",
              "      <td>N A</td>\n",
              "      <td>PRIMARIA DE ADULTOS</td>\n",
              "      <td>PRIVADO</td>\n",
              "      <td>URBANA</td>\n",
              "      <td>CERRADA TEMPORALMENTE</td>\n",
              "      <td>MONOLINGUE</td>\n",
              "      <td>MATUTINA</td>\n",
              "      <td>FIN DE SEMANA</td>\n",
              "      <td>GUATEMALA SUR</td>\n",
              "    </tr>\n",
              "    <tr>\n",
              "      <th>137</th>\n",
              "      <td>01-17-9119-44</td>\n",
              "      <td>01 641</td>\n",
              "      <td>GUATEMALA</td>\n",
              "      <td>SAN MIGUEL PETAPA</td>\n",
              "      <td>LICEO EVANGELICO PRADOS DE VILLAHERMOSA</td>\n",
              "      <td>LOTES 7,8,9,10 Y 11 MANZANA B SECTOR 11 PRADOS...</td>\n",
              "      <td>24647039</td>\n",
              "      <td>SERGIO ALEJANDRO VILLATORO VILLAGRAN</td>\n",
              "      <td>N A</td>\n",
              "      <td>PRIMARIA DE ADULTOS</td>\n",
              "      <td>PRIVADO</td>\n",
              "      <td>URBANA</td>\n",
              "      <td>ABIERTA</td>\n",
              "      <td>MONOLINGUE</td>\n",
              "      <td>DOBLE</td>\n",
              "      <td>FIN DE SEMANA</td>\n",
              "      <td>GUATEMALA SUR</td>\n",
              "    </tr>\n",
              "    <tr>\n",
              "      <th>139</th>\n",
              "      <td>138 Establecimientos encontrados</td>\n",
              "      <td>N A</td>\n",
              "      <td>GUATEMALA</td>\n",
              "      <td>N A</td>\n",
              "      <td>N A</td>\n",
              "      <td>GUATEMALA</td>\n",
              "      <td>N/A</td>\n",
              "      <td>N A</td>\n",
              "      <td>N A</td>\n",
              "      <td>N A</td>\n",
              "      <td>N A</td>\n",
              "      <td>N A</td>\n",
              "      <td>N A</td>\n",
              "      <td>N A</td>\n",
              "      <td>N A</td>\n",
              "      <td>N A</td>\n",
              "      <td>N A</td>\n",
              "    </tr>\n",
              "  </tbody>\n",
              "</table>\n",
              "<p>48034 rows × 17 columns</p>\n",
              "</div>"
            ],
            "text/plain": [
              "0                              codigo distrito  ...             plan  departamental\n",
              "1                       16-01-0002-41   16 004  ...  DIARIO REGULAR    ALTA VERAPAZ\n",
              "2                       16-01-0003-41   16 004  ...  DIARIO REGULAR    ALTA VERAPAZ\n",
              "4                       16-01-0005-41   16 002  ...  DIARIO REGULAR    ALTA VERAPAZ\n",
              "5                       16-01-0007-41   16 003  ...  DIARIO REGULAR    ALTA VERAPAZ\n",
              "6                       16-01-0008-41   16 034  ...  DIARIO REGULAR    ALTA VERAPAZ\n",
              "..                                ...      ...  ...              ...            ...\n",
              "134                     01-17-0260-44   01 641  ...    FIN DE SEMANA  GUATEMALA SUR\n",
              "135                     01-17-7495-44   01 641  ...    FIN DE SEMANA  GUATEMALA SUR\n",
              "136                     01-17-8114-44   01 406  ...    FIN DE SEMANA  GUATEMALA SUR\n",
              "137                     01-17-9119-44   01 641  ...    FIN DE SEMANA  GUATEMALA SUR\n",
              "139  138 Establecimientos encontrados      N A  ...              N A            N A\n",
              "\n",
              "[48034 rows x 17 columns]"
            ]
          },
          "metadata": {
            "tags": []
          },
          "execution_count": 22
        }
      ]
    },
    {
      "cell_type": "code",
      "metadata": {
        "id": "aPj9cJEGWTDT",
        "colab": {
          "base_uri": "https://localhost:8080/",
          "height": 632
        },
        "outputId": "60e3d6a7-33d3-44cf-c3a9-7f80d55e0680"
      },
      "source": [
        "# Se toma un establecimiento con nombre duplicado por ejemplo el establecimiento con nombre CENTRO EDUCATIVO PERSONALIZADO NEZEEL\n",
        "df_pais[df_pais[\"establecimiento\"] == \"CENTRO EDUCATIVO PERSONALIZADO NEZEEL\"].head()"
      ],
      "execution_count": 23,
      "outputs": [
        {
          "output_type": "execute_result",
          "data": {
            "text/html": [
              "<div>\n",
              "<style scoped>\n",
              "    .dataframe tbody tr th:only-of-type {\n",
              "        vertical-align: middle;\n",
              "    }\n",
              "\n",
              "    .dataframe tbody tr th {\n",
              "        vertical-align: top;\n",
              "    }\n",
              "\n",
              "    .dataframe thead th {\n",
              "        text-align: right;\n",
              "    }\n",
              "</style>\n",
              "<table border=\"1\" class=\"dataframe\">\n",
              "  <thead>\n",
              "    <tr style=\"text-align: right;\">\n",
              "      <th></th>\n",
              "      <th>codigo</th>\n",
              "      <th>distrito</th>\n",
              "      <th>departamento</th>\n",
              "      <th>municipio</th>\n",
              "      <th>establecimiento</th>\n",
              "      <th>direccion</th>\n",
              "      <th>telefono</th>\n",
              "      <th>supervisor</th>\n",
              "      <th>director</th>\n",
              "      <th>nivel</th>\n",
              "      <th>sector</th>\n",
              "      <th>area</th>\n",
              "      <th>status</th>\n",
              "      <th>modalidad</th>\n",
              "      <th>jornada</th>\n",
              "      <th>plan</th>\n",
              "      <th>departamental</th>\n",
              "    </tr>\n",
              "  </thead>\n",
              "  <tbody>\n",
              "    <tr>\n",
              "      <th>1719</th>\n",
              "      <td>01-17-0223-45</td>\n",
              "      <td>01 631</td>\n",
              "      <td>GUATEMALA</td>\n",
              "      <td>SAN MIGUEL PETAPA</td>\n",
              "      <td>CENTRO EDUCATIVO PERSONALIZADO NEZEEL</td>\n",
              "      <td>CALLE PRINCIPAL 2-18 ZONA 4, SANTA INÉS PETAPA</td>\n",
              "      <td>66318403</td>\n",
              "      <td>ADRIANA FABIOLA BOLA OS ESTRADA</td>\n",
              "      <td>OSCAR HAROLDO SANCHEZ LOPEZ</td>\n",
              "      <td>BASICO</td>\n",
              "      <td>PRIVADO</td>\n",
              "      <td>URBANA</td>\n",
              "      <td>ABIERTA</td>\n",
              "      <td>MONOLINGUE</td>\n",
              "      <td>MATUTINA</td>\n",
              "      <td>DIARIO REGULAR</td>\n",
              "      <td>GUATEMALA SUR</td>\n",
              "    </tr>\n",
              "    <tr>\n",
              "      <th>1755</th>\n",
              "      <td>01-17-7474-45</td>\n",
              "      <td>01 631</td>\n",
              "      <td>GUATEMALA</td>\n",
              "      <td>SAN MIGUEL PETAPA</td>\n",
              "      <td>CENTRO EDUCATIVO PERSONALIZADO NEZEEL</td>\n",
              "      <td>CALLE PRINCIPAL 2-18, ZONA 4 ALDEA SANTA INES ...</td>\n",
              "      <td>66318403</td>\n",
              "      <td>ADRIANA FABIOLA BOLA OS ESTRADA</td>\n",
              "      <td>N A</td>\n",
              "      <td>BASICO</td>\n",
              "      <td>PRIVADO</td>\n",
              "      <td>URBANA</td>\n",
              "      <td>ABIERTA</td>\n",
              "      <td>MONOLINGUE</td>\n",
              "      <td>VESPERTINA</td>\n",
              "      <td>DIARIO REGULAR</td>\n",
              "      <td>GUATEMALA SUR</td>\n",
              "    </tr>\n",
              "    <tr>\n",
              "      <th>1169</th>\n",
              "      <td>01-17-0126-46</td>\n",
              "      <td>01 641</td>\n",
              "      <td>GUATEMALA</td>\n",
              "      <td>SAN MIGUEL PETAPA</td>\n",
              "      <td>CENTRO EDUCATIVO PERSONALIZADO NEZEEL</td>\n",
              "      <td>CALLE PRINCIPAL, 2-18, ZONA 4, SANTA INES</td>\n",
              "      <td>66318403</td>\n",
              "      <td>SERGIO ALEJANDRO VILLATORO VILLAGRAN</td>\n",
              "      <td>OSCAR AROLDO SANCHEZ LOPEZ</td>\n",
              "      <td>DIVERSIFICADO</td>\n",
              "      <td>PRIVADO</td>\n",
              "      <td>URBANA</td>\n",
              "      <td>ABIERTA</td>\n",
              "      <td>MONOLINGUE</td>\n",
              "      <td>DOBLE</td>\n",
              "      <td>FIN DE SEMANA</td>\n",
              "      <td>GUATEMALA SUR</td>\n",
              "    </tr>\n",
              "    <tr>\n",
              "      <th>1195</th>\n",
              "      <td>01-17-0224-46</td>\n",
              "      <td>01 631</td>\n",
              "      <td>GUATEMALA</td>\n",
              "      <td>SAN MIGUEL PETAPA</td>\n",
              "      <td>CENTRO EDUCATIVO PERSONALIZADO NEZEEL</td>\n",
              "      <td>CALLE PRINCIPAL 2-18 ZONA 4, SANTA INÉS PETAPA</td>\n",
              "      <td>66318403</td>\n",
              "      <td>ADRIANA FABIOLA BOLA OS ESTRADA</td>\n",
              "      <td>OSCAR HAROLDO SANCHEZ LOPEZ</td>\n",
              "      <td>DIVERSIFICADO</td>\n",
              "      <td>PRIVADO</td>\n",
              "      <td>URBANA</td>\n",
              "      <td>ABIERTA</td>\n",
              "      <td>MONOLINGUE</td>\n",
              "      <td>MATUTINA</td>\n",
              "      <td>DIARIO REGULAR</td>\n",
              "      <td>GUATEMALA SUR</td>\n",
              "    </tr>\n",
              "    <tr>\n",
              "      <th>1221</th>\n",
              "      <td>01-17-7475-46</td>\n",
              "      <td>01 631</td>\n",
              "      <td>GUATEMALA</td>\n",
              "      <td>SAN MIGUEL PETAPA</td>\n",
              "      <td>CENTRO EDUCATIVO PERSONALIZADO NEZEEL</td>\n",
              "      <td>CALLE PRINCIPAL 2-18, ZONA 4 ALDEA SANTA INES ...</td>\n",
              "      <td>66318403</td>\n",
              "      <td>ADRIANA FABIOLA BOLA OS ESTRADA</td>\n",
              "      <td>OSCAR HAROLDO SANCHEZ LOPEZ</td>\n",
              "      <td>DIVERSIFICADO</td>\n",
              "      <td>PRIVADO</td>\n",
              "      <td>URBANA</td>\n",
              "      <td>ABIERTA</td>\n",
              "      <td>MONOLINGUE</td>\n",
              "      <td>VESPERTINA</td>\n",
              "      <td>DIARIO REGULAR</td>\n",
              "      <td>GUATEMALA SUR</td>\n",
              "    </tr>\n",
              "  </tbody>\n",
              "</table>\n",
              "</div>"
            ],
            "text/plain": [
              "0            codigo distrito  ...             plan  departamental\n",
              "1719  01-17-0223-45   01 631  ...  DIARIO REGULAR   GUATEMALA SUR\n",
              "1755  01-17-7474-45   01 631  ...  DIARIO REGULAR   GUATEMALA SUR\n",
              "1169  01-17-0126-46   01 641  ...    FIN DE SEMANA  GUATEMALA SUR\n",
              "1195  01-17-0224-46   01 631  ...  DIARIO REGULAR   GUATEMALA SUR\n",
              "1221  01-17-7475-46   01 631  ...  DIARIO REGULAR   GUATEMALA SUR\n",
              "\n",
              "[5 rows x 17 columns]"
            ]
          },
          "metadata": {
            "tags": []
          },
          "execution_count": 23
        }
      ]
    },
    {
      "cell_type": "markdown",
      "metadata": {
        "id": "cnDhAMfuWlWi"
      },
      "source": [
        "Note que la razon por la que tienen estos establecimientos el mismo nombre es porque son otros atributos los que cambian como por ejemplo el nivel o la jornada, lo cual tiene sentido porque el mismo establecimiento puede tener a estudiantes de distintos niveles academicos y estudiando a distintas horas. Por lo cual no se procede a alterar o eliminar la informacion duplicada de esta columna"
      ]
    },
    {
      "cell_type": "markdown",
      "metadata": {
        "id": "uKXjy8XrsoNX"
      },
      "source": [
        "*PROCEDEREMOS A CAMBIAR A CATEGORY ALGUNAS COLUMNAS*\n",
        "Columnas cualitativas procederemos a cambiar a category para un mejor manejo de recursos en memoria y de esta manera tener mejor rendimiento para un posterior análisis"
      ]
    },
    {
      "cell_type": "code",
      "metadata": {
        "id": "ZquSTsFEs1Nz"
      },
      "source": [
        "# Se asignaron las columans de categoría como category.\n",
        "category_columns = [\"distrito\", \"departamento\", \"municipio\", \"establecimiento\", \"nivel\", \"sector\", \"area\", \"status\", \"modalidad\", \"jornada\", \"plan\", \"departamental\"]\n",
        "for column in category_columns:\n",
        "    df_pais[column] = df_pais[column].astype(\"category\")"
      ],
      "execution_count": 24,
      "outputs": []
    },
    {
      "cell_type": "markdown",
      "metadata": {
        "id": "0t8H36eO5qAf"
      },
      "source": [
        "Procederemos a agregar un indice en codigo"
      ]
    },
    {
      "cell_type": "code",
      "metadata": {
        "id": "khDTbsdF5n2l",
        "colab": {
          "base_uri": "https://localhost:8080/",
          "height": 980
        },
        "outputId": "84a5b64e-77e7-4f66-db13-00a92db93bf7"
      },
      "source": [
        "df_pais.set_index('codigo')"
      ],
      "execution_count": 25,
      "outputs": [
        {
          "output_type": "execute_result",
          "data": {
            "text/html": [
              "<div>\n",
              "<style scoped>\n",
              "    .dataframe tbody tr th:only-of-type {\n",
              "        vertical-align: middle;\n",
              "    }\n",
              "\n",
              "    .dataframe tbody tr th {\n",
              "        vertical-align: top;\n",
              "    }\n",
              "\n",
              "    .dataframe thead th {\n",
              "        text-align: right;\n",
              "    }\n",
              "</style>\n",
              "<table border=\"1\" class=\"dataframe\">\n",
              "  <thead>\n",
              "    <tr style=\"text-align: right;\">\n",
              "      <th></th>\n",
              "      <th>distrito</th>\n",
              "      <th>departamento</th>\n",
              "      <th>municipio</th>\n",
              "      <th>establecimiento</th>\n",
              "      <th>direccion</th>\n",
              "      <th>telefono</th>\n",
              "      <th>supervisor</th>\n",
              "      <th>director</th>\n",
              "      <th>nivel</th>\n",
              "      <th>sector</th>\n",
              "      <th>area</th>\n",
              "      <th>status</th>\n",
              "      <th>modalidad</th>\n",
              "      <th>jornada</th>\n",
              "      <th>plan</th>\n",
              "      <th>departamental</th>\n",
              "    </tr>\n",
              "    <tr>\n",
              "      <th>codigo</th>\n",
              "      <th></th>\n",
              "      <th></th>\n",
              "      <th></th>\n",
              "      <th></th>\n",
              "      <th></th>\n",
              "      <th></th>\n",
              "      <th></th>\n",
              "      <th></th>\n",
              "      <th></th>\n",
              "      <th></th>\n",
              "      <th></th>\n",
              "      <th></th>\n",
              "      <th></th>\n",
              "      <th></th>\n",
              "      <th></th>\n",
              "      <th></th>\n",
              "    </tr>\n",
              "  </thead>\n",
              "  <tbody>\n",
              "    <tr>\n",
              "      <th>16-01-0001-41</th>\n",
              "      <td>16 002</td>\n",
              "      <td>ALTA_VERAPAZ</td>\n",
              "      <td>COBAN</td>\n",
              "      <td>COPB ANEXO A EORM</td>\n",
              "      <td>ALDEA SAN PEDRITO</td>\n",
              "      <td>N/A</td>\n",
              "      <td>MOISES ADRIAN LOPEZ PEREZ</td>\n",
              "      <td>N A</td>\n",
              "      <td>PREPRIMARIA BILINGUE</td>\n",
              "      <td>OFICIAL</td>\n",
              "      <td>RURAL</td>\n",
              "      <td>CERRADA TEMPORALMENTE</td>\n",
              "      <td>BILINGUE</td>\n",
              "      <td>MATUTINA</td>\n",
              "      <td>DIARIO REGULAR</td>\n",
              "      <td>ALTA VERAPAZ</td>\n",
              "    </tr>\n",
              "    <tr>\n",
              "      <th>16-01-0002-41</th>\n",
              "      <td>16 004</td>\n",
              "      <td>ALTA_VERAPAZ</td>\n",
              "      <td>COBAN</td>\n",
              "      <td>COPB ANEXO A EORM</td>\n",
              "      <td>ALDEA SAN JOSE ICBOLAY</td>\n",
              "      <td>N/A</td>\n",
              "      <td>JUAN ANTONIO FIGUEROA CAAL</td>\n",
              "      <td>N A</td>\n",
              "      <td>PREPRIMARIA BILINGUE</td>\n",
              "      <td>OFICIAL</td>\n",
              "      <td>RURAL</td>\n",
              "      <td>ABIERTA</td>\n",
              "      <td>BILINGUE</td>\n",
              "      <td>MATUTINA</td>\n",
              "      <td>DIARIO REGULAR</td>\n",
              "      <td>ALTA VERAPAZ</td>\n",
              "    </tr>\n",
              "    <tr>\n",
              "      <th>16-01-0003-41</th>\n",
              "      <td>16 004</td>\n",
              "      <td>ALTA_VERAPAZ</td>\n",
              "      <td>COBAN</td>\n",
              "      <td>COPB ANEXO A EORM</td>\n",
              "      <td>ALDEA SANTA LUCIA</td>\n",
              "      <td>N/A</td>\n",
              "      <td>JUAN ANTONIO FIGUEROA CAAL</td>\n",
              "      <td>N A</td>\n",
              "      <td>PREPRIMARIA BILINGUE</td>\n",
              "      <td>OFICIAL</td>\n",
              "      <td>RURAL</td>\n",
              "      <td>ABIERTA</td>\n",
              "      <td>BILINGUE</td>\n",
              "      <td>MATUTINA</td>\n",
              "      <td>DIARIO REGULAR</td>\n",
              "      <td>ALTA VERAPAZ</td>\n",
              "    </tr>\n",
              "    <tr>\n",
              "      <th>16-01-0004-41</th>\n",
              "      <td>N A</td>\n",
              "      <td>ALTA_VERAPAZ</td>\n",
              "      <td>COBAN</td>\n",
              "      <td>CPPB ANEXA A EPRM</td>\n",
              "      <td>ALDEA LAS TORTUGAS</td>\n",
              "      <td>N/A</td>\n",
              "      <td>N A</td>\n",
              "      <td>N A</td>\n",
              "      <td>PREPRIMARIA BILINGUE</td>\n",
              "      <td>PRIVADO</td>\n",
              "      <td>RURAL</td>\n",
              "      <td>CERRADA TEMPORALMENTE</td>\n",
              "      <td>BILINGUE</td>\n",
              "      <td>MATUTINA</td>\n",
              "      <td>DIARIO REGULAR</td>\n",
              "      <td>ALTA VERAPAZ</td>\n",
              "    </tr>\n",
              "    <tr>\n",
              "      <th>16-01-0005-41</th>\n",
              "      <td>16 002</td>\n",
              "      <td>ALTA_VERAPAZ</td>\n",
              "      <td>COBAN</td>\n",
              "      <td>COPB ANEXO A EORM</td>\n",
              "      <td>ALDEA SAN PABLO XUCANEB</td>\n",
              "      <td>45187639</td>\n",
              "      <td>MOISES ADRIAN LOPEZ PEREZ</td>\n",
              "      <td>N A</td>\n",
              "      <td>PREPRIMARIA BILINGUE</td>\n",
              "      <td>OFICIAL</td>\n",
              "      <td>RURAL</td>\n",
              "      <td>ABIERTA</td>\n",
              "      <td>BILINGUE</td>\n",
              "      <td>MATUTINA</td>\n",
              "      <td>DIARIO REGULAR</td>\n",
              "      <td>ALTA VERAPAZ</td>\n",
              "    </tr>\n",
              "    <tr>\n",
              "      <th>...</th>\n",
              "      <td>...</td>\n",
              "      <td>...</td>\n",
              "      <td>...</td>\n",
              "      <td>...</td>\n",
              "      <td>...</td>\n",
              "      <td>...</td>\n",
              "      <td>...</td>\n",
              "      <td>...</td>\n",
              "      <td>...</td>\n",
              "      <td>...</td>\n",
              "      <td>...</td>\n",
              "      <td>...</td>\n",
              "      <td>...</td>\n",
              "      <td>...</td>\n",
              "      <td>...</td>\n",
              "      <td>...</td>\n",
              "    </tr>\n",
              "    <tr>\n",
              "      <th>01-17-0260-44</th>\n",
              "      <td>01 641</td>\n",
              "      <td>GUATEMALA</td>\n",
              "      <td>SAN MIGUEL PETAPA</td>\n",
              "      <td>LICEO RICHMOND</td>\n",
              "      <td>LOTE 26, MANZANA E, SECTOR 1, VILLA HERMOSA I</td>\n",
              "      <td>24826611</td>\n",
              "      <td>SERGIO ALEJANDRO VILLATORO VILLAGRAN</td>\n",
              "      <td>ELISALEN ESQUITE CAMPOS</td>\n",
              "      <td>PRIMARIA DE ADULTOS</td>\n",
              "      <td>PRIVADO</td>\n",
              "      <td>URBANA</td>\n",
              "      <td>ABIERTA</td>\n",
              "      <td>MONOLINGUE</td>\n",
              "      <td>DOBLE</td>\n",
              "      <td>FIN DE SEMANA</td>\n",
              "      <td>GUATEMALA SUR</td>\n",
              "    </tr>\n",
              "    <tr>\n",
              "      <th>01-17-7495-44</th>\n",
              "      <td>01 641</td>\n",
              "      <td>GUATEMALA</td>\n",
              "      <td>SAN MIGUEL PETAPA</td>\n",
              "      <td>CENTRO EDUCATIVO PERSONALIZADO NEZEEL</td>\n",
              "      <td>CALLE PRINCIPAL 2-18, ZONA 4</td>\n",
              "      <td>66318403</td>\n",
              "      <td>SERGIO ALEJANDRO VILLATORO VILLAGRAN</td>\n",
              "      <td>N A</td>\n",
              "      <td>PRIMARIA DE ADULTOS</td>\n",
              "      <td>PRIVADO</td>\n",
              "      <td>URBANA</td>\n",
              "      <td>ABIERTA</td>\n",
              "      <td>MONOLINGUE</td>\n",
              "      <td>DOBLE</td>\n",
              "      <td>FIN DE SEMANA</td>\n",
              "      <td>GUATEMALA SUR</td>\n",
              "    </tr>\n",
              "    <tr>\n",
              "      <th>01-17-8114-44</th>\n",
              "      <td>01 406</td>\n",
              "      <td>GUATEMALA</td>\n",
              "      <td>SAN MIGUEL PETAPA</td>\n",
              "      <td>COLEGIO MIXTO NICTE</td>\n",
              "      <td>LOTE 45 MANZANA D SECTOR 10 PRADOS DE VILLA HE...</td>\n",
              "      <td>24481320</td>\n",
              "      <td>MIGUEL ALVARO RODRIGUEZ PORTILLO</td>\n",
              "      <td>N A</td>\n",
              "      <td>PRIMARIA DE ADULTOS</td>\n",
              "      <td>PRIVADO</td>\n",
              "      <td>URBANA</td>\n",
              "      <td>CERRADA TEMPORALMENTE</td>\n",
              "      <td>MONOLINGUE</td>\n",
              "      <td>MATUTINA</td>\n",
              "      <td>FIN DE SEMANA</td>\n",
              "      <td>GUATEMALA SUR</td>\n",
              "    </tr>\n",
              "    <tr>\n",
              "      <th>01-17-9119-44</th>\n",
              "      <td>01 641</td>\n",
              "      <td>GUATEMALA</td>\n",
              "      <td>SAN MIGUEL PETAPA</td>\n",
              "      <td>LICEO EVANGELICO PRADOS DE VILLAHERMOSA</td>\n",
              "      <td>LOTES 7,8,9,10 Y 11 MANZANA B SECTOR 11 PRADOS...</td>\n",
              "      <td>24647039</td>\n",
              "      <td>SERGIO ALEJANDRO VILLATORO VILLAGRAN</td>\n",
              "      <td>N A</td>\n",
              "      <td>PRIMARIA DE ADULTOS</td>\n",
              "      <td>PRIVADO</td>\n",
              "      <td>URBANA</td>\n",
              "      <td>ABIERTA</td>\n",
              "      <td>MONOLINGUE</td>\n",
              "      <td>DOBLE</td>\n",
              "      <td>FIN DE SEMANA</td>\n",
              "      <td>GUATEMALA SUR</td>\n",
              "    </tr>\n",
              "    <tr>\n",
              "      <th>138 Establecimientos encontrados</th>\n",
              "      <td>N A</td>\n",
              "      <td>GUATEMALA</td>\n",
              "      <td>N A</td>\n",
              "      <td>N A</td>\n",
              "      <td>GUATEMALA</td>\n",
              "      <td>N/A</td>\n",
              "      <td>N A</td>\n",
              "      <td>N A</td>\n",
              "      <td>N A</td>\n",
              "      <td>N A</td>\n",
              "      <td>N A</td>\n",
              "      <td>N A</td>\n",
              "      <td>N A</td>\n",
              "      <td>N A</td>\n",
              "      <td>N A</td>\n",
              "      <td>N A</td>\n",
              "    </tr>\n",
              "  </tbody>\n",
              "</table>\n",
              "<p>65022 rows × 16 columns</p>\n",
              "</div>"
            ],
            "text/plain": [
              "0                                distrito  ...  departamental\n",
              "codigo                                     ...               \n",
              "16-01-0001-41                      16 002  ...   ALTA VERAPAZ\n",
              "16-01-0002-41                      16 004  ...   ALTA VERAPAZ\n",
              "16-01-0003-41                      16 004  ...   ALTA VERAPAZ\n",
              "16-01-0004-41                         N A  ...   ALTA VERAPAZ\n",
              "16-01-0005-41                      16 002  ...   ALTA VERAPAZ\n",
              "...                                   ...  ...            ...\n",
              "01-17-0260-44                      01 641  ...  GUATEMALA SUR\n",
              "01-17-7495-44                      01 641  ...  GUATEMALA SUR\n",
              "01-17-8114-44                      01 406  ...  GUATEMALA SUR\n",
              "01-17-9119-44                      01 641  ...  GUATEMALA SUR\n",
              "138 Establecimientos encontrados      N A  ...            N A\n",
              "\n",
              "[65022 rows x 16 columns]"
            ]
          },
          "metadata": {
            "tags": []
          },
          "execution_count": 25
        }
      ]
    },
    {
      "cell_type": "code",
      "metadata": {
        "id": "hEBVBh_dzobX",
        "colab": {
          "base_uri": "https://localhost:8080/"
        },
        "outputId": "71ba58b6-d71e-41b4-90ef-5e6c369e1740"
      },
      "source": [
        "# Eliminamos la ultima fila porque no brinda informacion sobre algun establecimiento\n",
        "df_pais = df_pais[:-1]\n",
        "df_pais.columns"
      ],
      "execution_count": 26,
      "outputs": [
        {
          "output_type": "execute_result",
          "data": {
            "text/plain": [
              "Index(['codigo', 'distrito', 'departamento', 'municipio', 'establecimiento',\n",
              "       'direccion', 'telefono', 'supervisor', 'director', 'nivel', 'sector',\n",
              "       'area', 'status', 'modalidad', 'jornada', 'plan', 'departamental'],\n",
              "      dtype='object', name=0)"
            ]
          },
          "metadata": {
            "tags": []
          },
          "execution_count": 26
        }
      ]
    },
    {
      "cell_type": "code",
      "metadata": {
        "id": "gXB1or11JGLe",
        "colab": {
          "base_uri": "https://localhost:8080/",
          "height": 462
        },
        "outputId": "7b3af4e7-5e3e-4beb-cec8-9d3b3b16df48"
      },
      "source": [
        "df_pais.head()"
      ],
      "execution_count": 27,
      "outputs": [
        {
          "output_type": "execute_result",
          "data": {
            "text/html": [
              "<div>\n",
              "<style scoped>\n",
              "    .dataframe tbody tr th:only-of-type {\n",
              "        vertical-align: middle;\n",
              "    }\n",
              "\n",
              "    .dataframe tbody tr th {\n",
              "        vertical-align: top;\n",
              "    }\n",
              "\n",
              "    .dataframe thead th {\n",
              "        text-align: right;\n",
              "    }\n",
              "</style>\n",
              "<table border=\"1\" class=\"dataframe\">\n",
              "  <thead>\n",
              "    <tr style=\"text-align: right;\">\n",
              "      <th></th>\n",
              "      <th>codigo</th>\n",
              "      <th>distrito</th>\n",
              "      <th>departamento</th>\n",
              "      <th>municipio</th>\n",
              "      <th>establecimiento</th>\n",
              "      <th>direccion</th>\n",
              "      <th>telefono</th>\n",
              "      <th>supervisor</th>\n",
              "      <th>director</th>\n",
              "      <th>nivel</th>\n",
              "      <th>sector</th>\n",
              "      <th>area</th>\n",
              "      <th>status</th>\n",
              "      <th>modalidad</th>\n",
              "      <th>jornada</th>\n",
              "      <th>plan</th>\n",
              "      <th>departamental</th>\n",
              "    </tr>\n",
              "  </thead>\n",
              "  <tbody>\n",
              "    <tr>\n",
              "      <th>0</th>\n",
              "      <td>16-01-0001-41</td>\n",
              "      <td>16 002</td>\n",
              "      <td>ALTA_VERAPAZ</td>\n",
              "      <td>COBAN</td>\n",
              "      <td>COPB ANEXO A EORM</td>\n",
              "      <td>ALDEA SAN PEDRITO</td>\n",
              "      <td>N/A</td>\n",
              "      <td>MOISES ADRIAN LOPEZ PEREZ</td>\n",
              "      <td>N A</td>\n",
              "      <td>PREPRIMARIA BILINGUE</td>\n",
              "      <td>OFICIAL</td>\n",
              "      <td>RURAL</td>\n",
              "      <td>CERRADA TEMPORALMENTE</td>\n",
              "      <td>BILINGUE</td>\n",
              "      <td>MATUTINA</td>\n",
              "      <td>DIARIO REGULAR</td>\n",
              "      <td>ALTA VERAPAZ</td>\n",
              "    </tr>\n",
              "    <tr>\n",
              "      <th>1</th>\n",
              "      <td>16-01-0002-41</td>\n",
              "      <td>16 004</td>\n",
              "      <td>ALTA_VERAPAZ</td>\n",
              "      <td>COBAN</td>\n",
              "      <td>COPB ANEXO A EORM</td>\n",
              "      <td>ALDEA SAN JOSE ICBOLAY</td>\n",
              "      <td>N/A</td>\n",
              "      <td>JUAN ANTONIO FIGUEROA CAAL</td>\n",
              "      <td>N A</td>\n",
              "      <td>PREPRIMARIA BILINGUE</td>\n",
              "      <td>OFICIAL</td>\n",
              "      <td>RURAL</td>\n",
              "      <td>ABIERTA</td>\n",
              "      <td>BILINGUE</td>\n",
              "      <td>MATUTINA</td>\n",
              "      <td>DIARIO REGULAR</td>\n",
              "      <td>ALTA VERAPAZ</td>\n",
              "    </tr>\n",
              "    <tr>\n",
              "      <th>2</th>\n",
              "      <td>16-01-0003-41</td>\n",
              "      <td>16 004</td>\n",
              "      <td>ALTA_VERAPAZ</td>\n",
              "      <td>COBAN</td>\n",
              "      <td>COPB ANEXO A EORM</td>\n",
              "      <td>ALDEA SANTA LUCIA</td>\n",
              "      <td>N/A</td>\n",
              "      <td>JUAN ANTONIO FIGUEROA CAAL</td>\n",
              "      <td>N A</td>\n",
              "      <td>PREPRIMARIA BILINGUE</td>\n",
              "      <td>OFICIAL</td>\n",
              "      <td>RURAL</td>\n",
              "      <td>ABIERTA</td>\n",
              "      <td>BILINGUE</td>\n",
              "      <td>MATUTINA</td>\n",
              "      <td>DIARIO REGULAR</td>\n",
              "      <td>ALTA VERAPAZ</td>\n",
              "    </tr>\n",
              "    <tr>\n",
              "      <th>3</th>\n",
              "      <td>16-01-0004-41</td>\n",
              "      <td>N A</td>\n",
              "      <td>ALTA_VERAPAZ</td>\n",
              "      <td>COBAN</td>\n",
              "      <td>CPPB ANEXA A EPRM</td>\n",
              "      <td>ALDEA LAS TORTUGAS</td>\n",
              "      <td>N/A</td>\n",
              "      <td>N A</td>\n",
              "      <td>N A</td>\n",
              "      <td>PREPRIMARIA BILINGUE</td>\n",
              "      <td>PRIVADO</td>\n",
              "      <td>RURAL</td>\n",
              "      <td>CERRADA TEMPORALMENTE</td>\n",
              "      <td>BILINGUE</td>\n",
              "      <td>MATUTINA</td>\n",
              "      <td>DIARIO REGULAR</td>\n",
              "      <td>ALTA VERAPAZ</td>\n",
              "    </tr>\n",
              "    <tr>\n",
              "      <th>4</th>\n",
              "      <td>16-01-0005-41</td>\n",
              "      <td>16 002</td>\n",
              "      <td>ALTA_VERAPAZ</td>\n",
              "      <td>COBAN</td>\n",
              "      <td>COPB ANEXO A EORM</td>\n",
              "      <td>ALDEA SAN PABLO XUCANEB</td>\n",
              "      <td>45187639</td>\n",
              "      <td>MOISES ADRIAN LOPEZ PEREZ</td>\n",
              "      <td>N A</td>\n",
              "      <td>PREPRIMARIA BILINGUE</td>\n",
              "      <td>OFICIAL</td>\n",
              "      <td>RURAL</td>\n",
              "      <td>ABIERTA</td>\n",
              "      <td>BILINGUE</td>\n",
              "      <td>MATUTINA</td>\n",
              "      <td>DIARIO REGULAR</td>\n",
              "      <td>ALTA VERAPAZ</td>\n",
              "    </tr>\n",
              "  </tbody>\n",
              "</table>\n",
              "</div>"
            ],
            "text/plain": [
              "0         codigo distrito  ...             plan departamental\n",
              "0  16-01-0001-41   16 002  ...  DIARIO REGULAR   ALTA VERAPAZ\n",
              "1  16-01-0002-41   16 004  ...  DIARIO REGULAR   ALTA VERAPAZ\n",
              "2  16-01-0003-41   16 004  ...  DIARIO REGULAR   ALTA VERAPAZ\n",
              "3  16-01-0004-41      N A  ...  DIARIO REGULAR   ALTA VERAPAZ\n",
              "4  16-01-0005-41   16 002  ...  DIARIO REGULAR   ALTA VERAPAZ\n",
              "\n",
              "[5 rows x 17 columns]"
            ]
          },
          "metadata": {
            "tags": []
          },
          "execution_count": 27
        }
      ]
    },
    {
      "cell_type": "code",
      "metadata": {
        "id": "izfLbV8BY7kz"
      },
      "source": [
        "df_pais.to_csv(\"Establecimientos_de_Guatemala_Limpios.csv\")"
      ],
      "execution_count": 28,
      "outputs": []
    },
    {
      "cell_type": "code",
      "metadata": {
        "id": "KU0P1r96ZcpJ",
        "colab": {
          "base_uri": "https://localhost:8080/",
          "height": 145,
          "referenced_widgets": [
            "f512231720524c58bc36f1f026a73454",
            "3f3f238cdd084c50b5c336a06055cd3c",
            "04e7723355f842e995a2b9d29880573a",
            "798a24317a014ae489c57c5c5f9686fd",
            "99cd543c6e0b4e528af707b2c4b30fb8",
            "d8b2d1025a6e4a77b84599dd32e68b0c",
            "53bcdcbae4d24a8ebdfcbe37f9e74806",
            "b3b562d891a447b582da9bcb1fe40715",
            "215adb39a0f94e2f8cdf780b2426e77a",
            "91df1b41ac3b4f9f8716608eef9bab47",
            "1b619fdf631c417f9bacd67f71afab0a",
            "74896110529549589cd35075e917b8ed",
            "6b2f7c96695f4902ad6e029c77fbe905",
            "dded0095606f47d6a88411ad88d00693",
            "970f1d8208834bc9a2500e7b45dc575e",
            "38c2fed8cf6d4856ad0692923df2b752",
            "bd70476e18e54862a5b4e21d9d6f7485",
            "3264e738fffc4bd4aa7f5c7e1157d053",
            "1c49368e5d2647b3bebc4d4b22d6692a",
            "762522bea4084e509420b7d12acba4b1",
            "1588b0df686f4d3c8794097bcd06dc0c",
            "bceb14044bed401ba93379ee274c2b36",
            "f78c78de7caa40e8bee8afb6c84f4e3f",
            "032f376ee8224a528d7f2f4934d16afc",
            "ffb682191b8c4c9186bc06fc6fbbc116",
            "69bb7b57e824415d9e33807d7ed900da",
            "39933d47e6ea487f9001e023f4850217",
            "63c2c99ce47f4c139613e3532cde3dc6",
            "dfe61e64d16f471eb1b982029a61cd0c",
            "edb162e982654f2b8777544b9ca38301",
            "fe6989bd717642ebb71a8f40c0e93e40",
            "1fa1a4fd607d4f9ab180bf32c0c30eb7",
            "6bf69e7c2b924db0897ced14613f35b7",
            "691f56a243d44a18a4ceb39b7f82e372",
            "fb38343f703440a681eb815c9a7a9c98",
            "e5f68e569e1242349033ec545a912861",
            "92840ed66004494d9461bc6d89f7f764",
            "30ec2d7e5ed343a98559bcabe162d1ae",
            "646ccc2bade84cacada902dbe0465dd3",
            "c9fc9b4780fd48d09de50f2a317b4457",
            "b42108a0cc4447e6992eeef49c1cb38d",
            "27f1b497c6f4467eb349d145799147bb",
            "0da0f93e9d2f480fbb470ff932c9ebad",
            "fedde403758345698e18f4254a9eb5d2"
          ]
        },
        "outputId": "66aba96f-54dd-4def-e57d-7a401d94437f"
      },
      "source": [
        "prof = ProfileReport(df_pais)\n",
        "prof.to_file(output_file='reporte.html')"
      ],
      "execution_count": 29,
      "outputs": [
        {
          "output_type": "display_data",
          "data": {
            "application/vnd.jupyter.widget-view+json": {
              "model_id": "f512231720524c58bc36f1f026a73454",
              "version_minor": 0,
              "version_major": 2
            },
            "text/plain": [
              "Summarize dataset:   0%|          | 0/31 [00:00<?, ?it/s]"
            ]
          },
          "metadata": {
            "tags": []
          }
        },
        {
          "output_type": "display_data",
          "data": {
            "application/vnd.jupyter.widget-view+json": {
              "model_id": "74896110529549589cd35075e917b8ed",
              "version_minor": 0,
              "version_major": 2
            },
            "text/plain": [
              "Generate report structure:   0%|          | 0/1 [00:00<?, ?it/s]"
            ]
          },
          "metadata": {
            "tags": []
          }
        },
        {
          "output_type": "display_data",
          "data": {
            "application/vnd.jupyter.widget-view+json": {
              "model_id": "f78c78de7caa40e8bee8afb6c84f4e3f",
              "version_minor": 0,
              "version_major": 2
            },
            "text/plain": [
              "Render HTML:   0%|          | 0/1 [00:00<?, ?it/s]"
            ]
          },
          "metadata": {
            "tags": []
          }
        },
        {
          "output_type": "display_data",
          "data": {
            "application/vnd.jupyter.widget-view+json": {
              "model_id": "691f56a243d44a18a4ceb39b7f82e372",
              "version_minor": 0,
              "version_major": 2
            },
            "text/plain": [
              "Export report to file:   0%|          | 0/1 [00:00<?, ?it/s]"
            ]
          },
          "metadata": {
            "tags": []
          }
        }
      ]
    }
  ]
}