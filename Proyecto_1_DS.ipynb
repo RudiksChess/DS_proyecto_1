{
  "nbformat": 4,
  "nbformat_minor": 0,
  "metadata": {
    "interpreter": {
      "hash": "2757f2c2fa6babad547f4a3642c7cf29f9f98149abb7990afbb40d637e41adc8"
    },
    "kernelspec": {
      "name": "python3",
      "display_name": "Python 3.7.6 64-bit ('base': conda)"
    },
    "language_info": {
      "name": "python",
      "version": "3.7.6",
      "mimetype": "text/x-python",
      "codemirror_mode": {
        "name": "ipython",
        "version": 3
      },
      "pygments_lexer": "ipython3",
      "nbconvert_exporter": "python",
      "file_extension": ".py"
    },
    "colab": {
      "name": "Proyecto_1_DS.ipynb",
      "provenance": [],
      "collapsed_sections": [],
      "include_colab_link": true
    }
  },
  "cells": [
    {
      "cell_type": "markdown",
      "metadata": {
        "id": "view-in-github",
        "colab_type": "text"
      },
      "source": [
        "<a href=\"https://colab.research.google.com/github/AngelloDavincii/DS_proyecto_1/blob/main/Proyecto_1_DS.ipynb\" target=\"_parent\"><img src=\"https://colab.research.google.com/assets/colab-badge.svg\" alt=\"Open In Colab\"/></a>"
      ]
    },
    {
      "cell_type": "markdown",
      "metadata": {
        "id": "jaaM9nKAOlUO"
      },
      "source": [
        "<h1><center>Proyecto 1 Data Science</center></h1>\n",
        "<h2><center>Catedrático Ing Luis Furlan</center></h2>\n",
        "<h3><center>Realizado por:</center></h3>\n",
        "<h3><center>Augusto Alonso, Rudik Rompich, David Cuellar</center></h3>\n",
        "<h3><center>Grupo #1</center></h3>"
      ]
    },
    {
      "cell_type": "code",
      "metadata": {
        "id": "PPaqIDyUOlUT"
      },
      "source": [
        "import pandas as pd \n",
        "import glob \n",
        "import numpy as np \n",
        "import matplotlib.pyplot as plt \n",
        "import numpy as np\n",
        "from pandas_profiling import ProfileReport"
      ],
      "execution_count": null,
      "outputs": []
    },
    {
      "cell_type": "code",
      "metadata": {
        "id": "REyLLeQaO90i"
      },
      "source": [
        "url = 'https://github.com/AngelloDavincii/DS_proyecto_1/blob/main/data_xlsx/'\n",
        "url2 = 'https://github.com/AngelloDavincii/DS_proyecto_1/tree/main/data_xlsx/GUATEMALA/'\n",
        "       "
      ],
      "execution_count": null,
      "outputs": []
    },
    {
      "cell_type": "code",
      "metadata": {
        "id": "4ARfyO9VZXrz"
      },
      "source": [
        "names = ['ALTA_VERAPAZ.xlsx', 'BAJA_VERAPAZ.xlsx', 'CHIMALTENANGO.xlsx', 'CHIQUIMULA.xlsx', 'CIUDAD_CAPITAL.xlsx', 'EL_PROGRESO.xlsx', \n",
        "          'ESCUINTLA.xlsx', 'HUEHUETENANGO.xlsx', 'IZABAL.xlsx', 'JALAPA.xlsx', 'JUTIAPA.xlsx', 'PETEN.xlsx', 'QUETZALTENANGO.xlsx', \n",
        "          'QUICHE.xlsx', 'RETALHULEU.xlsx', 'SACATEPEQUEZ.xlsx', 'SANTA_ROSA.xlsx', 'SAN_MARCOS.xlsx', 'SOLOLA.xlsx', 'SUCHITEPEQUEZ.xlsx',\n",
        "          'TOTONICAPAN.xlsx', 'ZACAPA.xlsx']\n",
        "names2 = ['BASICO.xlsx', 'DIVERSICADO.xlsx', 'PARVULOS.xlsx', 'PREPRIMARIA_BILINGUE.xlsx', 'PRIMARIA.xlsx', 'PRIMARIA_DE_ADULTOS.xlsx']\n"
      ],
      "execution_count": null,
      "outputs": []
    },
    {
      "cell_type": "code",
      "metadata": {
        "id": "T8qpF_nRc2eo"
      },
      "source": [
        "a = 'https://github.com/AngelloDavincii/DS_proyecto_1/blob/main/data_xlsx/GUATEMALA/BASICO.xlsx?raw=true'\n",
        "b = 'https://github.com/AngelloDavincii/DS_proyecto_1/blob/main/data_xlsx/GUATEMALA/DIVERSICADO.xlsx?raw=true'\n",
        "c = 'https://github.com/AngelloDavincii/DS_proyecto_1/blob/main/data_xlsx/GUATEMALA/PARVULOS.xlsx?raw=true'\n",
        "d = 'https://github.com/AngelloDavincii/DS_proyecto_1/blob/main/data_xlsx/GUATEMALA/PREPRIMARIA_BILINGUE.xlsx?raw=true'\n",
        "e = 'https://github.com/AngelloDavincii/DS_proyecto_1/blob/main/data_xlsx/GUATEMALA/PRIMARIA.xlsx?raw=true'\n",
        "f = 'https://github.com/AngelloDavincii/DS_proyecto_1/blob/main/data_xlsx/GUATEMALA/PRIMARIA_DE_ADULTOS.xlsx?raw=true'\n",
        "# Sabemos que no es una manera elegante de importar los datos pero solo de esta manera pudimos agregar los nombres a la lista y luego importarlos en colab\n",
        "names3 = [a,b,c,d,e,f]"
      ],
      "execution_count": null,
      "outputs": []
    },
    {
      "cell_type": "markdown",
      "metadata": {
        "id": "ExU549NiqsW8"
      },
      "source": [
        "Nota importante: <br>\n",
        "Nosotros decidimos concatenar todos los dataframes desde el inicio porque consideramos que era mucho más rápido y eficiente computacionalmente limpiar solamente un dataset en lugar de hacer la misma limpieza en todos los dataset iterando "
      ]
    },
    {
      "cell_type": "markdown",
      "metadata": {
        "id": "Hh7YGXi7OlUU"
      },
      "source": [
        "<h2><center>Departamento de Guatemala</center></h2>"
      ]
    },
    {
      "cell_type": "code",
      "metadata": {
        "id": "QED6voUq3qtK"
      },
      "source": [
        "#Definimos una variable para ver si las columnas son invalidas\n",
        "def has_invalid_column(columns):\n",
        "    prefix = \"unnamed\"\n",
        "    for column in columns:\n",
        "        if prefix in column.lower():\n",
        "            return True\n",
        "    return False"
      ],
      "execution_count": null,
      "outputs": []
    },
    {
      "cell_type": "code",
      "metadata": {
        "id": "n26FTumceVbW",
        "colab": {
          "base_uri": "https://localhost:8080/"
        },
        "outputId": "3e1ce797-98e1-4735-e3eb-9dccbcd6b661"
      },
      "source": [
        "guate = []\n",
        "for j in names3:\n",
        "    df = pd.read_excel(j)\n",
        "    if has_invalid_column(df.columns):\n",
        "        df.columns = df.iloc[0]\n",
        "        df.drop(df.index[0])\n",
        "    df[\"DEPARTAMENTO\"] = \"GUATEMALA\"\n",
        "    guate.append(df)\n",
        "df_guate = pd.concat(guate)\n",
        "df_guate.columns"
      ],
      "execution_count": null,
      "outputs": [
        {
          "output_type": "execute_result",
          "data": {
            "text/plain": [
              "Index(['CODIGO', 'DISTRITO', 'DEPARTAMENTO', 'MUNICIPIO', 'ESTABLECIMIENTO',\n",
              "       'DIRECCION', 'TELEFONO', 'SUPERVISOR', 'DIRECTOR', 'NIVEL', 'SECTOR',\n",
              "       'AREA', 'STATUS', 'MODALIDAD', 'JORNADA', 'PLAN', 'DEPARTAMENTAL'],\n",
              "      dtype='object')"
            ]
          },
          "metadata": {
            "tags": []
          },
          "execution_count": 6
        }
      ]
    },
    {
      "cell_type": "code",
      "metadata": {
        "id": "XtscbMeKOlUZ"
      },
      "source": [
        "# prof = ProfileReport(guatemala_departamento)\n",
        "# prof"
      ],
      "execution_count": null,
      "outputs": []
    },
    {
      "cell_type": "markdown",
      "metadata": {
        "id": "RZgZG4stOlUf"
      },
      "source": [
        "<h2><center>Todos los departamentos</center></h2>"
      ]
    },
    {
      "cell_type": "code",
      "metadata": {
        "id": "MErCith_OlUg"
      },
      "source": [
        "departamentos = []\n",
        "for j in names:\n",
        "    path = url + j + '?raw=true'\n",
        "    df = pd.read_excel(path)\n",
        "    if has_invalid_column(df.columns):\n",
        "        df.columns = df.iloc[0]\n",
        "        df = df.drop(df.index[0])\n",
        "    #     print(df.columns)\n",
        "    # else:\n",
        "    #   print(df.columns)\n",
        "    if j == \"CIUDAD_CAPITAL.xlsx\":\n",
        "      df[\"DEPARTAMENTO\"] = \"GUATEMALA\"\n",
        "    else:\n",
        "      df[\"DEPARTAMENTO\"] = j.replace(\".xlsx\", \"\")\n",
        "    departamentos.append(df)\n",
        "    \n",
        "\n",
        "departamentos.append(df_guate)"
      ],
      "execution_count": null,
      "outputs": []
    },
    {
      "cell_type": "code",
      "metadata": {
        "colab": {
          "base_uri": "https://localhost:8080/"
        },
        "id": "i5YdKrO05UXe",
        "outputId": "acf0fa57-e691-44a2-ec3e-761491faab60"
      },
      "source": [
        "pd.concat(departamentos).columns"
      ],
      "execution_count": null,
      "outputs": [
        {
          "output_type": "execute_result",
          "data": {
            "text/plain": [
              "Index(['CODIGO', 'DISTRITO', 'DEPARTAMENTO', 'MUNICIPIO', 'ESTABLECIMIENTO',\n",
              "       'DIRECCION', 'TELEFONO', 'SUPERVISOR', 'DIRECTOR', 'NIVEL', 'SECTOR',\n",
              "       'AREA', 'STATUS', 'MODALIDAD', 'JORNADA', 'PLAN', 'DEPARTAMENTAL'],\n",
              "      dtype='object', name=0)"
            ]
          },
          "metadata": {
            "tags": []
          },
          "execution_count": 9
        }
      ]
    },
    {
      "cell_type": "code",
      "metadata": {
        "id": "Q1aaxp0JOlUi",
        "colab": {
          "base_uri": "https://localhost:8080/"
        },
        "outputId": "34120301-d731-4455-e8a5-a0cdbd4070b9"
      },
      "source": [
        "df_pais = pd.concat(departamentos)\n",
        "df_pais.columns"
      ],
      "execution_count": null,
      "outputs": [
        {
          "output_type": "execute_result",
          "data": {
            "text/plain": [
              "Index(['CODIGO', 'DISTRITO', 'DEPARTAMENTO', 'MUNICIPIO', 'ESTABLECIMIENTO',\n",
              "       'DIRECCION', 'TELEFONO', 'SUPERVISOR', 'DIRECTOR', 'NIVEL', 'SECTOR',\n",
              "       'AREA', 'STATUS', 'MODALIDAD', 'JORNADA', 'PLAN', 'DEPARTAMENTAL'],\n",
              "      dtype='object', name=0)"
            ]
          },
          "metadata": {
            "tags": []
          },
          "execution_count": 10
        }
      ]
    },
    {
      "cell_type": "code",
      "metadata": {
        "id": "xMNusvGGOlUj",
        "colab": {
          "base_uri": "https://localhost:8080/"
        },
        "outputId": "537ee01d-9813-4f56-e083-59395048da37"
      },
      "source": [
        "df_pais.shape"
      ],
      "execution_count": null,
      "outputs": [
        {
          "output_type": "execute_result",
          "data": {
            "text/plain": [
              "(65050, 17)"
            ]
          },
          "metadata": {
            "tags": []
          },
          "execution_count": 11
        }
      ]
    },
    {
      "cell_type": "code",
      "metadata": {
        "colab": {
          "base_uri": "https://localhost:8080/",
          "height": 458
        },
        "id": "DDN-QEDWgFE5",
        "outputId": "404c7983-a5fb-4e86-aa3f-712ccd800a72"
      },
      "source": [
        "df_pais.head()"
      ],
      "execution_count": null,
      "outputs": [
        {
          "output_type": "execute_result",
          "data": {
            "text/html": [
              "<div>\n",
              "<style scoped>\n",
              "    .dataframe tbody tr th:only-of-type {\n",
              "        vertical-align: middle;\n",
              "    }\n",
              "\n",
              "    .dataframe tbody tr th {\n",
              "        vertical-align: top;\n",
              "    }\n",
              "\n",
              "    .dataframe thead th {\n",
              "        text-align: right;\n",
              "    }\n",
              "</style>\n",
              "<table border=\"1\" class=\"dataframe\">\n",
              "  <thead>\n",
              "    <tr style=\"text-align: right;\">\n",
              "      <th></th>\n",
              "      <th>CODIGO</th>\n",
              "      <th>DISTRITO</th>\n",
              "      <th>DEPARTAMENTO</th>\n",
              "      <th>MUNICIPIO</th>\n",
              "      <th>ESTABLECIMIENTO</th>\n",
              "      <th>DIRECCION</th>\n",
              "      <th>TELEFONO</th>\n",
              "      <th>SUPERVISOR</th>\n",
              "      <th>DIRECTOR</th>\n",
              "      <th>NIVEL</th>\n",
              "      <th>SECTOR</th>\n",
              "      <th>AREA</th>\n",
              "      <th>STATUS</th>\n",
              "      <th>MODALIDAD</th>\n",
              "      <th>JORNADA</th>\n",
              "      <th>PLAN</th>\n",
              "      <th>DEPARTAMENTAL</th>\n",
              "    </tr>\n",
              "  </thead>\n",
              "  <tbody>\n",
              "    <tr>\n",
              "      <th>0</th>\n",
              "      <td>16-01-0001-41</td>\n",
              "      <td>16-002</td>\n",
              "      <td>ALTA_VERAPAZ</td>\n",
              "      <td>COBAN</td>\n",
              "      <td>COPB ANEXO A EORM</td>\n",
              "      <td>ALDEA SAN PEDRITO</td>\n",
              "      <td>NaN</td>\n",
              "      <td>MOISES ADRIAN LOPEZ PEREZ</td>\n",
              "      <td>NaN</td>\n",
              "      <td>PREPRIMARIA BILINGUE</td>\n",
              "      <td>OFICIAL</td>\n",
              "      <td>RURAL</td>\n",
              "      <td>CERRADA TEMPORALMENTE</td>\n",
              "      <td>BILINGUE</td>\n",
              "      <td>MATUTINA</td>\n",
              "      <td>DIARIO(REGULAR)</td>\n",
              "      <td>ALTA VERAPAZ</td>\n",
              "    </tr>\n",
              "    <tr>\n",
              "      <th>1</th>\n",
              "      <td>16-01-0002-41</td>\n",
              "      <td>16-004</td>\n",
              "      <td>ALTA_VERAPAZ</td>\n",
              "      <td>COBAN</td>\n",
              "      <td>COPB ANEXO A EORM</td>\n",
              "      <td>ALDEA SAN JOSE ICBOLAY</td>\n",
              "      <td>NaN</td>\n",
              "      <td>JUAN ANTONIO FIGUEROA CAAL</td>\n",
              "      <td>NaN</td>\n",
              "      <td>PREPRIMARIA BILINGUE</td>\n",
              "      <td>OFICIAL</td>\n",
              "      <td>RURAL</td>\n",
              "      <td>ABIERTA</td>\n",
              "      <td>BILINGUE</td>\n",
              "      <td>MATUTINA</td>\n",
              "      <td>DIARIO(REGULAR)</td>\n",
              "      <td>ALTA VERAPAZ</td>\n",
              "    </tr>\n",
              "    <tr>\n",
              "      <th>2</th>\n",
              "      <td>16-01-0003-41</td>\n",
              "      <td>16-004</td>\n",
              "      <td>ALTA_VERAPAZ</td>\n",
              "      <td>COBAN</td>\n",
              "      <td>COPB ANEXO A EORM</td>\n",
              "      <td>ALDEA SANTA LUCIA</td>\n",
              "      <td>NaN</td>\n",
              "      <td>JUAN ANTONIO FIGUEROA CAAL</td>\n",
              "      <td>NaN</td>\n",
              "      <td>PREPRIMARIA BILINGUE</td>\n",
              "      <td>OFICIAL</td>\n",
              "      <td>RURAL</td>\n",
              "      <td>ABIERTA</td>\n",
              "      <td>BILINGUE</td>\n",
              "      <td>MATUTINA</td>\n",
              "      <td>DIARIO(REGULAR)</td>\n",
              "      <td>ALTA VERAPAZ</td>\n",
              "    </tr>\n",
              "    <tr>\n",
              "      <th>3</th>\n",
              "      <td>16-01-0004-41</td>\n",
              "      <td>NaN</td>\n",
              "      <td>ALTA_VERAPAZ</td>\n",
              "      <td>COBAN</td>\n",
              "      <td>CPPB ANEXA A EPRM</td>\n",
              "      <td>ALDEA LAS TORTUGAS</td>\n",
              "      <td>NaN</td>\n",
              "      <td>NaN</td>\n",
              "      <td>NaN</td>\n",
              "      <td>PREPRIMARIA BILINGUE</td>\n",
              "      <td>PRIVADO</td>\n",
              "      <td>RURAL</td>\n",
              "      <td>CERRADA TEMPORALMENTE</td>\n",
              "      <td>BILINGUE</td>\n",
              "      <td>MATUTINA</td>\n",
              "      <td>DIARIO(REGULAR)</td>\n",
              "      <td>ALTA VERAPAZ</td>\n",
              "    </tr>\n",
              "    <tr>\n",
              "      <th>4</th>\n",
              "      <td>16-01-0005-41</td>\n",
              "      <td>16-002</td>\n",
              "      <td>ALTA_VERAPAZ</td>\n",
              "      <td>COBAN</td>\n",
              "      <td>COPB ANEXO A EORM</td>\n",
              "      <td>ALDEA SAN PABLO XUCANEB</td>\n",
              "      <td>45187639</td>\n",
              "      <td>MOISES ADRIAN LOPEZ PEREZ</td>\n",
              "      <td>NaN</td>\n",
              "      <td>PREPRIMARIA BILINGUE</td>\n",
              "      <td>OFICIAL</td>\n",
              "      <td>RURAL</td>\n",
              "      <td>ABIERTA</td>\n",
              "      <td>BILINGUE</td>\n",
              "      <td>MATUTINA</td>\n",
              "      <td>DIARIO(REGULAR)</td>\n",
              "      <td>ALTA VERAPAZ</td>\n",
              "    </tr>\n",
              "  </tbody>\n",
              "</table>\n",
              "</div>"
            ],
            "text/plain": [
              "0         CODIGO DISTRITO  ...             PLAN DEPARTAMENTAL\n",
              "0  16-01-0001-41   16-002  ...  DIARIO(REGULAR)  ALTA VERAPAZ\n",
              "1  16-01-0002-41   16-004  ...  DIARIO(REGULAR)  ALTA VERAPAZ\n",
              "2  16-01-0003-41   16-004  ...  DIARIO(REGULAR)  ALTA VERAPAZ\n",
              "3  16-01-0004-41      NaN  ...  DIARIO(REGULAR)  ALTA VERAPAZ\n",
              "4  16-01-0005-41   16-002  ...  DIARIO(REGULAR)  ALTA VERAPAZ\n",
              "\n",
              "[5 rows x 17 columns]"
            ]
          },
          "metadata": {
            "tags": []
          },
          "execution_count": 12
        }
      ]
    },
    {
      "cell_type": "markdown",
      "metadata": {
        "id": "eUZzPcGtpCL3"
      },
      "source": [
        "# Procederemos a iniciar con la limpieza"
      ]
    },
    {
      "cell_type": "code",
      "metadata": {
        "colab": {
          "base_uri": "https://localhost:8080/"
        },
        "id": "QHwmOkxBfHzo",
        "outputId": "6c071a34-b913-4bec-f40a-54e27699f051"
      },
      "source": [
        "df_pais[\"DEPARTAMENTO\"].unique()"
      ],
      "execution_count": null,
      "outputs": [
        {
          "output_type": "execute_result",
          "data": {
            "text/plain": [
              "array(['ALTA_VERAPAZ', 'BAJA_VERAPAZ', 'CHIMALTENANGO', 'CHIQUIMULA',\n",
              "       'GUATEMALA', 'EL_PROGRESO', 'ESCUINTLA', 'HUEHUETENANGO', 'IZABAL',\n",
              "       'JALAPA', 'JUTIAPA', 'PETEN', 'QUETZALTENANGO', 'QUICHE',\n",
              "       'RETALHULEU', 'SACATEPEQUEZ', 'SANTA_ROSA', 'SAN_MARCOS', 'SOLOLA',\n",
              "       'SUCHITEPEQUEZ', 'TOTONICAPAN', 'ZACAPA'], dtype=object)"
            ]
          },
          "metadata": {
            "tags": []
          },
          "execution_count": 13
        }
      ]
    },
    {
      "cell_type": "markdown",
      "metadata": {
        "id": "FastdM3Io7QT"
      },
      "source": [
        "Procederemos a poner todas las columnas en minusculas"
      ]
    },
    {
      "cell_type": "code",
      "metadata": {
        "id": "7hjXY9xLpUR-"
      },
      "source": [
        "df_pais.columns = df_pais.columns.map(lambda x: x.lower())"
      ],
      "execution_count": null,
      "outputs": []
    },
    {
      "cell_type": "markdown",
      "metadata": {
        "id": "jl1h7oPSpcnW"
      },
      "source": [
        "## Limpieza y como manejaremos los na\n",
        "Esto se decidió hacer así para tratar de no perder información que puedan dar otras columnas sobre la misma fila.\n",
        "- Direccion se remplazara con el departamento\n",
        "- Municipio: Se asignara N/A\n",
        "- Municipio: Se asignara N/A\n",
        "- Telefono: N/A\n",
        "- supervisor: N/A\n",
        "- director: N/A\n",
        "- nivel: N/A\n",
        "- sector: N/A\n",
        "- area: N/A\n",
        "- status: N/A\n",
        "- modalidad: N/A\n",
        "- jornada: N/A\n",
        "- plan: N/A"
      ]
    },
    {
      "cell_type": "code",
      "metadata": {
        "id": "nMcZSSiOqCtI"
      },
      "source": [
        "nan_dictionary = {\n",
        "    \"municipio\": \"N/A\",\n",
        "    \"telefono\": \"N/A\",\n",
        "    \"supervisor\": \"N/A\",\n",
        "    \"director\": \"N/A\",\n",
        "    \"nivel\": \"N/A\",\n",
        "    \"sector\": \"N/A\",\n",
        "    \"area\": \"N/A\",\n",
        "    \"status\": \"N/A\",\n",
        "    \"modalidad\": \"N/A\",\n",
        "    \"jornada\": \"N/A\",\n",
        "    \"plan\": \"N/A\",\n",
        "    \"distrito\": \"N/A\",\n",
        "    \"establecimiento\": \"N/A\",\n",
        "    \"plan\": \"N/A\",\n",
        "    \"departamental\":\"N/A\"\n",
        "}"
      ],
      "execution_count": null,
      "outputs": []
    },
    {
      "cell_type": "code",
      "metadata": {
        "id": "K2nAMTJeqKcE"
      },
      "source": [
        "#Fill al NA with values\n",
        "for column in nan_dictionary:\n",
        "    df_pais[column] = df_pais[column].fillna(nan_dictionary[column])"
      ],
      "execution_count": null,
      "outputs": []
    },
    {
      "cell_type": "code",
      "metadata": {
        "id": "lzL1y_W9qN4L"
      },
      "source": [
        "df_pais[\"direccion\"] = np.where(df_pais['direccion'].isnull(), df_pais['departamento'], df_pais['direccion'])"
      ],
      "execution_count": null,
      "outputs": []
    },
    {
      "cell_type": "code",
      "metadata": {
        "colab": {
          "base_uri": "https://localhost:8080/"
        },
        "id": "1iT2FjrtJLou",
        "outputId": "fbfab461-d816-404e-a724-edd261941fed"
      },
      "source": [
        "# Note que solamente tenemos valores nulos en la primera fila\n",
        "df_pais.isna().sum()"
      ],
      "execution_count": null,
      "outputs": [
        {
          "output_type": "execute_result",
          "data": {
            "text/plain": [
              "0\n",
              "codigo             28\n",
              "distrito            0\n",
              "departamento        0\n",
              "municipio           0\n",
              "establecimiento     0\n",
              "direccion           0\n",
              "telefono            0\n",
              "supervisor          0\n",
              "director            0\n",
              "nivel               0\n",
              "sector              0\n",
              "area                0\n",
              "status              0\n",
              "modalidad           0\n",
              "jornada             0\n",
              "plan                0\n",
              "departamental       0\n",
              "dtype: int64"
            ]
          },
          "metadata": {
            "tags": []
          },
          "execution_count": 18
        }
      ]
    },
    {
      "cell_type": "markdown",
      "metadata": {
        "id": "g_ExzLqnq87b"
      },
      "source": [
        "Ahora si procederemos a botar las filas con nan en la columna codigo porque el codigo es usado para distinguir los distintos establecimientos y sin este no se puede"
      ]
    },
    {
      "cell_type": "code",
      "metadata": {
        "id": "H2H9PJl2rEEI"
      },
      "source": [
        "df_pais.dropna(inplace = True, subset = [\"codigo\"])"
      ],
      "execution_count": null,
      "outputs": []
    },
    {
      "cell_type": "markdown",
      "metadata": {
        "id": "YVZqx3EMrJI-"
      },
      "source": [
        "*CARACTERES ESPECIALES* <br/>\n",
        "Las columnas supervisor, director y area les eliminaremos caracteres que no deseamos, note que se utilizo regex para que la limpieza sea más rápida"
      ]
    },
    {
      "cell_type": "code",
      "metadata": {
        "id": "4-Bz33R8rUv6"
      },
      "source": [
        "#Remove undisered chars (UNICODE) and special chars\n",
        "from string import printable\n",
        "import re\n",
        "\n",
        "st = set(printable)\n",
        "unicode_columns = [\"supervisor\", \"director\", \"area\"] + [\"distrito\", \"departamento\", \"municipio\", \"establecimiento\", \"nivel\", \"sector\", \"area\", \"status\", \"modalidad\", \"jornada\", \"plan\", \"departamental\"]\n",
        "for column in unicode_columns:\n",
        "    df_pais[column] = df_pais[column].astype(str).apply(lambda x: ''.join([\" \" if  i not in  st else i for i in x]))\n",
        "    # df_pais[column] = df_pais[column].astype(str).map(lambda x: re.sub(r'\\W+', '', x))\n",
        "    df_pais[column] = df_pais[column].astype(str).map(lambda x: x.replace(\"-\",\" \"))\n",
        "    df_pais[column] = df_pais[column].astype(str).map(lambda x: x.replace(\",\",\" \"))\n",
        "\n"
      ],
      "execution_count": null,
      "outputs": []
    },
    {
      "cell_type": "markdown",
      "metadata": {
        "id": "XO95DbafMaJ3"
      },
      "source": [
        "### Chequeando duplicados en los nombres del establecimiento"
      ]
    },
    {
      "cell_type": "code",
      "metadata": {
        "colab": {
          "base_uri": "https://localhost:8080/"
        },
        "id": "FRN95CcxMYyG",
        "outputId": "6056153a-25f5-4a45-f917-e872295e8318"
      },
      "source": [
        "# Chequeando cuantos duplicados hay en la columna\n",
        "len(df_pais[\"establecimiento\"]) - df_pais[\"establecimiento\"].nunique()"
      ],
      "execution_count": null,
      "outputs": [
        {
          "output_type": "execute_result",
          "data": {
            "text/plain": [
              "47570"
            ]
          },
          "metadata": {
            "tags": []
          },
          "execution_count": 21
        }
      ]
    },
    {
      "cell_type": "code",
      "metadata": {
        "colab": {
          "base_uri": "https://localhost:8080/",
          "height": 509
        },
        "id": "Ran7ysD4Va0C",
        "outputId": "81804a75-1455-4751-ddc1-3178444b08e7"
      },
      "source": [
        "duplicates_in_establecimiento = df_pais.loc[df_pais[\"establecimiento\"] != \"NA\"].duplicated(subset=[\"establecimiento\"])\n",
        "# Subsetting with duplicated data in establecimiento\n",
        "df_pais[duplicates_in_establecimiento.values].tail()"
      ],
      "execution_count": null,
      "outputs": [
        {
          "output_type": "execute_result",
          "data": {
            "text/html": [
              "<div>\n",
              "<style scoped>\n",
              "    .dataframe tbody tr th:only-of-type {\n",
              "        vertical-align: middle;\n",
              "    }\n",
              "\n",
              "    .dataframe tbody tr th {\n",
              "        vertical-align: top;\n",
              "    }\n",
              "\n",
              "    .dataframe thead th {\n",
              "        text-align: right;\n",
              "    }\n",
              "</style>\n",
              "<table border=\"1\" class=\"dataframe\">\n",
              "  <thead>\n",
              "    <tr style=\"text-align: right;\">\n",
              "      <th></th>\n",
              "      <th>codigo</th>\n",
              "      <th>distrito</th>\n",
              "      <th>departamento</th>\n",
              "      <th>municipio</th>\n",
              "      <th>establecimiento</th>\n",
              "      <th>direccion</th>\n",
              "      <th>telefono</th>\n",
              "      <th>supervisor</th>\n",
              "      <th>director</th>\n",
              "      <th>nivel</th>\n",
              "      <th>sector</th>\n",
              "      <th>area</th>\n",
              "      <th>status</th>\n",
              "      <th>modalidad</th>\n",
              "      <th>jornada</th>\n",
              "      <th>plan</th>\n",
              "      <th>departamental</th>\n",
              "    </tr>\n",
              "  </thead>\n",
              "  <tbody>\n",
              "    <tr>\n",
              "      <th>134</th>\n",
              "      <td>01-17-0260-44</td>\n",
              "      <td>01 641</td>\n",
              "      <td>GUATEMALA</td>\n",
              "      <td>SAN MIGUEL PETAPA</td>\n",
              "      <td>LICEO RICHMOND</td>\n",
              "      <td>LOTE 26, MANZANA E, SECTOR 1, VILLA HERMOSA I</td>\n",
              "      <td>24826611</td>\n",
              "      <td>SERGIO ALEJANDRO VILLATORO VILLAGRAN</td>\n",
              "      <td>ELISALEN ESQUITE CAMPOS</td>\n",
              "      <td>PRIMARIA DE ADULTOS</td>\n",
              "      <td>PRIVADO</td>\n",
              "      <td>URBANA</td>\n",
              "      <td>ABIERTA</td>\n",
              "      <td>MONOLINGUE</td>\n",
              "      <td>DOBLE</td>\n",
              "      <td>FIN DE SEMANA</td>\n",
              "      <td>GUATEMALA SUR</td>\n",
              "    </tr>\n",
              "    <tr>\n",
              "      <th>135</th>\n",
              "      <td>01-17-7495-44</td>\n",
              "      <td>01 641</td>\n",
              "      <td>GUATEMALA</td>\n",
              "      <td>SAN MIGUEL PETAPA</td>\n",
              "      <td>CENTRO EDUCATIVO PERSONALIZADO NEZEEL</td>\n",
              "      <td>CALLE PRINCIPAL 2-18, ZONA 4</td>\n",
              "      <td>66318403</td>\n",
              "      <td>SERGIO ALEJANDRO VILLATORO VILLAGRAN</td>\n",
              "      <td>N/A</td>\n",
              "      <td>PRIMARIA DE ADULTOS</td>\n",
              "      <td>PRIVADO</td>\n",
              "      <td>URBANA</td>\n",
              "      <td>ABIERTA</td>\n",
              "      <td>MONOLINGUE</td>\n",
              "      <td>DOBLE</td>\n",
              "      <td>FIN DE SEMANA</td>\n",
              "      <td>GUATEMALA SUR</td>\n",
              "    </tr>\n",
              "    <tr>\n",
              "      <th>136</th>\n",
              "      <td>01-17-8114-44</td>\n",
              "      <td>01 406</td>\n",
              "      <td>GUATEMALA</td>\n",
              "      <td>SAN MIGUEL PETAPA</td>\n",
              "      <td>COLEGIO MIXTO NICTE</td>\n",
              "      <td>LOTE 45 MANZANA D SECTOR 10 PRADOS DE VILLA HE...</td>\n",
              "      <td>24481320</td>\n",
              "      <td>MIGUEL ALVARO RODRIGUEZ PORTILLO</td>\n",
              "      <td>N/A</td>\n",
              "      <td>PRIMARIA DE ADULTOS</td>\n",
              "      <td>PRIVADO</td>\n",
              "      <td>URBANA</td>\n",
              "      <td>CERRADA TEMPORALMENTE</td>\n",
              "      <td>MONOLINGUE</td>\n",
              "      <td>MATUTINA</td>\n",
              "      <td>FIN DE SEMANA</td>\n",
              "      <td>GUATEMALA SUR</td>\n",
              "    </tr>\n",
              "    <tr>\n",
              "      <th>137</th>\n",
              "      <td>01-17-9119-44</td>\n",
              "      <td>01 641</td>\n",
              "      <td>GUATEMALA</td>\n",
              "      <td>SAN MIGUEL PETAPA</td>\n",
              "      <td>LICEO EVANGELICO PRADOS DE VILLAHERMOSA</td>\n",
              "      <td>LOTES 7,8,9,10 Y 11 MANZANA B SECTOR 11 PRADOS...</td>\n",
              "      <td>24647039</td>\n",
              "      <td>SERGIO ALEJANDRO VILLATORO VILLAGRAN</td>\n",
              "      <td>N/A</td>\n",
              "      <td>PRIMARIA DE ADULTOS</td>\n",
              "      <td>PRIVADO</td>\n",
              "      <td>URBANA</td>\n",
              "      <td>ABIERTA</td>\n",
              "      <td>MONOLINGUE</td>\n",
              "      <td>DOBLE</td>\n",
              "      <td>FIN DE SEMANA</td>\n",
              "      <td>GUATEMALA SUR</td>\n",
              "    </tr>\n",
              "    <tr>\n",
              "      <th>139</th>\n",
              "      <td>138 Establecimientos encontrados</td>\n",
              "      <td>N/A</td>\n",
              "      <td>GUATEMALA</td>\n",
              "      <td>N/A</td>\n",
              "      <td>N/A</td>\n",
              "      <td>GUATEMALA</td>\n",
              "      <td>N/A</td>\n",
              "      <td>N/A</td>\n",
              "      <td>N/A</td>\n",
              "      <td>N/A</td>\n",
              "      <td>N/A</td>\n",
              "      <td>N/A</td>\n",
              "      <td>N/A</td>\n",
              "      <td>N/A</td>\n",
              "      <td>N/A</td>\n",
              "      <td>N/A</td>\n",
              "      <td>N/A</td>\n",
              "    </tr>\n",
              "  </tbody>\n",
              "</table>\n",
              "</div>"
            ],
            "text/plain": [
              "0                              codigo distrito  ...           plan  departamental\n",
              "134                     01-17-0260-44   01 641  ...  FIN DE SEMANA  GUATEMALA SUR\n",
              "135                     01-17-7495-44   01 641  ...  FIN DE SEMANA  GUATEMALA SUR\n",
              "136                     01-17-8114-44   01 406  ...  FIN DE SEMANA  GUATEMALA SUR\n",
              "137                     01-17-9119-44   01 641  ...  FIN DE SEMANA  GUATEMALA SUR\n",
              "139  138 Establecimientos encontrados      N/A  ...            N/A            N/A\n",
              "\n",
              "[5 rows x 17 columns]"
            ]
          },
          "metadata": {
            "tags": []
          },
          "execution_count": 22
        }
      ]
    },
    {
      "cell_type": "code",
      "metadata": {
        "colab": {
          "base_uri": "https://localhost:8080/",
          "height": 626
        },
        "id": "aPj9cJEGWTDT",
        "outputId": "4ce676a0-8d50-4693-d031-b242ef599878"
      },
      "source": [
        "# Se toma un establecimiento con nombre duplicado por ejemplo el establecimiento con nombre CENTRO EDUCATIVO PERSONALIZADO NEZEEL\n",
        "df_pais[df_pais[\"establecimiento\"] == \"CENTRO EDUCATIVO PERSONALIZADO NEZEEL\"].head()"
      ],
      "execution_count": null,
      "outputs": [
        {
          "output_type": "execute_result",
          "data": {
            "text/html": [
              "<div>\n",
              "<style scoped>\n",
              "    .dataframe tbody tr th:only-of-type {\n",
              "        vertical-align: middle;\n",
              "    }\n",
              "\n",
              "    .dataframe tbody tr th {\n",
              "        vertical-align: top;\n",
              "    }\n",
              "\n",
              "    .dataframe thead th {\n",
              "        text-align: right;\n",
              "    }\n",
              "</style>\n",
              "<table border=\"1\" class=\"dataframe\">\n",
              "  <thead>\n",
              "    <tr style=\"text-align: right;\">\n",
              "      <th></th>\n",
              "      <th>codigo</th>\n",
              "      <th>distrito</th>\n",
              "      <th>departamento</th>\n",
              "      <th>municipio</th>\n",
              "      <th>establecimiento</th>\n",
              "      <th>direccion</th>\n",
              "      <th>telefono</th>\n",
              "      <th>supervisor</th>\n",
              "      <th>director</th>\n",
              "      <th>nivel</th>\n",
              "      <th>sector</th>\n",
              "      <th>area</th>\n",
              "      <th>status</th>\n",
              "      <th>modalidad</th>\n",
              "      <th>jornada</th>\n",
              "      <th>plan</th>\n",
              "      <th>departamental</th>\n",
              "    </tr>\n",
              "  </thead>\n",
              "  <tbody>\n",
              "    <tr>\n",
              "      <th>1719</th>\n",
              "      <td>01-17-0223-45</td>\n",
              "      <td>01 631</td>\n",
              "      <td>GUATEMALA</td>\n",
              "      <td>SAN MIGUEL PETAPA</td>\n",
              "      <td>CENTRO EDUCATIVO PERSONALIZADO NEZEEL</td>\n",
              "      <td>CALLE PRINCIPAL 2-18 ZONA 4, SANTA INÉS PETAPA</td>\n",
              "      <td>66318403</td>\n",
              "      <td>ADRIANA FABIOLA BOLA OS ESTRADA</td>\n",
              "      <td>OSCAR HAROLDO SANCHEZ LOPEZ</td>\n",
              "      <td>BASICO</td>\n",
              "      <td>PRIVADO</td>\n",
              "      <td>URBANA</td>\n",
              "      <td>ABIERTA</td>\n",
              "      <td>MONOLINGUE</td>\n",
              "      <td>MATUTINA</td>\n",
              "      <td>DIARIO(REGULAR)</td>\n",
              "      <td>GUATEMALA SUR</td>\n",
              "    </tr>\n",
              "    <tr>\n",
              "      <th>1755</th>\n",
              "      <td>01-17-7474-45</td>\n",
              "      <td>01 631</td>\n",
              "      <td>GUATEMALA</td>\n",
              "      <td>SAN MIGUEL PETAPA</td>\n",
              "      <td>CENTRO EDUCATIVO PERSONALIZADO NEZEEL</td>\n",
              "      <td>CALLE PRINCIPAL 2-18, ZONA 4 ALDEA SANTA INES ...</td>\n",
              "      <td>66318403</td>\n",
              "      <td>ADRIANA FABIOLA BOLA OS ESTRADA</td>\n",
              "      <td>N/A</td>\n",
              "      <td>BASICO</td>\n",
              "      <td>PRIVADO</td>\n",
              "      <td>URBANA</td>\n",
              "      <td>ABIERTA</td>\n",
              "      <td>MONOLINGUE</td>\n",
              "      <td>VESPERTINA</td>\n",
              "      <td>DIARIO(REGULAR)</td>\n",
              "      <td>GUATEMALA SUR</td>\n",
              "    </tr>\n",
              "    <tr>\n",
              "      <th>1169</th>\n",
              "      <td>01-17-0126-46</td>\n",
              "      <td>01 641</td>\n",
              "      <td>GUATEMALA</td>\n",
              "      <td>SAN MIGUEL PETAPA</td>\n",
              "      <td>CENTRO EDUCATIVO PERSONALIZADO NEZEEL</td>\n",
              "      <td>CALLE PRINCIPAL, 2-18, ZONA 4, SANTA INES</td>\n",
              "      <td>66318403</td>\n",
              "      <td>SERGIO ALEJANDRO VILLATORO VILLAGRAN</td>\n",
              "      <td>OSCAR AROLDO SANCHEZ LOPEZ</td>\n",
              "      <td>DIVERSIFICADO</td>\n",
              "      <td>PRIVADO</td>\n",
              "      <td>URBANA</td>\n",
              "      <td>ABIERTA</td>\n",
              "      <td>MONOLINGUE</td>\n",
              "      <td>DOBLE</td>\n",
              "      <td>FIN DE SEMANA</td>\n",
              "      <td>GUATEMALA SUR</td>\n",
              "    </tr>\n",
              "    <tr>\n",
              "      <th>1195</th>\n",
              "      <td>01-17-0224-46</td>\n",
              "      <td>01 631</td>\n",
              "      <td>GUATEMALA</td>\n",
              "      <td>SAN MIGUEL PETAPA</td>\n",
              "      <td>CENTRO EDUCATIVO PERSONALIZADO NEZEEL</td>\n",
              "      <td>CALLE PRINCIPAL 2-18 ZONA 4, SANTA INÉS PETAPA</td>\n",
              "      <td>66318403</td>\n",
              "      <td>ADRIANA FABIOLA BOLA OS ESTRADA</td>\n",
              "      <td>OSCAR HAROLDO SANCHEZ LOPEZ</td>\n",
              "      <td>DIVERSIFICADO</td>\n",
              "      <td>PRIVADO</td>\n",
              "      <td>URBANA</td>\n",
              "      <td>ABIERTA</td>\n",
              "      <td>MONOLINGUE</td>\n",
              "      <td>MATUTINA</td>\n",
              "      <td>DIARIO(REGULAR)</td>\n",
              "      <td>GUATEMALA SUR</td>\n",
              "    </tr>\n",
              "    <tr>\n",
              "      <th>1221</th>\n",
              "      <td>01-17-7475-46</td>\n",
              "      <td>01 631</td>\n",
              "      <td>GUATEMALA</td>\n",
              "      <td>SAN MIGUEL PETAPA</td>\n",
              "      <td>CENTRO EDUCATIVO PERSONALIZADO NEZEEL</td>\n",
              "      <td>CALLE PRINCIPAL 2-18, ZONA 4 ALDEA SANTA INES ...</td>\n",
              "      <td>66318403</td>\n",
              "      <td>ADRIANA FABIOLA BOLA OS ESTRADA</td>\n",
              "      <td>OSCAR HAROLDO SANCHEZ LOPEZ</td>\n",
              "      <td>DIVERSIFICADO</td>\n",
              "      <td>PRIVADO</td>\n",
              "      <td>URBANA</td>\n",
              "      <td>ABIERTA</td>\n",
              "      <td>MONOLINGUE</td>\n",
              "      <td>VESPERTINA</td>\n",
              "      <td>DIARIO(REGULAR)</td>\n",
              "      <td>GUATEMALA SUR</td>\n",
              "    </tr>\n",
              "  </tbody>\n",
              "</table>\n",
              "</div>"
            ],
            "text/plain": [
              "0            codigo distrito  ...             plan  departamental\n",
              "1719  01-17-0223-45   01 631  ...  DIARIO(REGULAR)  GUATEMALA SUR\n",
              "1755  01-17-7474-45   01 631  ...  DIARIO(REGULAR)  GUATEMALA SUR\n",
              "1169  01-17-0126-46   01 641  ...    FIN DE SEMANA  GUATEMALA SUR\n",
              "1195  01-17-0224-46   01 631  ...  DIARIO(REGULAR)  GUATEMALA SUR\n",
              "1221  01-17-7475-46   01 631  ...  DIARIO(REGULAR)  GUATEMALA SUR\n",
              "\n",
              "[5 rows x 17 columns]"
            ]
          },
          "metadata": {
            "tags": []
          },
          "execution_count": 23
        }
      ]
    },
    {
      "cell_type": "markdown",
      "metadata": {
        "id": "cnDhAMfuWlWi"
      },
      "source": [
        "Note que la razon por la que tienen estos establecimientos el mismo nombre es porque son otros atributos los que cambian como por ejemplo el nivel o la jornada, lo cual tiene sentido porque el mismo establecimiento puede tener a estudiantes de distintos niveles academicos y estudiando a distintas horas. Por lo cual no se procede a alterar o eliminar la informacion duplicada de esta columna"
      ]
    },
    {
      "cell_type": "markdown",
      "metadata": {
        "id": "uKXjy8XrsoNX"
      },
      "source": [
        "*PROCEDEREMOS A CAMBIAR A CATEGORY ALGUNAS COLUMNAS*\n",
        "Columnas cualitativas procederemos a cambiar a category para un mejor manejo de recursos en memoria y de esta manera tener mejor rendimiento para un posterior análisis"
      ]
    },
    {
      "cell_type": "code",
      "metadata": {
        "id": "ZquSTsFEs1Nz"
      },
      "source": [
        "# We will change our category columns to type category\n",
        "category_columns = [\"distrito\", \"departamento\", \"municipio\", \"establecimiento\", \"nivel\", \"sector\", \"area\", \"status\", \"modalidad\", \"jornada\", \"plan\", \"departamental\"]\n",
        "for column in category_columns:\n",
        "    df_pais[column] = df_pais[column].astype(\"category\")"
      ],
      "execution_count": null,
      "outputs": []
    },
    {
      "cell_type": "markdown",
      "metadata": {
        "id": "0t8H36eO5qAf"
      },
      "source": [
        "Procederemos a agregar un indice en codigo"
      ]
    },
    {
      "cell_type": "code",
      "metadata": {
        "colab": {
          "base_uri": "https://localhost:8080/",
          "height": 971
        },
        "id": "khDTbsdF5n2l",
        "outputId": "34e97c48-82ca-4d2f-8264-61eacf124ba6"
      },
      "source": [
        "df_pais.set_index('codigo')"
      ],
      "execution_count": null,
      "outputs": [
        {
          "output_type": "execute_result",
          "data": {
            "text/html": [
              "<div>\n",
              "<style scoped>\n",
              "    .dataframe tbody tr th:only-of-type {\n",
              "        vertical-align: middle;\n",
              "    }\n",
              "\n",
              "    .dataframe tbody tr th {\n",
              "        vertical-align: top;\n",
              "    }\n",
              "\n",
              "    .dataframe thead th {\n",
              "        text-align: right;\n",
              "    }\n",
              "</style>\n",
              "<table border=\"1\" class=\"dataframe\">\n",
              "  <thead>\n",
              "    <tr style=\"text-align: right;\">\n",
              "      <th></th>\n",
              "      <th>distrito</th>\n",
              "      <th>departamento</th>\n",
              "      <th>municipio</th>\n",
              "      <th>establecimiento</th>\n",
              "      <th>direccion</th>\n",
              "      <th>telefono</th>\n",
              "      <th>supervisor</th>\n",
              "      <th>director</th>\n",
              "      <th>nivel</th>\n",
              "      <th>sector</th>\n",
              "      <th>area</th>\n",
              "      <th>status</th>\n",
              "      <th>modalidad</th>\n",
              "      <th>jornada</th>\n",
              "      <th>plan</th>\n",
              "      <th>departamental</th>\n",
              "    </tr>\n",
              "    <tr>\n",
              "      <th>codigo</th>\n",
              "      <th></th>\n",
              "      <th></th>\n",
              "      <th></th>\n",
              "      <th></th>\n",
              "      <th></th>\n",
              "      <th></th>\n",
              "      <th></th>\n",
              "      <th></th>\n",
              "      <th></th>\n",
              "      <th></th>\n",
              "      <th></th>\n",
              "      <th></th>\n",
              "      <th></th>\n",
              "      <th></th>\n",
              "      <th></th>\n",
              "      <th></th>\n",
              "    </tr>\n",
              "  </thead>\n",
              "  <tbody>\n",
              "    <tr>\n",
              "      <th>16-01-0001-41</th>\n",
              "      <td>16 002</td>\n",
              "      <td>ALTA_VERAPAZ</td>\n",
              "      <td>COBAN</td>\n",
              "      <td>COPB ANEXO A EORM</td>\n",
              "      <td>ALDEA SAN PEDRITO</td>\n",
              "      <td>N/A</td>\n",
              "      <td>MOISES ADRIAN LOPEZ PEREZ</td>\n",
              "      <td>N/A</td>\n",
              "      <td>PREPRIMARIA BILINGUE</td>\n",
              "      <td>OFICIAL</td>\n",
              "      <td>RURAL</td>\n",
              "      <td>CERRADA TEMPORALMENTE</td>\n",
              "      <td>BILINGUE</td>\n",
              "      <td>MATUTINA</td>\n",
              "      <td>DIARIO(REGULAR)</td>\n",
              "      <td>ALTA VERAPAZ</td>\n",
              "    </tr>\n",
              "    <tr>\n",
              "      <th>16-01-0002-41</th>\n",
              "      <td>16 004</td>\n",
              "      <td>ALTA_VERAPAZ</td>\n",
              "      <td>COBAN</td>\n",
              "      <td>COPB ANEXO A EORM</td>\n",
              "      <td>ALDEA SAN JOSE ICBOLAY</td>\n",
              "      <td>N/A</td>\n",
              "      <td>JUAN ANTONIO FIGUEROA CAAL</td>\n",
              "      <td>N/A</td>\n",
              "      <td>PREPRIMARIA BILINGUE</td>\n",
              "      <td>OFICIAL</td>\n",
              "      <td>RURAL</td>\n",
              "      <td>ABIERTA</td>\n",
              "      <td>BILINGUE</td>\n",
              "      <td>MATUTINA</td>\n",
              "      <td>DIARIO(REGULAR)</td>\n",
              "      <td>ALTA VERAPAZ</td>\n",
              "    </tr>\n",
              "    <tr>\n",
              "      <th>16-01-0003-41</th>\n",
              "      <td>16 004</td>\n",
              "      <td>ALTA_VERAPAZ</td>\n",
              "      <td>COBAN</td>\n",
              "      <td>COPB ANEXO A EORM</td>\n",
              "      <td>ALDEA SANTA LUCIA</td>\n",
              "      <td>N/A</td>\n",
              "      <td>JUAN ANTONIO FIGUEROA CAAL</td>\n",
              "      <td>N/A</td>\n",
              "      <td>PREPRIMARIA BILINGUE</td>\n",
              "      <td>OFICIAL</td>\n",
              "      <td>RURAL</td>\n",
              "      <td>ABIERTA</td>\n",
              "      <td>BILINGUE</td>\n",
              "      <td>MATUTINA</td>\n",
              "      <td>DIARIO(REGULAR)</td>\n",
              "      <td>ALTA VERAPAZ</td>\n",
              "    </tr>\n",
              "    <tr>\n",
              "      <th>16-01-0004-41</th>\n",
              "      <td>N/A</td>\n",
              "      <td>ALTA_VERAPAZ</td>\n",
              "      <td>COBAN</td>\n",
              "      <td>CPPB ANEXA A EPRM</td>\n",
              "      <td>ALDEA LAS TORTUGAS</td>\n",
              "      <td>N/A</td>\n",
              "      <td>N/A</td>\n",
              "      <td>N/A</td>\n",
              "      <td>PREPRIMARIA BILINGUE</td>\n",
              "      <td>PRIVADO</td>\n",
              "      <td>RURAL</td>\n",
              "      <td>CERRADA TEMPORALMENTE</td>\n",
              "      <td>BILINGUE</td>\n",
              "      <td>MATUTINA</td>\n",
              "      <td>DIARIO(REGULAR)</td>\n",
              "      <td>ALTA VERAPAZ</td>\n",
              "    </tr>\n",
              "    <tr>\n",
              "      <th>16-01-0005-41</th>\n",
              "      <td>16 002</td>\n",
              "      <td>ALTA_VERAPAZ</td>\n",
              "      <td>COBAN</td>\n",
              "      <td>COPB ANEXO A EORM</td>\n",
              "      <td>ALDEA SAN PABLO XUCANEB</td>\n",
              "      <td>45187639</td>\n",
              "      <td>MOISES ADRIAN LOPEZ PEREZ</td>\n",
              "      <td>N/A</td>\n",
              "      <td>PREPRIMARIA BILINGUE</td>\n",
              "      <td>OFICIAL</td>\n",
              "      <td>RURAL</td>\n",
              "      <td>ABIERTA</td>\n",
              "      <td>BILINGUE</td>\n",
              "      <td>MATUTINA</td>\n",
              "      <td>DIARIO(REGULAR)</td>\n",
              "      <td>ALTA VERAPAZ</td>\n",
              "    </tr>\n",
              "    <tr>\n",
              "      <th>...</th>\n",
              "      <td>...</td>\n",
              "      <td>...</td>\n",
              "      <td>...</td>\n",
              "      <td>...</td>\n",
              "      <td>...</td>\n",
              "      <td>...</td>\n",
              "      <td>...</td>\n",
              "      <td>...</td>\n",
              "      <td>...</td>\n",
              "      <td>...</td>\n",
              "      <td>...</td>\n",
              "      <td>...</td>\n",
              "      <td>...</td>\n",
              "      <td>...</td>\n",
              "      <td>...</td>\n",
              "      <td>...</td>\n",
              "    </tr>\n",
              "    <tr>\n",
              "      <th>01-17-0260-44</th>\n",
              "      <td>01 641</td>\n",
              "      <td>GUATEMALA</td>\n",
              "      <td>SAN MIGUEL PETAPA</td>\n",
              "      <td>LICEO RICHMOND</td>\n",
              "      <td>LOTE 26, MANZANA E, SECTOR 1, VILLA HERMOSA I</td>\n",
              "      <td>24826611</td>\n",
              "      <td>SERGIO ALEJANDRO VILLATORO VILLAGRAN</td>\n",
              "      <td>ELISALEN ESQUITE CAMPOS</td>\n",
              "      <td>PRIMARIA DE ADULTOS</td>\n",
              "      <td>PRIVADO</td>\n",
              "      <td>URBANA</td>\n",
              "      <td>ABIERTA</td>\n",
              "      <td>MONOLINGUE</td>\n",
              "      <td>DOBLE</td>\n",
              "      <td>FIN DE SEMANA</td>\n",
              "      <td>GUATEMALA SUR</td>\n",
              "    </tr>\n",
              "    <tr>\n",
              "      <th>01-17-7495-44</th>\n",
              "      <td>01 641</td>\n",
              "      <td>GUATEMALA</td>\n",
              "      <td>SAN MIGUEL PETAPA</td>\n",
              "      <td>CENTRO EDUCATIVO PERSONALIZADO NEZEEL</td>\n",
              "      <td>CALLE PRINCIPAL 2-18, ZONA 4</td>\n",
              "      <td>66318403</td>\n",
              "      <td>SERGIO ALEJANDRO VILLATORO VILLAGRAN</td>\n",
              "      <td>N/A</td>\n",
              "      <td>PRIMARIA DE ADULTOS</td>\n",
              "      <td>PRIVADO</td>\n",
              "      <td>URBANA</td>\n",
              "      <td>ABIERTA</td>\n",
              "      <td>MONOLINGUE</td>\n",
              "      <td>DOBLE</td>\n",
              "      <td>FIN DE SEMANA</td>\n",
              "      <td>GUATEMALA SUR</td>\n",
              "    </tr>\n",
              "    <tr>\n",
              "      <th>01-17-8114-44</th>\n",
              "      <td>01 406</td>\n",
              "      <td>GUATEMALA</td>\n",
              "      <td>SAN MIGUEL PETAPA</td>\n",
              "      <td>COLEGIO MIXTO NICTE</td>\n",
              "      <td>LOTE 45 MANZANA D SECTOR 10 PRADOS DE VILLA HE...</td>\n",
              "      <td>24481320</td>\n",
              "      <td>MIGUEL ALVARO RODRIGUEZ PORTILLO</td>\n",
              "      <td>N/A</td>\n",
              "      <td>PRIMARIA DE ADULTOS</td>\n",
              "      <td>PRIVADO</td>\n",
              "      <td>URBANA</td>\n",
              "      <td>CERRADA TEMPORALMENTE</td>\n",
              "      <td>MONOLINGUE</td>\n",
              "      <td>MATUTINA</td>\n",
              "      <td>FIN DE SEMANA</td>\n",
              "      <td>GUATEMALA SUR</td>\n",
              "    </tr>\n",
              "    <tr>\n",
              "      <th>01-17-9119-44</th>\n",
              "      <td>01 641</td>\n",
              "      <td>GUATEMALA</td>\n",
              "      <td>SAN MIGUEL PETAPA</td>\n",
              "      <td>LICEO EVANGELICO PRADOS DE VILLAHERMOSA</td>\n",
              "      <td>LOTES 7,8,9,10 Y 11 MANZANA B SECTOR 11 PRADOS...</td>\n",
              "      <td>24647039</td>\n",
              "      <td>SERGIO ALEJANDRO VILLATORO VILLAGRAN</td>\n",
              "      <td>N/A</td>\n",
              "      <td>PRIMARIA DE ADULTOS</td>\n",
              "      <td>PRIVADO</td>\n",
              "      <td>URBANA</td>\n",
              "      <td>ABIERTA</td>\n",
              "      <td>MONOLINGUE</td>\n",
              "      <td>DOBLE</td>\n",
              "      <td>FIN DE SEMANA</td>\n",
              "      <td>GUATEMALA SUR</td>\n",
              "    </tr>\n",
              "    <tr>\n",
              "      <th>138 Establecimientos encontrados</th>\n",
              "      <td>N/A</td>\n",
              "      <td>GUATEMALA</td>\n",
              "      <td>N/A</td>\n",
              "      <td>N/A</td>\n",
              "      <td>GUATEMALA</td>\n",
              "      <td>N/A</td>\n",
              "      <td>N/A</td>\n",
              "      <td>N/A</td>\n",
              "      <td>N/A</td>\n",
              "      <td>N/A</td>\n",
              "      <td>N/A</td>\n",
              "      <td>N/A</td>\n",
              "      <td>N/A</td>\n",
              "      <td>N/A</td>\n",
              "      <td>N/A</td>\n",
              "      <td>N/A</td>\n",
              "    </tr>\n",
              "  </tbody>\n",
              "</table>\n",
              "<p>65022 rows × 16 columns</p>\n",
              "</div>"
            ],
            "text/plain": [
              "0                                distrito  ...  departamental\n",
              "codigo                                     ...               \n",
              "16-01-0001-41                      16 002  ...   ALTA VERAPAZ\n",
              "16-01-0002-41                      16 004  ...   ALTA VERAPAZ\n",
              "16-01-0003-41                      16 004  ...   ALTA VERAPAZ\n",
              "16-01-0004-41                         N/A  ...   ALTA VERAPAZ\n",
              "16-01-0005-41                      16 002  ...   ALTA VERAPAZ\n",
              "...                                   ...  ...            ...\n",
              "01-17-0260-44                      01 641  ...  GUATEMALA SUR\n",
              "01-17-7495-44                      01 641  ...  GUATEMALA SUR\n",
              "01-17-8114-44                      01 406  ...  GUATEMALA SUR\n",
              "01-17-9119-44                      01 641  ...  GUATEMALA SUR\n",
              "138 Establecimientos encontrados      N/A  ...            N/A\n",
              "\n",
              "[65022 rows x 16 columns]"
            ]
          },
          "metadata": {
            "tags": []
          },
          "execution_count": 25
        }
      ]
    },
    {
      "cell_type": "code",
      "metadata": {
        "colab": {
          "base_uri": "https://localhost:8080/"
        },
        "id": "hEBVBh_dzobX",
        "outputId": "aa466b18-54b3-4a2b-e141-e9af4a65d930"
      },
      "source": [
        "# Eliminamos la ultima fila porque no brinda informacion sobre algun establecimiento\n",
        "df_pais = df_pais[:-1]\n",
        "df_pais.columns"
      ],
      "execution_count": null,
      "outputs": [
        {
          "output_type": "execute_result",
          "data": {
            "text/plain": [
              "Index(['codigo', 'distrito', 'departamento', 'municipio', 'establecimiento',\n",
              "       'direccion', 'telefono', 'supervisor', 'director', 'nivel', 'sector',\n",
              "       'area', 'status', 'modalidad', 'jornada', 'plan', 'departamental'],\n",
              "      dtype='object', name=0)"
            ]
          },
          "metadata": {
            "tags": []
          },
          "execution_count": 26
        }
      ]
    },
    {
      "cell_type": "code",
      "metadata": {
        "colab": {
          "base_uri": "https://localhost:8080/",
          "height": 458
        },
        "id": "gXB1or11JGLe",
        "outputId": "2a3ba0d7-5088-46c6-8394-19793da78f3f"
      },
      "source": [
        "df_pais.head()"
      ],
      "execution_count": null,
      "outputs": [
        {
          "output_type": "execute_result",
          "data": {
            "text/html": [
              "<div>\n",
              "<style scoped>\n",
              "    .dataframe tbody tr th:only-of-type {\n",
              "        vertical-align: middle;\n",
              "    }\n",
              "\n",
              "    .dataframe tbody tr th {\n",
              "        vertical-align: top;\n",
              "    }\n",
              "\n",
              "    .dataframe thead th {\n",
              "        text-align: right;\n",
              "    }\n",
              "</style>\n",
              "<table border=\"1\" class=\"dataframe\">\n",
              "  <thead>\n",
              "    <tr style=\"text-align: right;\">\n",
              "      <th></th>\n",
              "      <th>codigo</th>\n",
              "      <th>distrito</th>\n",
              "      <th>departamento</th>\n",
              "      <th>municipio</th>\n",
              "      <th>establecimiento</th>\n",
              "      <th>direccion</th>\n",
              "      <th>telefono</th>\n",
              "      <th>supervisor</th>\n",
              "      <th>director</th>\n",
              "      <th>nivel</th>\n",
              "      <th>sector</th>\n",
              "      <th>area</th>\n",
              "      <th>status</th>\n",
              "      <th>modalidad</th>\n",
              "      <th>jornada</th>\n",
              "      <th>plan</th>\n",
              "      <th>departamental</th>\n",
              "    </tr>\n",
              "  </thead>\n",
              "  <tbody>\n",
              "    <tr>\n",
              "      <th>0</th>\n",
              "      <td>16-01-0001-41</td>\n",
              "      <td>16 002</td>\n",
              "      <td>ALTA_VERAPAZ</td>\n",
              "      <td>COBAN</td>\n",
              "      <td>COPB ANEXO A EORM</td>\n",
              "      <td>ALDEA SAN PEDRITO</td>\n",
              "      <td>N/A</td>\n",
              "      <td>MOISES ADRIAN LOPEZ PEREZ</td>\n",
              "      <td>N/A</td>\n",
              "      <td>PREPRIMARIA BILINGUE</td>\n",
              "      <td>OFICIAL</td>\n",
              "      <td>RURAL</td>\n",
              "      <td>CERRADA TEMPORALMENTE</td>\n",
              "      <td>BILINGUE</td>\n",
              "      <td>MATUTINA</td>\n",
              "      <td>DIARIO(REGULAR)</td>\n",
              "      <td>ALTA VERAPAZ</td>\n",
              "    </tr>\n",
              "    <tr>\n",
              "      <th>1</th>\n",
              "      <td>16-01-0002-41</td>\n",
              "      <td>16 004</td>\n",
              "      <td>ALTA_VERAPAZ</td>\n",
              "      <td>COBAN</td>\n",
              "      <td>COPB ANEXO A EORM</td>\n",
              "      <td>ALDEA SAN JOSE ICBOLAY</td>\n",
              "      <td>N/A</td>\n",
              "      <td>JUAN ANTONIO FIGUEROA CAAL</td>\n",
              "      <td>N/A</td>\n",
              "      <td>PREPRIMARIA BILINGUE</td>\n",
              "      <td>OFICIAL</td>\n",
              "      <td>RURAL</td>\n",
              "      <td>ABIERTA</td>\n",
              "      <td>BILINGUE</td>\n",
              "      <td>MATUTINA</td>\n",
              "      <td>DIARIO(REGULAR)</td>\n",
              "      <td>ALTA VERAPAZ</td>\n",
              "    </tr>\n",
              "    <tr>\n",
              "      <th>2</th>\n",
              "      <td>16-01-0003-41</td>\n",
              "      <td>16 004</td>\n",
              "      <td>ALTA_VERAPAZ</td>\n",
              "      <td>COBAN</td>\n",
              "      <td>COPB ANEXO A EORM</td>\n",
              "      <td>ALDEA SANTA LUCIA</td>\n",
              "      <td>N/A</td>\n",
              "      <td>JUAN ANTONIO FIGUEROA CAAL</td>\n",
              "      <td>N/A</td>\n",
              "      <td>PREPRIMARIA BILINGUE</td>\n",
              "      <td>OFICIAL</td>\n",
              "      <td>RURAL</td>\n",
              "      <td>ABIERTA</td>\n",
              "      <td>BILINGUE</td>\n",
              "      <td>MATUTINA</td>\n",
              "      <td>DIARIO(REGULAR)</td>\n",
              "      <td>ALTA VERAPAZ</td>\n",
              "    </tr>\n",
              "    <tr>\n",
              "      <th>3</th>\n",
              "      <td>16-01-0004-41</td>\n",
              "      <td>N/A</td>\n",
              "      <td>ALTA_VERAPAZ</td>\n",
              "      <td>COBAN</td>\n",
              "      <td>CPPB ANEXA A EPRM</td>\n",
              "      <td>ALDEA LAS TORTUGAS</td>\n",
              "      <td>N/A</td>\n",
              "      <td>N/A</td>\n",
              "      <td>N/A</td>\n",
              "      <td>PREPRIMARIA BILINGUE</td>\n",
              "      <td>PRIVADO</td>\n",
              "      <td>RURAL</td>\n",
              "      <td>CERRADA TEMPORALMENTE</td>\n",
              "      <td>BILINGUE</td>\n",
              "      <td>MATUTINA</td>\n",
              "      <td>DIARIO(REGULAR)</td>\n",
              "      <td>ALTA VERAPAZ</td>\n",
              "    </tr>\n",
              "    <tr>\n",
              "      <th>4</th>\n",
              "      <td>16-01-0005-41</td>\n",
              "      <td>16 002</td>\n",
              "      <td>ALTA_VERAPAZ</td>\n",
              "      <td>COBAN</td>\n",
              "      <td>COPB ANEXO A EORM</td>\n",
              "      <td>ALDEA SAN PABLO XUCANEB</td>\n",
              "      <td>45187639</td>\n",
              "      <td>MOISES ADRIAN LOPEZ PEREZ</td>\n",
              "      <td>N/A</td>\n",
              "      <td>PREPRIMARIA BILINGUE</td>\n",
              "      <td>OFICIAL</td>\n",
              "      <td>RURAL</td>\n",
              "      <td>ABIERTA</td>\n",
              "      <td>BILINGUE</td>\n",
              "      <td>MATUTINA</td>\n",
              "      <td>DIARIO(REGULAR)</td>\n",
              "      <td>ALTA VERAPAZ</td>\n",
              "    </tr>\n",
              "  </tbody>\n",
              "</table>\n",
              "</div>"
            ],
            "text/plain": [
              "0         codigo distrito  ...             plan departamental\n",
              "0  16-01-0001-41   16 002  ...  DIARIO(REGULAR)  ALTA VERAPAZ\n",
              "1  16-01-0002-41   16 004  ...  DIARIO(REGULAR)  ALTA VERAPAZ\n",
              "2  16-01-0003-41   16 004  ...  DIARIO(REGULAR)  ALTA VERAPAZ\n",
              "3  16-01-0004-41      N/A  ...  DIARIO(REGULAR)  ALTA VERAPAZ\n",
              "4  16-01-0005-41   16 002  ...  DIARIO(REGULAR)  ALTA VERAPAZ\n",
              "\n",
              "[5 rows x 17 columns]"
            ]
          },
          "metadata": {
            "tags": []
          },
          "execution_count": 27
        }
      ]
    },
    {
      "cell_type": "code",
      "metadata": {
        "id": "izfLbV8BY7kz"
      },
      "source": [
        "df_pais.to_csv(\"Establecimientos_de_Guateamala_Limpios.csv\")"
      ],
      "execution_count": null,
      "outputs": []
    },
    {
      "cell_type": "code",
      "metadata": {
        "id": "KU0P1r96ZcpJ"
      },
      "source": [
        ""
      ],
      "execution_count": null,
      "outputs": []
    }
  ]
}